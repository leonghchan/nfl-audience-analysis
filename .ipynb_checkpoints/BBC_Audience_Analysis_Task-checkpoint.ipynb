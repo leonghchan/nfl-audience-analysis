{
 "cells": [
  {
   "cell_type": "markdown",
   "metadata": {},
   "source": [
    "# NFL Audience Analysis"
   ]
  },
  {
   "cell_type": "markdown",
   "metadata": {},
   "source": [
    "## Data assessment:\n",
    "- Duplicates\n",
    "- Unique values\n",
    "- Null values \n",
    "- Data types "
   ]
  },
  {
   "cell_type": "markdown",
   "metadata": {},
   "source": [
    "**Importing modules**"
   ]
  },
  {
   "cell_type": "code",
   "execution_count": 1,
   "metadata": {},
   "outputs": [],
   "source": [
    "import pandas as pd\n",
    "import numpy as np\n",
    "import matplotlib.pyplot as plt\n",
    "import seaborn as sns\n",
    "\n",
    "%matplotlib inline\n",
    "sns.set_style('darkgrid')"
   ]
  },
  {
   "cell_type": "markdown",
   "metadata": {},
   "source": [
    "**Load Data**"
   ]
  },
  {
   "cell_type": "code",
   "execution_count": 2,
   "metadata": {},
   "outputs": [],
   "source": [
    "# raw_csv = pd.read_csv(\"nfl_draft_summary_table.csv\")\n",
    "# df = raw_csv.copy()\n",
    "# df.head()\n",
    "\n",
    "df = pd.read_csv(\"nfl_draft_summary_table.csv\")"
   ]
  },
  {
   "cell_type": "code",
   "execution_count": 3,
   "metadata": {},
   "outputs": [
    {
     "name": "stdout",
     "output_type": "stream",
     "text": [
      "<class 'pandas.core.frame.DataFrame'>\n",
      "RangeIndex: 589819 entries, 0 to 589818\n",
      "Data columns (total 18 columns):\n",
      " #   Column                         Non-Null Count   Dtype  \n",
      "---  ------                         --------------   -----  \n",
      " 0   user_id                        589819 non-null  object \n",
      " 1   app_type                       586417 non-null  object \n",
      " 2   device_type                    589819 non-null  object \n",
      " 3   geo_country_site_visited       589819 non-null  object \n",
      " 4   gender                         460430 non-null  object \n",
      " 5   nation                         566640 non-null  object \n",
      " 6   barb_region                    566837 non-null  object \n",
      " 7   age_range                      484109 non-null  object \n",
      " 8   number_of_visits_to_sport      589819 non-null  int64  \n",
      " 9   number_of_sport_page_views     578918 non-null  float64\n",
      " 10  number_of_sport_articles_read  589819 non-null  int64  \n",
      " 11  number_of_sport_clips_watched  589819 non-null  int64  \n",
      " 12  has_visited_homepage           589819 non-null  bool   \n",
      " 13  has_visited_news               589819 non-null  bool   \n",
      " 14  has_visited_iplayer            589819 non-null  bool   \n",
      " 15  videos_watched_on_iplayer      589819 non-null  int64  \n",
      " 16  has_visited_sounds             589819 non-null  bool   \n",
      " 17  shows_listened_to_on_sounds    589819 non-null  int64  \n",
      "dtypes: bool(4), float64(1), int64(5), object(8)\n",
      "memory usage: 65.2+ MB\n"
     ]
    }
   ],
   "source": [
    "df.info()"
   ]
  },
  {
   "cell_type": "code",
   "execution_count": 4,
   "metadata": {},
   "outputs": [
    {
     "data": {
      "text/plain": [
       "user_id                           object\n",
       "app_type                          object\n",
       "device_type                       object\n",
       "geo_country_site_visited          object\n",
       "gender                            object\n",
       "nation                            object\n",
       "barb_region                       object\n",
       "age_range                         object\n",
       "number_of_visits_to_sport          int64\n",
       "number_of_sport_page_views       float64\n",
       "number_of_sport_articles_read      int64\n",
       "number_of_sport_clips_watched      int64\n",
       "has_visited_homepage                bool\n",
       "has_visited_news                    bool\n",
       "has_visited_iplayer                 bool\n",
       "videos_watched_on_iplayer          int64\n",
       "has_visited_sounds                  bool\n",
       "shows_listened_to_on_sounds        int64\n",
       "dtype: object"
      ]
     },
     "execution_count": 4,
     "metadata": {},
     "output_type": "execute_result"
    }
   ],
   "source": [
    "df.dtypes"
   ]
  },
  {
   "cell_type": "markdown",
   "metadata": {},
   "source": [
    "**Filling null values with 'NA' string and converting categorical columns to category datatype**"
   ]
  },
  {
   "cell_type": "code",
   "execution_count": 5,
   "metadata": {},
   "outputs": [
    {
     "data": {
      "text/plain": [
       "user_id                               0\n",
       "app_type                           3402\n",
       "device_type                           0\n",
       "geo_country_site_visited              0\n",
       "gender                           129389\n",
       "nation                            23179\n",
       "barb_region                       22982\n",
       "age_range                        105710\n",
       "number_of_visits_to_sport             0\n",
       "number_of_sport_page_views        10901\n",
       "number_of_sport_articles_read         0\n",
       "number_of_sport_clips_watched         0\n",
       "has_visited_homepage                  0\n",
       "has_visited_news                      0\n",
       "has_visited_iplayer                   0\n",
       "videos_watched_on_iplayer             0\n",
       "has_visited_sounds                    0\n",
       "shows_listened_to_on_sounds           0\n",
       "dtype: int64"
      ]
     },
     "execution_count": 5,
     "metadata": {},
     "output_type": "execute_result"
    }
   ],
   "source": [
    "df.isnull().sum()"
   ]
  },
  {
   "cell_type": "code",
   "execution_count": 6,
   "metadata": {},
   "outputs": [
    {
     "name": "stdout",
     "output_type": "stream",
     "text": [
      "---- user_id ---\n",
      "0\n",
      "---- app_type ---\n",
      "3402\n",
      "---- device_type ---\n",
      "0\n",
      "---- geo_country_site_visited ---\n",
      "0\n",
      "---- gender ---\n",
      "129389\n",
      "---- nation ---\n",
      "23179\n",
      "---- barb_region ---\n",
      "22982\n",
      "---- age_range ---\n",
      "105710\n",
      "---- number_of_visits_to_sport ---\n",
      "0\n",
      "---- number_of_sport_page_views ---\n",
      "10901\n",
      "---- number_of_sport_articles_read ---\n",
      "0\n",
      "---- number_of_sport_clips_watched ---\n",
      "0\n",
      "---- has_visited_homepage ---\n",
      "0\n",
      "---- has_visited_news ---\n",
      "0\n",
      "---- has_visited_iplayer ---\n",
      "0\n",
      "---- videos_watched_on_iplayer ---\n",
      "0\n",
      "---- has_visited_sounds ---\n",
      "0\n",
      "---- shows_listened_to_on_sounds ---\n",
      "0\n"
     ]
    }
   ],
   "source": [
    "for c in df.columns:\n",
    "    print(\"---- %s ---\" % c)\n",
    "    print(df[c].isnull().sum())"
   ]
  },
  {
   "cell_type": "code",
   "execution_count": 7,
   "metadata": {},
   "outputs": [
    {
     "name": "stdout",
     "output_type": "stream",
     "text": [
      "---- user_id ---\n",
      "0.0\n",
      "---- app_type ---\n",
      "0.005767871160474654\n",
      "---- device_type ---\n",
      "0.0\n",
      "---- geo_country_site_visited ---\n",
      "0.0\n",
      "---- gender ---\n",
      "0.21937068829590095\n",
      "---- nation ---\n",
      "0.03929849665744915\n",
      "---- barb_region ---\n",
      "0.03896449588772149\n",
      "---- age_range ---\n",
      "0.17922447394878768\n",
      "---- number_of_visits_to_sport ---\n",
      "0.0\n",
      "---- number_of_sport_page_views ---\n",
      "0.018481941070057087\n",
      "---- number_of_sport_articles_read ---\n",
      "0.0\n",
      "---- number_of_sport_clips_watched ---\n",
      "0.0\n",
      "---- has_visited_homepage ---\n",
      "0.0\n",
      "---- has_visited_news ---\n",
      "0.0\n",
      "---- has_visited_iplayer ---\n",
      "0.0\n",
      "---- videos_watched_on_iplayer ---\n",
      "0.0\n",
      "---- has_visited_sounds ---\n",
      "0.0\n",
      "---- shows_listened_to_on_sounds ---\n",
      "0.0\n"
     ]
    }
   ],
   "source": [
    "# % of null values in each column.\n",
    "\n",
    "for c in df.columns:\n",
    "    print(\"---- %s ---\" % c)\n",
    "    print(df[c].isnull().sum()/len(df.index))"
   ]
  },
  {
   "cell_type": "markdown",
   "metadata": {},
   "source": [
    "- There are a significant number of null values for the gender category with around 21%. Age range is the column wtih the second most null values with around 17%. "
   ]
  },
  {
   "cell_type": "code",
   "execution_count": 8,
   "metadata": {},
   "outputs": [],
   "source": [
    "df.fillna('NA', inplace = True)\n",
    "df['number_of_sport_page_views'] = pd.to_numeric(df['number_of_sport_page_views'], errors = 'coerce', downcast = 'integer')"
   ]
  },
  {
   "cell_type": "code",
   "execution_count": 9,
   "metadata": {},
   "outputs": [],
   "source": [
    "categorical_cols = ['app_type', 'device_type', 'geo_country_site_visited', 'gender', 'nation', 'barb_region', 'age_range']\n",
    "df[categorical_cols] = df[categorical_cols].astype('category')"
   ]
  },
  {
   "cell_type": "markdown",
   "metadata": {},
   "source": [
    "**Excluding null values from the dataframe for each column with null values**\n",
    "\n",
    "- app_type\n",
    "- age range\n",
    "- gender\n",
    "- nation\n",
    "- barb_region\n",
    "- number_of_sport_page_views"
   ]
  },
  {
   "cell_type": "code",
   "execution_count": 10,
   "metadata": {},
   "outputs": [],
   "source": [
    "exclude_na = ['NA']"
   ]
  },
  {
   "cell_type": "code",
   "execution_count": 11,
   "metadata": {},
   "outputs": [
    {
     "data": {
      "text/plain": [
       "0"
      ]
     },
     "execution_count": 11,
     "metadata": {},
     "output_type": "execute_result"
    }
   ],
   "source": [
    "df_app_type = df[~df['app_type'].isin(exclude_na)]\n",
    "\n",
    "len(df_app_type.loc[df['app_type'] == 'NA'])"
   ]
  },
  {
   "cell_type": "code",
   "execution_count": 12,
   "metadata": {},
   "outputs": [
    {
     "data": {
      "text/html": [
       "<div>\n",
       "<style scoped>\n",
       "    .dataframe tbody tr th:only-of-type {\n",
       "        vertical-align: middle;\n",
       "    }\n",
       "\n",
       "    .dataframe tbody tr th {\n",
       "        vertical-align: top;\n",
       "    }\n",
       "\n",
       "    .dataframe thead th {\n",
       "        text-align: right;\n",
       "    }\n",
       "</style>\n",
       "<table border=\"1\" class=\"dataframe\">\n",
       "  <thead>\n",
       "    <tr style=\"text-align: right;\">\n",
       "      <th></th>\n",
       "      <th>user_id</th>\n",
       "      <th>app_type</th>\n",
       "      <th>device_type</th>\n",
       "      <th>geo_country_site_visited</th>\n",
       "      <th>gender</th>\n",
       "      <th>nation</th>\n",
       "      <th>barb_region</th>\n",
       "      <th>age_range</th>\n",
       "      <th>number_of_visits_to_sport</th>\n",
       "      <th>number_of_sport_page_views</th>\n",
       "      <th>number_of_sport_articles_read</th>\n",
       "      <th>number_of_sport_clips_watched</th>\n",
       "      <th>has_visited_homepage</th>\n",
       "      <th>has_visited_news</th>\n",
       "      <th>has_visited_iplayer</th>\n",
       "      <th>videos_watched_on_iplayer</th>\n",
       "      <th>has_visited_sounds</th>\n",
       "      <th>shows_listened_to_on_sounds</th>\n",
       "    </tr>\n",
       "  </thead>\n",
       "  <tbody>\n",
       "  </tbody>\n",
       "</table>\n",
       "</div>"
      ],
      "text/plain": [
       "Empty DataFrame\n",
       "Columns: [user_id, app_type, device_type, geo_country_site_visited, gender, nation, barb_region, age_range, number_of_visits_to_sport, number_of_sport_page_views, number_of_sport_articles_read, number_of_sport_clips_watched, has_visited_homepage, has_visited_news, has_visited_iplayer, videos_watched_on_iplayer, has_visited_sounds, shows_listened_to_on_sounds]\n",
       "Index: []"
      ]
     },
     "execution_count": 12,
     "metadata": {},
     "output_type": "execute_result"
    }
   ],
   "source": [
    "# df_age_range is df but excluding rows with values in exclude_age_range in the age_range column. \n",
    "\n",
    "exclude_age_range = ['NA', 'Nov-15', '06-Oct']\n",
    "\n",
    "df_age_range = df[~df['age_range'].isin(exclude_age_range)]\n",
    "df_age_range.head()\n",
    "\n",
    "len(df_age_range.loc[df['age_range'] == 'NA'])\n",
    "\n",
    "df_age_range.loc[df['age_range'] == 'NA']\n",
    "\n",
    "# mask = df['age_range'].isin(exclude_age_range)\n",
    "# df_age_range = df.loc[~mask]\n",
    "\n",
    "# len(df_age_range.loc[df['age_range'] == 'NA'])"
   ]
  },
  {
   "cell_type": "code",
   "execution_count": 13,
   "metadata": {},
   "outputs": [
    {
     "data": {
      "text/html": [
       "<div>\n",
       "<style scoped>\n",
       "    .dataframe tbody tr th:only-of-type {\n",
       "        vertical-align: middle;\n",
       "    }\n",
       "\n",
       "    .dataframe tbody tr th {\n",
       "        vertical-align: top;\n",
       "    }\n",
       "\n",
       "    .dataframe thead th {\n",
       "        text-align: right;\n",
       "    }\n",
       "</style>\n",
       "<table border=\"1\" class=\"dataframe\">\n",
       "  <thead>\n",
       "    <tr style=\"text-align: right;\">\n",
       "      <th></th>\n",
       "      <th>user_id</th>\n",
       "      <th>app_type</th>\n",
       "      <th>device_type</th>\n",
       "      <th>geo_country_site_visited</th>\n",
       "      <th>gender</th>\n",
       "      <th>nation</th>\n",
       "      <th>barb_region</th>\n",
       "      <th>age_range</th>\n",
       "      <th>number_of_visits_to_sport</th>\n",
       "      <th>number_of_sport_page_views</th>\n",
       "      <th>number_of_sport_articles_read</th>\n",
       "      <th>number_of_sport_clips_watched</th>\n",
       "      <th>has_visited_homepage</th>\n",
       "      <th>has_visited_news</th>\n",
       "      <th>has_visited_iplayer</th>\n",
       "      <th>videos_watched_on_iplayer</th>\n",
       "      <th>has_visited_sounds</th>\n",
       "      <th>shows_listened_to_on_sounds</th>\n",
       "    </tr>\n",
       "  </thead>\n",
       "  <tbody>\n",
       "    <tr>\n",
       "      <th>1</th>\n",
       "      <td>fe187ee047713c51bc8ea0bf3cd3c2a2</td>\n",
       "      <td>responsive</td>\n",
       "      <td>Desktop</td>\n",
       "      <td>United Kingdom</td>\n",
       "      <td>male</td>\n",
       "      <td>Scotland</td>\n",
       "      <td>Scotland</td>\n",
       "      <td>30-34</td>\n",
       "      <td>1</td>\n",
       "      <td>1.0</td>\n",
       "      <td>1</td>\n",
       "      <td>1</td>\n",
       "      <td>True</td>\n",
       "      <td>True</td>\n",
       "      <td>False</td>\n",
       "      <td>0</td>\n",
       "      <td>False</td>\n",
       "      <td>0</td>\n",
       "    </tr>\n",
       "    <tr>\n",
       "      <th>3</th>\n",
       "      <td>e6e400671473235522e974d301397823</td>\n",
       "      <td>mobile-app</td>\n",
       "      <td>Smartphone</td>\n",
       "      <td>United Kingdom</td>\n",
       "      <td>male</td>\n",
       "      <td>England</td>\n",
       "      <td>London</td>\n",
       "      <td>30-34</td>\n",
       "      <td>2</td>\n",
       "      <td>2.0</td>\n",
       "      <td>2</td>\n",
       "      <td>0</td>\n",
       "      <td>False</td>\n",
       "      <td>True</td>\n",
       "      <td>False</td>\n",
       "      <td>0</td>\n",
       "      <td>False</td>\n",
       "      <td>0</td>\n",
       "    </tr>\n",
       "    <tr>\n",
       "      <th>5</th>\n",
       "      <td>eeb22c8259ce42bcb177009f9fe29fa7</td>\n",
       "      <td>mobile-app</td>\n",
       "      <td>Smartphone</td>\n",
       "      <td>United Kingdom</td>\n",
       "      <td>male</td>\n",
       "      <td>Scotland</td>\n",
       "      <td>Scotland</td>\n",
       "      <td>45-49</td>\n",
       "      <td>1</td>\n",
       "      <td>2.0</td>\n",
       "      <td>1</td>\n",
       "      <td>0</td>\n",
       "      <td>False</td>\n",
       "      <td>True</td>\n",
       "      <td>True</td>\n",
       "      <td>12</td>\n",
       "      <td>True</td>\n",
       "      <td>1</td>\n",
       "    </tr>\n",
       "    <tr>\n",
       "      <th>6</th>\n",
       "      <td>4a41f266d2b4fd76a507c714dc645137</td>\n",
       "      <td>mobile-app</td>\n",
       "      <td>Smartphone</td>\n",
       "      <td>United Kingdom</td>\n",
       "      <td>prefer not to say</td>\n",
       "      <td>England</td>\n",
       "      <td>Yorkshire and Lincolnshire</td>\n",
       "      <td>30-34</td>\n",
       "      <td>1</td>\n",
       "      <td>1.0</td>\n",
       "      <td>1</td>\n",
       "      <td>0</td>\n",
       "      <td>False</td>\n",
       "      <td>False</td>\n",
       "      <td>True</td>\n",
       "      <td>2</td>\n",
       "      <td>True</td>\n",
       "      <td>0</td>\n",
       "    </tr>\n",
       "    <tr>\n",
       "      <th>7</th>\n",
       "      <td>c2eba81ce89e17008bf0cfeed073de9e</td>\n",
       "      <td>responsive</td>\n",
       "      <td>Desktop</td>\n",
       "      <td>United Kingdom</td>\n",
       "      <td>female</td>\n",
       "      <td>England</td>\n",
       "      <td>South</td>\n",
       "      <td>50-54</td>\n",
       "      <td>1</td>\n",
       "      <td>2.0</td>\n",
       "      <td>2</td>\n",
       "      <td>2</td>\n",
       "      <td>False</td>\n",
       "      <td>True</td>\n",
       "      <td>True</td>\n",
       "      <td>1</td>\n",
       "      <td>False</td>\n",
       "      <td>0</td>\n",
       "    </tr>\n",
       "  </tbody>\n",
       "</table>\n",
       "</div>"
      ],
      "text/plain": [
       "                            user_id    app_type device_type  \\\n",
       "1  fe187ee047713c51bc8ea0bf3cd3c2a2  responsive     Desktop   \n",
       "3  e6e400671473235522e974d301397823  mobile-app  Smartphone   \n",
       "5  eeb22c8259ce42bcb177009f9fe29fa7  mobile-app  Smartphone   \n",
       "6  4a41f266d2b4fd76a507c714dc645137  mobile-app  Smartphone   \n",
       "7  c2eba81ce89e17008bf0cfeed073de9e  responsive     Desktop   \n",
       "\n",
       "  geo_country_site_visited             gender    nation  \\\n",
       "1           United Kingdom               male  Scotland   \n",
       "3           United Kingdom               male   England   \n",
       "5           United Kingdom               male  Scotland   \n",
       "6           United Kingdom  prefer not to say   England   \n",
       "7           United Kingdom             female   England   \n",
       "\n",
       "                  barb_region age_range  number_of_visits_to_sport  \\\n",
       "1                    Scotland     30-34                          1   \n",
       "3                      London     30-34                          2   \n",
       "5                    Scotland     45-49                          1   \n",
       "6  Yorkshire and Lincolnshire     30-34                          1   \n",
       "7                       South     50-54                          1   \n",
       "\n",
       "   number_of_sport_page_views  number_of_sport_articles_read  \\\n",
       "1                         1.0                              1   \n",
       "3                         2.0                              2   \n",
       "5                         2.0                              1   \n",
       "6                         1.0                              1   \n",
       "7                         2.0                              2   \n",
       "\n",
       "   number_of_sport_clips_watched  has_visited_homepage  has_visited_news  \\\n",
       "1                              1                  True              True   \n",
       "3                              0                 False              True   \n",
       "5                              0                 False              True   \n",
       "6                              0                 False             False   \n",
       "7                              2                 False              True   \n",
       "\n",
       "   has_visited_iplayer  videos_watched_on_iplayer  has_visited_sounds  \\\n",
       "1                False                          0               False   \n",
       "3                False                          0               False   \n",
       "5                 True                         12                True   \n",
       "6                 True                          2                True   \n",
       "7                 True                          1               False   \n",
       "\n",
       "   shows_listened_to_on_sounds  \n",
       "1                            0  \n",
       "3                            0  \n",
       "5                            1  \n",
       "6                            0  \n",
       "7                            0  "
      ]
     },
     "execution_count": 13,
     "metadata": {},
     "output_type": "execute_result"
    }
   ],
   "source": [
    "exclude_na = ['NA']\n",
    "\n",
    "df_gender = df[~df['gender'].isin(exclude_na)]\n",
    "df_gender.head()\n",
    "\n",
    "# df['gender'].unique()\n",
    "# len(df_gender.loc[df['gender'] == 'NA'])"
   ]
  },
  {
   "cell_type": "code",
   "execution_count": 14,
   "metadata": {},
   "outputs": [
    {
     "data": {
      "text/plain": [
       "user_id                            object\n",
       "app_type                         category\n",
       "device_type                      category\n",
       "geo_country_site_visited         category\n",
       "gender                           category\n",
       "nation                           category\n",
       "barb_region                      category\n",
       "age_range                        category\n",
       "number_of_visits_to_sport           int64\n",
       "number_of_sport_page_views        float64\n",
       "number_of_sport_articles_read       int64\n",
       "number_of_sport_clips_watched       int64\n",
       "has_visited_homepage                 bool\n",
       "has_visited_news                     bool\n",
       "has_visited_iplayer                  bool\n",
       "videos_watched_on_iplayer           int64\n",
       "has_visited_sounds                   bool\n",
       "shows_listened_to_on_sounds         int64\n",
       "dtype: object"
      ]
     },
     "execution_count": 14,
     "metadata": {},
     "output_type": "execute_result"
    }
   ],
   "source": [
    "df.dtypes"
   ]
  },
  {
   "cell_type": "code",
   "execution_count": 15,
   "metadata": {},
   "outputs": [
    {
     "name": "stdout",
     "output_type": "stream",
     "text": [
      "---- app_type ---\n",
      "responsive    403576\n",
      "mobile-app    182822\n",
      "NA              3402\n",
      "amp               19\n",
      "Name: app_type, dtype: int64\n",
      "---- device_type ---\n",
      "Smartphone    328642\n",
      "Desktop       227165\n",
      "Tablet         33898\n",
      "Smart TV          70\n",
      "Console           44\n",
      "Name: device_type, dtype: int64\n",
      "---- geo_country_site_visited ---\n",
      "United Kingdom        585591\n",
      "Jersey                  1074\n",
      "Isle of Man              732\n",
      "Guernsey                 588\n",
      "United States            208\n",
      "                       ...  \n",
      "Georgia                    1\n",
      "Gambia                     1\n",
      "Dominican Republic         1\n",
      "Curacao                    1\n",
      "Afghanistan                1\n",
      "Name: geo_country_site_visited, Length: 104, dtype: int64\n",
      "---- gender ---\n",
      "male                 385149\n",
      "NA                   129389\n",
      "female                48156\n",
      "prefer not to say     24913\n",
      "other                  2212\n",
      "Name: gender, dtype: int64\n",
      "---- nation ---\n",
      "England             486541\n",
      "Scotland             46178\n",
      "NA                   23179\n",
      "Wales                22775\n",
      "Northern Ireland     11146\n",
      "Name: nation, dtype: int64\n",
      "---- barb_region ---\n",
      "London                        136854\n",
      "South                          60003\n",
      "North West                     50652\n",
      "Midlands West                  46303\n",
      "Scotland                       46189\n",
      "East of England                42682\n",
      "Yorkshire and Lincolnshire     41371\n",
      "West                           28731\n",
      "South East                     24096\n",
      "NA                             22982\n",
      "Wales                          22766\n",
      "North East and Cumbria         22073\n",
      "Midlands East                  18906\n",
      "South West                     15056\n",
      "Ulster                         11155\n",
      "Name: barb_region, dtype: int64\n",
      "---- age_range ---\n",
      "NA        105710\n",
      "40-44      60115\n",
      "45-49      57666\n",
      "50-54      56429\n",
      "35-39      54800\n",
      "55-59      51944\n",
      "30-34      50828\n",
      "60-64      39918\n",
      ">70        33627\n",
      "25-29      31260\n",
      "65-70      31123\n",
      "20-24      12518\n",
      "16-19       2725\n",
      "Nov-15       802\n",
      "06-Oct       190\n",
      "0-5          164\n",
      "Name: age_range, dtype: int64\n"
     ]
    }
   ],
   "source": [
    "# Check for anomalies in the categorical columns. \n",
    "\n",
    "# column_val_counts = ['age', 'gender']\n",
    "\n",
    "for column in categorical_cols:\n",
    "    print(\"---- %s ---\" % column)\n",
    "    print(df[column].value_counts())"
   ]
  },
  {
   "cell_type": "markdown",
   "metadata": {},
   "source": [
    "No erroneous categories are identified. "
   ]
  },
  {
   "cell_type": "markdown",
   "metadata": {},
   "source": [
    "**Overview of the dataset**"
   ]
  },
  {
   "cell_type": "code",
   "execution_count": 16,
   "metadata": {},
   "outputs": [
    {
     "data": {
      "text/html": [
       "<div>\n",
       "<style scoped>\n",
       "    .dataframe tbody tr th:only-of-type {\n",
       "        vertical-align: middle;\n",
       "    }\n",
       "\n",
       "    .dataframe tbody tr th {\n",
       "        vertical-align: top;\n",
       "    }\n",
       "\n",
       "    .dataframe thead th {\n",
       "        text-align: right;\n",
       "    }\n",
       "</style>\n",
       "<table border=\"1\" class=\"dataframe\">\n",
       "  <thead>\n",
       "    <tr style=\"text-align: right;\">\n",
       "      <th></th>\n",
       "      <th>number_of_visits_to_sport</th>\n",
       "      <th>number_of_sport_page_views</th>\n",
       "      <th>number_of_sport_articles_read</th>\n",
       "      <th>number_of_sport_clips_watched</th>\n",
       "      <th>videos_watched_on_iplayer</th>\n",
       "      <th>shows_listened_to_on_sounds</th>\n",
       "    </tr>\n",
       "  </thead>\n",
       "  <tbody>\n",
       "    <tr>\n",
       "      <th>count</th>\n",
       "      <td>589819.000000</td>\n",
       "      <td>578918.000000</td>\n",
       "      <td>589819.000000</td>\n",
       "      <td>589819.000000</td>\n",
       "      <td>589819.000000</td>\n",
       "      <td>589819.000000</td>\n",
       "    </tr>\n",
       "    <tr>\n",
       "      <th>mean</th>\n",
       "      <td>1.535749</td>\n",
       "      <td>1.927394</td>\n",
       "      <td>1.582485</td>\n",
       "      <td>0.476602</td>\n",
       "      <td>2.343766</td>\n",
       "      <td>1.229525</td>\n",
       "    </tr>\n",
       "    <tr>\n",
       "      <th>std</th>\n",
       "      <td>1.178934</td>\n",
       "      <td>2.053704</td>\n",
       "      <td>1.180393</td>\n",
       "      <td>0.842155</td>\n",
       "      <td>7.490207</td>\n",
       "      <td>4.289185</td>\n",
       "    </tr>\n",
       "    <tr>\n",
       "      <th>min</th>\n",
       "      <td>1.000000</td>\n",
       "      <td>1.000000</td>\n",
       "      <td>0.000000</td>\n",
       "      <td>0.000000</td>\n",
       "      <td>0.000000</td>\n",
       "      <td>0.000000</td>\n",
       "    </tr>\n",
       "    <tr>\n",
       "      <th>25%</th>\n",
       "      <td>1.000000</td>\n",
       "      <td>1.000000</td>\n",
       "      <td>1.000000</td>\n",
       "      <td>0.000000</td>\n",
       "      <td>0.000000</td>\n",
       "      <td>0.000000</td>\n",
       "    </tr>\n",
       "    <tr>\n",
       "      <th>50%</th>\n",
       "      <td>1.000000</td>\n",
       "      <td>1.000000</td>\n",
       "      <td>1.000000</td>\n",
       "      <td>0.000000</td>\n",
       "      <td>0.000000</td>\n",
       "      <td>0.000000</td>\n",
       "    </tr>\n",
       "    <tr>\n",
       "      <th>75%</th>\n",
       "      <td>2.000000</td>\n",
       "      <td>2.000000</td>\n",
       "      <td>2.000000</td>\n",
       "      <td>1.000000</td>\n",
       "      <td>2.000000</td>\n",
       "      <td>0.000000</td>\n",
       "    </tr>\n",
       "    <tr>\n",
       "      <th>max</th>\n",
       "      <td>101.000000</td>\n",
       "      <td>179.000000</td>\n",
       "      <td>31.000000</td>\n",
       "      <td>42.000000</td>\n",
       "      <td>1682.000000</td>\n",
       "      <td>278.000000</td>\n",
       "    </tr>\n",
       "  </tbody>\n",
       "</table>\n",
       "</div>"
      ],
      "text/plain": [
       "       number_of_visits_to_sport  number_of_sport_page_views  \\\n",
       "count              589819.000000               578918.000000   \n",
       "mean                    1.535749                    1.927394   \n",
       "std                     1.178934                    2.053704   \n",
       "min                     1.000000                    1.000000   \n",
       "25%                     1.000000                    1.000000   \n",
       "50%                     1.000000                    1.000000   \n",
       "75%                     2.000000                    2.000000   \n",
       "max                   101.000000                  179.000000   \n",
       "\n",
       "       number_of_sport_articles_read  number_of_sport_clips_watched  \\\n",
       "count                  589819.000000                  589819.000000   \n",
       "mean                        1.582485                       0.476602   \n",
       "std                         1.180393                       0.842155   \n",
       "min                         0.000000                       0.000000   \n",
       "25%                         1.000000                       0.000000   \n",
       "50%                         1.000000                       0.000000   \n",
       "75%                         2.000000                       1.000000   \n",
       "max                        31.000000                      42.000000   \n",
       "\n",
       "       videos_watched_on_iplayer  shows_listened_to_on_sounds  \n",
       "count              589819.000000                589819.000000  \n",
       "mean                    2.343766                     1.229525  \n",
       "std                     7.490207                     4.289185  \n",
       "min                     0.000000                     0.000000  \n",
       "25%                     0.000000                     0.000000  \n",
       "50%                     0.000000                     0.000000  \n",
       "75%                     2.000000                     0.000000  \n",
       "max                  1682.000000                   278.000000  "
      ]
     },
     "execution_count": 16,
     "metadata": {},
     "output_type": "execute_result"
    }
   ],
   "source": [
    "df.describe()"
   ]
  },
  {
   "cell_type": "markdown",
   "metadata": {},
   "source": [
    "## General insight on the audience"
   ]
  },
  {
   "cell_type": "markdown",
   "metadata": {},
   "source": [
    "- Distribution \n",
    "    - app_type\n",
    "    - device_type\n",
    "    - geo_country_site_visited"
   ]
  },
  {
   "cell_type": "code",
   "execution_count": 17,
   "metadata": {},
   "outputs": [
    {
     "data": {
      "text/plain": [
       "Index(['user_id', 'app_type', 'device_type', 'geo_country_site_visited',\n",
       "       'gender', 'nation', 'barb_region', 'age_range',\n",
       "       'number_of_visits_to_sport', 'number_of_sport_page_views',\n",
       "       'number_of_sport_articles_read', 'number_of_sport_clips_watched',\n",
       "       'has_visited_homepage', 'has_visited_news', 'has_visited_iplayer',\n",
       "       'videos_watched_on_iplayer', 'has_visited_sounds',\n",
       "       'shows_listened_to_on_sounds'],\n",
       "      dtype='object')"
      ]
     },
     "execution_count": 17,
     "metadata": {},
     "output_type": "execute_result"
    }
   ],
   "source": [
    "df.columns"
   ]
  },
  {
   "cell_type": "markdown",
   "metadata": {},
   "source": [
    "**Distribution of age_range**"
   ]
  },
  {
   "cell_type": "code",
   "execution_count": 18,
   "metadata": {},
   "outputs": [
    {
     "data": {
      "text/html": [
       "<div>\n",
       "<style scoped>\n",
       "    .dataframe tbody tr th:only-of-type {\n",
       "        vertical-align: middle;\n",
       "    }\n",
       "\n",
       "    .dataframe tbody tr th {\n",
       "        vertical-align: top;\n",
       "    }\n",
       "\n",
       "    .dataframe thead th {\n",
       "        text-align: right;\n",
       "    }\n",
       "</style>\n",
       "<table border=\"1\" class=\"dataframe\">\n",
       "  <thead>\n",
       "    <tr style=\"text-align: right;\">\n",
       "      <th></th>\n",
       "      <th>age_range</th>\n",
       "      <th>count</th>\n",
       "      <th>percentage</th>\n",
       "    </tr>\n",
       "  </thead>\n",
       "  <tbody>\n",
       "    <tr>\n",
       "      <th>0</th>\n",
       "      <td>0-5</td>\n",
       "      <td>164</td>\n",
       "      <td>0.03</td>\n",
       "    </tr>\n",
       "    <tr>\n",
       "      <th>2</th>\n",
       "      <td>16-19</td>\n",
       "      <td>2725</td>\n",
       "      <td>0.56</td>\n",
       "    </tr>\n",
       "    <tr>\n",
       "      <th>3</th>\n",
       "      <td>20-24</td>\n",
       "      <td>12518</td>\n",
       "      <td>2.59</td>\n",
       "    </tr>\n",
       "    <tr>\n",
       "      <th>4</th>\n",
       "      <td>25-29</td>\n",
       "      <td>31260</td>\n",
       "      <td>6.47</td>\n",
       "    </tr>\n",
       "    <tr>\n",
       "      <th>5</th>\n",
       "      <td>30-34</td>\n",
       "      <td>50828</td>\n",
       "      <td>10.52</td>\n",
       "    </tr>\n",
       "    <tr>\n",
       "      <th>6</th>\n",
       "      <td>35-39</td>\n",
       "      <td>54800</td>\n",
       "      <td>11.34</td>\n",
       "    </tr>\n",
       "    <tr>\n",
       "      <th>7</th>\n",
       "      <td>40-44</td>\n",
       "      <td>60115</td>\n",
       "      <td>12.44</td>\n",
       "    </tr>\n",
       "    <tr>\n",
       "      <th>8</th>\n",
       "      <td>45-49</td>\n",
       "      <td>57666</td>\n",
       "      <td>11.94</td>\n",
       "    </tr>\n",
       "    <tr>\n",
       "      <th>9</th>\n",
       "      <td>50-54</td>\n",
       "      <td>56429</td>\n",
       "      <td>11.68</td>\n",
       "    </tr>\n",
       "    <tr>\n",
       "      <th>10</th>\n",
       "      <td>55-59</td>\n",
       "      <td>51944</td>\n",
       "      <td>10.75</td>\n",
       "    </tr>\n",
       "    <tr>\n",
       "      <th>11</th>\n",
       "      <td>60-64</td>\n",
       "      <td>39918</td>\n",
       "      <td>8.26</td>\n",
       "    </tr>\n",
       "    <tr>\n",
       "      <th>12</th>\n",
       "      <td>65-70</td>\n",
       "      <td>31123</td>\n",
       "      <td>6.44</td>\n",
       "    </tr>\n",
       "    <tr>\n",
       "      <th>13</th>\n",
       "      <td>&gt;70</td>\n",
       "      <td>33627</td>\n",
       "      <td>6.96</td>\n",
       "    </tr>\n",
       "  </tbody>\n",
       "</table>\n",
       "</div>"
      ],
      "text/plain": [
       "   age_range  count  percentage\n",
       "0        0-5    164        0.03\n",
       "2      16-19   2725        0.56\n",
       "3      20-24  12518        2.59\n",
       "4      25-29  31260        6.47\n",
       "5      30-34  50828       10.52\n",
       "6      35-39  54800       11.34\n",
       "7      40-44  60115       12.44\n",
       "8      45-49  57666       11.94\n",
       "9      50-54  56429       11.68\n",
       "10     55-59  51944       10.75\n",
       "11     60-64  39918        8.26\n",
       "12     65-70  31123        6.44\n",
       "13       >70  33627        6.96"
      ]
     },
     "execution_count": 18,
     "metadata": {},
     "output_type": "execute_result"
    }
   ],
   "source": [
    "# df_age_range = df_age_range.drop_duplicates(subset = 'user_id', keep = 'last')\n",
    "age_range_pc = df_age_range.groupby(by = df_age_range.age_range)['user_id'].count().reset_index()\n",
    "age_range_pc = age_range_pc.rename(columns = {'user_id': 'count'})\n",
    "age_range_pc['percentage'] = age_range_pc['count'].apply(lambda x: x*100/age_range_pc['count'].sum())\n",
    "age_range_pc = age_range_pc.sort_values(by = 'age_range', ascending = True)\n",
    "age_range_pc.reset_index(drop=True, inplace=True)\n",
    "age_range_pc = age_range_pc.round(2)\n",
    "age_range_pc = age_range_pc.loc[~age_range_pc['age_range'].isin(exclude_age_range)]\n",
    "age_range_pc\n",
    "\n",
    "# df_age_range.loc[df.age_range == 'NA']\n",
    "# df_age_range['age_range'].value_counts()"
   ]
  },
  {
   "cell_type": "code",
   "execution_count": 19,
   "metadata": {},
   "outputs": [
    {
     "data": {
      "text/plain": [
       "483117"
      ]
     },
     "execution_count": 19,
     "metadata": {},
     "output_type": "execute_result"
    }
   ],
   "source": [
    "len(df_age_range)"
   ]
  },
  {
   "cell_type": "code",
   "execution_count": 20,
   "metadata": {},
   "outputs": [
    {
     "data": {
      "text/plain": [
       "483117"
      ]
     },
     "execution_count": 20,
     "metadata": {},
     "output_type": "execute_result"
    }
   ],
   "source": [
    "len(df_age_range)"
   ]
  },
  {
   "cell_type": "code",
   "execution_count": 21,
   "metadata": {},
   "outputs": [
    {
     "data": {
      "image/png": "[encoded data removed]",
      "text/plain": [
       "<Figure size 432x288 with 1 Axes>"
      ]
     },
     "metadata": {},
     "output_type": "display_data"
    }
   ],
   "source": [
    "ax = sns.barplot(data = age_range_pc, x = 'age_range', y = 'percentage', order = age_range_pc['age_range'])\n",
    "for p in ax.patches:\n",
    "    ax.annotate(str(p.get_height()), (p.get_x() * 1.005, p.get_height() * 1.005))\n",
    "\n",
    "plt.title('Distribution of age range (percentage)')\n",
    "plt.xticks(rotation = 'vertical')\n",
    "plt.show()"
   ]
  },
  {
   "cell_type": "markdown",
   "metadata": {},
   "source": [
    "Interpretation\n",
    "- Null values represented a significant percentage of the age range with 18% which has been excluded from the plot. \n",
    "    - Re-send forms to collect information for those users since it represents a significant portion of the total number of the audience. \n",
    "- Age range with the highest percentage of audience are in the 40 - 44 age range, followed by 45 - 49 age range with 12.44% and 11.94% respectively. \n",
    "- The 16 - 19 and 20 - 24 age range are amongst the lowest with 0.56% and 2.59% respectively. These age ranges have a lower percentage than the >70 age range by a significant margin. "
   ]
  },
  {
   "cell_type": "markdown",
   "metadata": {},
   "source": [
    "**Distribution of gender**"
   ]
  },
  {
   "cell_type": "code",
   "execution_count": 22,
   "metadata": {},
   "outputs": [
    {
     "data": {
      "text/html": [
       "<div>\n",
       "<style scoped>\n",
       "    .dataframe tbody tr th:only-of-type {\n",
       "        vertical-align: middle;\n",
       "    }\n",
       "\n",
       "    .dataframe tbody tr th {\n",
       "        vertical-align: top;\n",
       "    }\n",
       "\n",
       "    .dataframe thead th {\n",
       "        text-align: right;\n",
       "    }\n",
       "</style>\n",
       "<table border=\"1\" class=\"dataframe\">\n",
       "  <thead>\n",
       "    <tr style=\"text-align: right;\">\n",
       "      <th></th>\n",
       "      <th>gender</th>\n",
       "      <th>count</th>\n",
       "      <th>percentage</th>\n",
       "    </tr>\n",
       "  </thead>\n",
       "  <tbody>\n",
       "    <tr>\n",
       "      <th>0</th>\n",
       "      <td>male</td>\n",
       "      <td>385149</td>\n",
       "      <td>83.65</td>\n",
       "    </tr>\n",
       "    <tr>\n",
       "      <th>1</th>\n",
       "      <td>female</td>\n",
       "      <td>48156</td>\n",
       "      <td>10.46</td>\n",
       "    </tr>\n",
       "    <tr>\n",
       "      <th>2</th>\n",
       "      <td>prefer not to say</td>\n",
       "      <td>24913</td>\n",
       "      <td>5.41</td>\n",
       "    </tr>\n",
       "    <tr>\n",
       "      <th>3</th>\n",
       "      <td>other</td>\n",
       "      <td>2212</td>\n",
       "      <td>0.48</td>\n",
       "    </tr>\n",
       "  </tbody>\n",
       "</table>\n",
       "</div>"
      ],
      "text/plain": [
       "              gender   count  percentage\n",
       "0               male  385149       83.65\n",
       "1             female   48156       10.46\n",
       "2  prefer not to say   24913        5.41\n",
       "3              other    2212        0.48"
      ]
     },
     "execution_count": 22,
     "metadata": {},
     "output_type": "execute_result"
    }
   ],
   "source": [
    "gender_pc = df_gender.groupby(by = 'gender')['user_id'].count().reset_index()\n",
    "gender_pc = gender_pc.rename(columns = {'user_id': 'count'})\n",
    "gender_pc['percentage'] = gender_pc['count'].apply(lambda x: x*100/gender_pc['count'].sum())\n",
    "gender_pc = gender_pc.sort_values(by = 'percentage', ascending = False)\n",
    "gender_pc.reset_index(drop=True, inplace=True)\n",
    "gender_pc = gender_pc.round(2)\n",
    "gender_pc = gender_pc.loc[~gender_pc['gender'].isin(exclude_na)]\n",
    "gender_pc"
   ]
  },
  {
   "cell_type": "code",
   "execution_count": 23,
   "metadata": {},
   "outputs": [
    {
     "data": {
      "image/png": "[encoded data removed]",
      "text/plain": [
       "<Figure size 432x288 with 1 Axes>"
      ]
     },
     "metadata": {},
     "output_type": "display_data"
    }
   ],
   "source": [
    "ax = sns.barplot(data = gender_pc, x = 'gender', y = 'percentage', order = gender_pc['gender'])\n",
    "\n",
    "for p in ax.patches:\n",
    "    ax.annotate(str(p.get_height()), (p.get_x() * 1.005, p.get_height() * 1.005))\n",
    "\n",
    "plt.title('Distribution of gender (percentage)')\n",
    "plt.xticks(rotation = 'vertical')\n",
    "plt.show()"
   ]
  },
  {
   "cell_type": "markdown",
   "metadata": {},
   "source": [
    "Interpretation\n",
    "- Null values represented 22% of the audience and have been excluded from the plot. Vast majority of the audience wihtout age range information were also missing information on their gender. Since it represents a significant portion, it's worth acquiring this information from this group of audience. \n",
    "- Males make up a overwhelming majority of the audience with 83.65%. This is significantly greater than the female audience with 10.46%. "
   ]
  },
  {
   "cell_type": "markdown",
   "metadata": {},
   "source": [
    "**Distribution of age range by gender**"
   ]
  },
  {
   "cell_type": "code",
   "execution_count": 24,
   "metadata": {},
   "outputs": [
    {
     "data": {
      "text/html": [
       "<div>\n",
       "<style scoped>\n",
       "    .dataframe tbody tr th:only-of-type {\n",
       "        vertical-align: middle;\n",
       "    }\n",
       "\n",
       "    .dataframe tbody tr th {\n",
       "        vertical-align: top;\n",
       "    }\n",
       "\n",
       "    .dataframe thead th {\n",
       "        text-align: right;\n",
       "    }\n",
       "</style>\n",
       "<table border=\"1\" class=\"dataframe\">\n",
       "  <thead>\n",
       "    <tr style=\"text-align: right;\">\n",
       "      <th>gender</th>\n",
       "      <th>NA</th>\n",
       "      <th>female</th>\n",
       "      <th>male</th>\n",
       "      <th>other</th>\n",
       "      <th>prefer not to say</th>\n",
       "    </tr>\n",
       "    <tr>\n",
       "      <th>age_range</th>\n",
       "      <th></th>\n",
       "      <th></th>\n",
       "      <th></th>\n",
       "      <th></th>\n",
       "      <th></th>\n",
       "    </tr>\n",
       "  </thead>\n",
       "  <tbody>\n",
       "    <tr>\n",
       "      <th>0-5</th>\n",
       "      <td>0.029806</td>\n",
       "      <td>0.002277</td>\n",
       "      <td>0.001449</td>\n",
       "      <td>0.000000</td>\n",
       "      <td>0.000414</td>\n",
       "    </tr>\n",
       "    <tr>\n",
       "      <th>16-19</th>\n",
       "      <td>0.109497</td>\n",
       "      <td>0.078035</td>\n",
       "      <td>0.346500</td>\n",
       "      <td>0.003933</td>\n",
       "      <td>0.026081</td>\n",
       "    </tr>\n",
       "    <tr>\n",
       "      <th>20-24</th>\n",
       "      <td>0.249422</td>\n",
       "      <td>0.256253</td>\n",
       "      <td>1.914236</td>\n",
       "      <td>0.029392</td>\n",
       "      <td>0.141788</td>\n",
       "    </tr>\n",
       "    <tr>\n",
       "      <th>25-29</th>\n",
       "      <td>0.228102</td>\n",
       "      <td>0.540449</td>\n",
       "      <td>5.391862</td>\n",
       "      <td>0.035188</td>\n",
       "      <td>0.274882</td>\n",
       "    </tr>\n",
       "    <tr>\n",
       "      <th>30-34</th>\n",
       "      <td>0.560734</td>\n",
       "      <td>0.788422</td>\n",
       "      <td>8.528990</td>\n",
       "      <td>0.056094</td>\n",
       "      <td>0.586607</td>\n",
       "    </tr>\n",
       "    <tr>\n",
       "      <th>35-39</th>\n",
       "      <td>0.652223</td>\n",
       "      <td>0.817607</td>\n",
       "      <td>9.233995</td>\n",
       "      <td>0.045745</td>\n",
       "      <td>0.593438</td>\n",
       "    </tr>\n",
       "    <tr>\n",
       "      <th>40-44</th>\n",
       "      <td>0.768137</td>\n",
       "      <td>0.946355</td>\n",
       "      <td>9.978121</td>\n",
       "      <td>0.055059</td>\n",
       "      <td>0.695484</td>\n",
       "    </tr>\n",
       "    <tr>\n",
       "      <th>45-49</th>\n",
       "      <td>0.835408</td>\n",
       "      <td>1.009486</td>\n",
       "      <td>9.465409</td>\n",
       "      <td>0.036637</td>\n",
       "      <td>0.589298</td>\n",
       "    </tr>\n",
       "    <tr>\n",
       "      <th>50-54</th>\n",
       "      <td>0.890468</td>\n",
       "      <td>1.098699</td>\n",
       "      <td>9.008998</td>\n",
       "      <td>0.051540</td>\n",
       "      <td>0.630489</td>\n",
       "    </tr>\n",
       "    <tr>\n",
       "      <th>55-59</th>\n",
       "      <td>0.801462</td>\n",
       "      <td>1.175285</td>\n",
       "      <td>8.206708</td>\n",
       "      <td>0.032911</td>\n",
       "      <td>0.535481</td>\n",
       "    </tr>\n",
       "    <tr>\n",
       "      <th>60-64</th>\n",
       "      <td>0.635871</td>\n",
       "      <td>0.996653</td>\n",
       "      <td>6.210297</td>\n",
       "      <td>0.021527</td>\n",
       "      <td>0.398247</td>\n",
       "    </tr>\n",
       "    <tr>\n",
       "      <th>65-70</th>\n",
       "      <td>0.498637</td>\n",
       "      <td>0.945734</td>\n",
       "      <td>4.700518</td>\n",
       "      <td>0.020906</td>\n",
       "      <td>0.276331</td>\n",
       "    </tr>\n",
       "    <tr>\n",
       "      <th>&gt;70</th>\n",
       "      <td>0.472556</td>\n",
       "      <td>1.154586</td>\n",
       "      <td>4.883910</td>\n",
       "      <td>0.063339</td>\n",
       "      <td>0.386035</td>\n",
       "    </tr>\n",
       "  </tbody>\n",
       "</table>\n",
       "</div>"
      ],
      "text/plain": [
       "gender           NA    female      male     other  prefer not to say\n",
       "age_range                                                           \n",
       "0-5        0.029806  0.002277  0.001449  0.000000           0.000414\n",
       "16-19      0.109497  0.078035  0.346500  0.003933           0.026081\n",
       "20-24      0.249422  0.256253  1.914236  0.029392           0.141788\n",
       "25-29      0.228102  0.540449  5.391862  0.035188           0.274882\n",
       "30-34      0.560734  0.788422  8.528990  0.056094           0.586607\n",
       "35-39      0.652223  0.817607  9.233995  0.045745           0.593438\n",
       "40-44      0.768137  0.946355  9.978121  0.055059           0.695484\n",
       "45-49      0.835408  1.009486  9.465409  0.036637           0.589298\n",
       "50-54      0.890468  1.098699  9.008998  0.051540           0.630489\n",
       "55-59      0.801462  1.175285  8.206708  0.032911           0.535481\n",
       "60-64      0.635871  0.996653  6.210297  0.021527           0.398247\n",
       "65-70      0.498637  0.945734  4.700518  0.020906           0.276331\n",
       ">70        0.472556  1.154586  4.883910  0.063339           0.386035"
      ]
     },
     "execution_count": 24,
     "metadata": {},
     "output_type": "execute_result"
    }
   ],
   "source": [
    "gender_age_range_piv = pd.pivot_table(data = df_age_range, values = 'user_id', index = 'age_range', columns = 'gender', aggfunc = 'count').fillna(0).astype('int')\n",
    "gender_age_range_piv_pc = (100 * gender_age_range_piv/gender_age_range_piv.sum().sum())\n",
    "gender_age_range_piv_pc"
   ]
  },
  {
   "cell_type": "code",
   "execution_count": 25,
   "metadata": {},
   "outputs": [
    {
     "data": {
      "image/png": "[encoded data removed]",
      "text/plain": [
       "<Figure size 432x288 with 1 Axes>"
      ]
     },
     "metadata": {},
     "output_type": "display_data"
    }
   ],
   "source": [
    "gender_age_range_piv.plot(kind = 'bar')\n",
    "plt.title('Distribution of age range by gender')\n",
    "plt.show()"
   ]
  },
  {
   "cell_type": "code",
   "execution_count": 26,
   "metadata": {},
   "outputs": [
    {
     "data": {
      "image/png": "[encoded data removed]",
      "text/plain": [
       "<Figure size 432x288 with 1 Axes>"
      ]
     },
     "metadata": {},
     "output_type": "display_data"
    }
   ],
   "source": [
    "gender_age_range_piv_pc.plot(kind = 'bar')\n",
    "plt.title('Distribution of age range by gender (percentage)')\n",
    "plt.ylabel(\"Percentage\")\n",
    "plt.show()"
   ]
  },
  {
   "cell_type": "markdown",
   "metadata": {},
   "source": [
    "Interpretation\n",
    "- Predictably, there is a much larger male audience across every age group by a significant margin. \n",
    "- Males in the age range 40 - 44 and 45 - 49 have the highest percentage with 10% and 9.5% respectively.\n",
    "- The most popular age range amongst females is slightly older than males. Amonsgt females, the 55 - 59 and > 70 age range are the most popular with 1.18% and 1.15% respectively. "
   ]
  },
  {
   "cell_type": "markdown",
   "metadata": {},
   "source": [
    "**Distribution of app_type**"
   ]
  },
  {
   "cell_type": "code",
   "execution_count": 27,
   "metadata": {},
   "outputs": [
    {
     "data": {
      "text/html": [
       "<div>\n",
       "<style scoped>\n",
       "    .dataframe tbody tr th:only-of-type {\n",
       "        vertical-align: middle;\n",
       "    }\n",
       "\n",
       "    .dataframe tbody tr th {\n",
       "        vertical-align: top;\n",
       "    }\n",
       "\n",
       "    .dataframe thead th {\n",
       "        text-align: right;\n",
       "    }\n",
       "</style>\n",
       "<table border=\"1\" class=\"dataframe\">\n",
       "  <thead>\n",
       "    <tr style=\"text-align: right;\">\n",
       "      <th></th>\n",
       "      <th>app_type</th>\n",
       "      <th>count</th>\n",
       "      <th>percentage</th>\n",
       "    </tr>\n",
       "  </thead>\n",
       "  <tbody>\n",
       "    <tr>\n",
       "      <th>0</th>\n",
       "      <td>responsive</td>\n",
       "      <td>403576</td>\n",
       "      <td>68.423703</td>\n",
       "    </tr>\n",
       "    <tr>\n",
       "      <th>1</th>\n",
       "      <td>mobile-app</td>\n",
       "      <td>182822</td>\n",
       "      <td>30.996289</td>\n",
       "    </tr>\n",
       "    <tr>\n",
       "      <th>2</th>\n",
       "      <td>NA</td>\n",
       "      <td>3402</td>\n",
       "      <td>0.576787</td>\n",
       "    </tr>\n",
       "    <tr>\n",
       "      <th>3</th>\n",
       "      <td>amp</td>\n",
       "      <td>19</td>\n",
       "      <td>0.003221</td>\n",
       "    </tr>\n",
       "  </tbody>\n",
       "</table>\n",
       "</div>"
      ],
      "text/plain": [
       "     app_type   count  percentage\n",
       "0  responsive  403576   68.423703\n",
       "1  mobile-app  182822   30.996289\n",
       "2          NA    3402    0.576787\n",
       "3         amp      19    0.003221"
      ]
     },
     "execution_count": 27,
     "metadata": {},
     "output_type": "execute_result"
    }
   ],
   "source": [
    "app_type_pc = df.groupby(by = 'app_type')['user_id'].count().reset_index()\n",
    "app_type_pc = app_type_pc.rename(columns = {'user_id': 'count'})\n",
    "app_type_pc['percentage'] = app_type_pc['count'].apply(lambda x: x*100/app_type_pc['count'].sum())\n",
    "app_type_pc = app_type_pc.sort_values(by = 'percentage', ascending = False)\n",
    "app_type_pc.reset_index(drop=True, inplace=True)\n",
    "app_type_pc"
   ]
  },
  {
   "cell_type": "markdown",
   "metadata": {},
   "source": [
    "**Distribution of device type**"
   ]
  },
  {
   "cell_type": "code",
   "execution_count": 28,
   "metadata": {},
   "outputs": [
    {
     "data": {
      "text/html": [
       "<div>\n",
       "<style scoped>\n",
       "    .dataframe tbody tr th:only-of-type {\n",
       "        vertical-align: middle;\n",
       "    }\n",
       "\n",
       "    .dataframe tbody tr th {\n",
       "        vertical-align: top;\n",
       "    }\n",
       "\n",
       "    .dataframe thead th {\n",
       "        text-align: right;\n",
       "    }\n",
       "</style>\n",
       "<table border=\"1\" class=\"dataframe\">\n",
       "  <thead>\n",
       "    <tr style=\"text-align: right;\">\n",
       "      <th></th>\n",
       "      <th>device_type</th>\n",
       "      <th>count</th>\n",
       "      <th>percentage</th>\n",
       "    </tr>\n",
       "  </thead>\n",
       "  <tbody>\n",
       "    <tr>\n",
       "      <th>0</th>\n",
       "      <td>Smartphone</td>\n",
       "      <td>328642</td>\n",
       "      <td>55.719127</td>\n",
       "    </tr>\n",
       "    <tr>\n",
       "      <th>1</th>\n",
       "      <td>Desktop</td>\n",
       "      <td>227165</td>\n",
       "      <td>38.514358</td>\n",
       "    </tr>\n",
       "    <tr>\n",
       "      <th>2</th>\n",
       "      <td>Tablet</td>\n",
       "      <td>33898</td>\n",
       "      <td>5.747187</td>\n",
       "    </tr>\n",
       "    <tr>\n",
       "      <th>3</th>\n",
       "      <td>Smart TV</td>\n",
       "      <td>70</td>\n",
       "      <td>0.011868</td>\n",
       "    </tr>\n",
       "    <tr>\n",
       "      <th>4</th>\n",
       "      <td>Console</td>\n",
       "      <td>44</td>\n",
       "      <td>0.007460</td>\n",
       "    </tr>\n",
       "  </tbody>\n",
       "</table>\n",
       "</div>"
      ],
      "text/plain": [
       "  device_type   count  percentage\n",
       "0  Smartphone  328642   55.719127\n",
       "1     Desktop  227165   38.514358\n",
       "2      Tablet   33898    5.747187\n",
       "3    Smart TV      70    0.011868\n",
       "4     Console      44    0.007460"
      ]
     },
     "execution_count": 28,
     "metadata": {},
     "output_type": "execute_result"
    }
   ],
   "source": [
    "device_type_pc = df.groupby(by = 'device_type')['user_id'].count().reset_index()\n",
    "device_type_pc = device_type_pc.rename(columns = {'user_id': 'count'})\n",
    "device_type_pc['percentage'] = device_type_pc['count'].apply(lambda x: x*100/device_type_pc['count'].sum())\n",
    "device_type_pc = device_type_pc.sort_values(by = 'percentage', ascending = False)\n",
    "device_type_pc.reset_index(drop=True, inplace=True)\n",
    "device_type_pc"
   ]
  },
  {
   "cell_type": "code",
   "execution_count": 29,
   "metadata": {},
   "outputs": [
    {
     "data": {
      "image/png": "[encoded data removed]",
      "text/plain": [
       "<Figure size 756x252 with 2 Axes>"
      ]
     },
     "metadata": {},
     "output_type": "display_data"
    }
   ],
   "source": [
    "fig, axes = plt.subplots(1, 2, figsize = (10.5, 3.5))\n",
    "\n",
    "sns.barplot(x = 'app_type', y = 'percentage', data = app_type_pc, ax = axes[0])\n",
    "axes[0].set_title('Distribution of app type (percentage)')\n",
    "\n",
    "sns.barplot(x = 'device_type', y = 'percentage', data = device_type_pc, ax = axes[1])\n",
    "axes[1].set_title('Distribution of device type (percentage)')\n",
    "\n",
    "plt.show()"
   ]
  },
  {
   "cell_type": "markdown",
   "metadata": {},
   "source": [
    "**Relationship betweeen app type and device type**"
   ]
  },
  {
   "cell_type": "markdown",
   "metadata": {},
   "source": [
    "pd.pivot_table(data = df, values= 'user_id', index = 'app_type', columns = 'device_type', aggfunc = 'count').plot(kind = 'bar')"
   ]
  },
  {
   "cell_type": "code",
   "execution_count": 30,
   "metadata": {},
   "outputs": [
    {
     "data": {
      "text/html": [
       "<div>\n",
       "<style scoped>\n",
       "    .dataframe tbody tr th:only-of-type {\n",
       "        vertical-align: middle;\n",
       "    }\n",
       "\n",
       "    .dataframe tbody tr th {\n",
       "        vertical-align: top;\n",
       "    }\n",
       "\n",
       "    .dataframe thead th {\n",
       "        text-align: right;\n",
       "    }\n",
       "</style>\n",
       "<table border=\"1\" class=\"dataframe\">\n",
       "  <thead>\n",
       "    <tr style=\"text-align: right;\">\n",
       "      <th>app_type</th>\n",
       "      <th>NA</th>\n",
       "      <th>amp</th>\n",
       "      <th>mobile-app</th>\n",
       "      <th>responsive</th>\n",
       "    </tr>\n",
       "    <tr>\n",
       "      <th>device_type</th>\n",
       "      <th></th>\n",
       "      <th></th>\n",
       "      <th></th>\n",
       "      <th></th>\n",
       "    </tr>\n",
       "  </thead>\n",
       "  <tbody>\n",
       "    <tr>\n",
       "      <th>Console</th>\n",
       "      <td>0</td>\n",
       "      <td>0</td>\n",
       "      <td>0</td>\n",
       "      <td>44</td>\n",
       "    </tr>\n",
       "    <tr>\n",
       "      <th>Desktop</th>\n",
       "      <td>0</td>\n",
       "      <td>1</td>\n",
       "      <td>15059</td>\n",
       "      <td>212105</td>\n",
       "    </tr>\n",
       "    <tr>\n",
       "      <th>Smart TV</th>\n",
       "      <td>0</td>\n",
       "      <td>0</td>\n",
       "      <td>4</td>\n",
       "      <td>66</td>\n",
       "    </tr>\n",
       "    <tr>\n",
       "      <th>Smartphone</th>\n",
       "      <td>3193</td>\n",
       "      <td>18</td>\n",
       "      <td>157068</td>\n",
       "      <td>168363</td>\n",
       "    </tr>\n",
       "    <tr>\n",
       "      <th>Tablet</th>\n",
       "      <td>209</td>\n",
       "      <td>0</td>\n",
       "      <td>10691</td>\n",
       "      <td>22998</td>\n",
       "    </tr>\n",
       "  </tbody>\n",
       "</table>\n",
       "</div>"
      ],
      "text/plain": [
       "app_type       NA  amp  mobile-app  responsive\n",
       "device_type                                   \n",
       "Console         0    0           0          44\n",
       "Desktop         0    1       15059      212105\n",
       "Smart TV        0    0           4          66\n",
       "Smartphone   3193   18      157068      168363\n",
       "Tablet        209    0       10691       22998"
      ]
     },
     "execution_count": 30,
     "metadata": {},
     "output_type": "execute_result"
    }
   ],
   "source": [
    "app_device_piv = pd.pivot_table(data = df, values= 'user_id', index = 'device_type', columns = df['app_type'], aggfunc = 'count').fillna(0).astype('int')\n",
    "app_device_piv"
   ]
  },
  {
   "cell_type": "code",
   "execution_count": 31,
   "metadata": {},
   "outputs": [
    {
     "data": {
      "text/html": [
       "<div>\n",
       "<style scoped>\n",
       "    .dataframe tbody tr th:only-of-type {\n",
       "        vertical-align: middle;\n",
       "    }\n",
       "\n",
       "    .dataframe tbody tr th {\n",
       "        vertical-align: top;\n",
       "    }\n",
       "\n",
       "    .dataframe thead th {\n",
       "        text-align: right;\n",
       "    }\n",
       "</style>\n",
       "<table border=\"1\" class=\"dataframe\">\n",
       "  <thead>\n",
       "    <tr style=\"text-align: right;\">\n",
       "      <th>app_type</th>\n",
       "      <th>NA</th>\n",
       "      <th>amp</th>\n",
       "      <th>mobile-app</th>\n",
       "      <th>responsive</th>\n",
       "    </tr>\n",
       "    <tr>\n",
       "      <th>device_type</th>\n",
       "      <th></th>\n",
       "      <th></th>\n",
       "      <th></th>\n",
       "      <th></th>\n",
       "    </tr>\n",
       "  </thead>\n",
       "  <tbody>\n",
       "    <tr>\n",
       "      <th>Console</th>\n",
       "      <td>0.000000</td>\n",
       "      <td>0.000000</td>\n",
       "      <td>0.000000</td>\n",
       "      <td>0.007460</td>\n",
       "    </tr>\n",
       "    <tr>\n",
       "      <th>Desktop</th>\n",
       "      <td>0.000000</td>\n",
       "      <td>0.000170</td>\n",
       "      <td>2.553156</td>\n",
       "      <td>35.961032</td>\n",
       "    </tr>\n",
       "    <tr>\n",
       "      <th>Smart TV</th>\n",
       "      <td>0.000000</td>\n",
       "      <td>0.000000</td>\n",
       "      <td>0.000678</td>\n",
       "      <td>0.011190</td>\n",
       "    </tr>\n",
       "    <tr>\n",
       "      <th>Smartphone</th>\n",
       "      <td>0.541353</td>\n",
       "      <td>0.003052</td>\n",
       "      <td>26.629864</td>\n",
       "      <td>28.544859</td>\n",
       "    </tr>\n",
       "    <tr>\n",
       "      <th>Tablet</th>\n",
       "      <td>0.035435</td>\n",
       "      <td>0.000000</td>\n",
       "      <td>1.812590</td>\n",
       "      <td>3.899162</td>\n",
       "    </tr>\n",
       "  </tbody>\n",
       "</table>\n",
       "</div>"
      ],
      "text/plain": [
       "app_type           NA       amp  mobile-app  responsive\n",
       "device_type                                            \n",
       "Console      0.000000  0.000000    0.000000    0.007460\n",
       "Desktop      0.000000  0.000170    2.553156   35.961032\n",
       "Smart TV     0.000000  0.000000    0.000678    0.011190\n",
       "Smartphone   0.541353  0.003052   26.629864   28.544859\n",
       "Tablet       0.035435  0.000000    1.812590    3.899162"
      ]
     },
     "execution_count": 31,
     "metadata": {},
     "output_type": "execute_result"
    }
   ],
   "source": [
    "app_device_pic_pc = (100*app_device_piv)/(app_device_piv.sum().sum())\n",
    "app_device_pic_pc"
   ]
  },
  {
   "cell_type": "code",
   "execution_count": 32,
   "metadata": {},
   "outputs": [
    {
     "data": {
      "image/png": "[encoded data removed]",
      "text/plain": [
       "<Figure size 432x288 with 1 Axes>"
      ]
     },
     "metadata": {},
     "output_type": "display_data"
    }
   ],
   "source": [
    "app_device_pic_pc.plot(kind = 'bar')\n",
    "\n",
    "\n",
    "plt.title(\"Relationship between app and device type (percentage)\")\n",
    "plt.ylabel('Percentage')\n",
    "plt.show()\n",
    "# for p in ax.patches:\n",
    "#     ax.annotate(str(p.get_height()), (p.get_x() * 1.005, p.get_height() * 1.005))"
   ]
  },
  {
   "cell_type": "markdown",
   "metadata": {},
   "source": [
    "Interpretation:\n",
    "- In terms of app type:\n",
    "    - Negligible number of users are accessing the site using amp. A small minority have an unknown app type.\n",
    "    - An overwhelming majority aer split between responsive and mobile app, with responsive being the most popular. Just under 70% of the users are in the responsive category and around 30% are using a mobile app. \n",
    "    - Responsive is more popular for all devices. Desktop users vastly opt for the responsive app type whereas for smartphone users, responsive and mobile apps are more evenly split. \n",
    "- In terms of device type:\n",
    "    - Vast majority of the users are split between desktop and smartphone, with a small minority using tablets. \n",
    "    - Negligible number of users are accessing the web page using console and smart TVs. "
   ]
  },
  {
   "cell_type": "code",
   "execution_count": null,
   "metadata": {},
   "outputs": [],
   "source": []
  },
  {
   "cell_type": "code",
   "execution_count": null,
   "metadata": {},
   "outputs": [],
   "source": []
  },
  {
   "cell_type": "code",
   "execution_count": null,
   "metadata": {},
   "outputs": [],
   "source": []
  },
  {
   "cell_type": "markdown",
   "metadata": {},
   "source": [
    "Rough  - changing colours of the bar plot"
   ]
  },
  {
   "cell_type": "markdown",
   "metadata": {},
   "source": [
    "colors = {'Console': 'purple', 'Desktop': 'red', 'Smart TV': 'black', 'Smartphone': 'green', 'Tablet': 'blue'}\n",
    "df['color'] = df['device_type'].apply(lambda x: colors[x])\n",
    "df.head()"
   ]
  },
  {
   "cell_type": "markdown",
   "metadata": {},
   "source": [
    "sns.countplot(data = df)"
   ]
  },
  {
   "cell_type": "markdown",
   "metadata": {},
   "source": [
    "**Distribution of the countries from which the users accessed the site (geo_country_site_visited)**"
   ]
  },
  {
   "cell_type": "code",
   "execution_count": 33,
   "metadata": {},
   "outputs": [
    {
     "data": {
      "text/html": [
       "<div>\n",
       "<style scoped>\n",
       "    .dataframe tbody tr th:only-of-type {\n",
       "        vertical-align: middle;\n",
       "    }\n",
       "\n",
       "    .dataframe tbody tr th {\n",
       "        vertical-align: top;\n",
       "    }\n",
       "\n",
       "    .dataframe thead th {\n",
       "        text-align: right;\n",
       "    }\n",
       "</style>\n",
       "<table border=\"1\" class=\"dataframe\">\n",
       "  <thead>\n",
       "    <tr style=\"text-align: right;\">\n",
       "      <th></th>\n",
       "      <th>geo_country_site_visited</th>\n",
       "      <th>count</th>\n",
       "      <th>percentage</th>\n",
       "    </tr>\n",
       "  </thead>\n",
       "  <tbody>\n",
       "    <tr>\n",
       "      <th>0</th>\n",
       "      <td>United Kingdom</td>\n",
       "      <td>585591</td>\n",
       "      <td>99.283170</td>\n",
       "    </tr>\n",
       "    <tr>\n",
       "      <th>1</th>\n",
       "      <td>Jersey</td>\n",
       "      <td>1074</td>\n",
       "      <td>0.182090</td>\n",
       "    </tr>\n",
       "    <tr>\n",
       "      <th>2</th>\n",
       "      <td>Isle of Man</td>\n",
       "      <td>732</td>\n",
       "      <td>0.124106</td>\n",
       "    </tr>\n",
       "    <tr>\n",
       "      <th>3</th>\n",
       "      <td>Guernsey</td>\n",
       "      <td>588</td>\n",
       "      <td>0.099692</td>\n",
       "    </tr>\n",
       "    <tr>\n",
       "      <th>4</th>\n",
       "      <td>United States</td>\n",
       "      <td>208</td>\n",
       "      <td>0.035265</td>\n",
       "    </tr>\n",
       "    <tr>\n",
       "      <th>...</th>\n",
       "      <td>...</td>\n",
       "      <td>...</td>\n",
       "      <td>...</td>\n",
       "    </tr>\n",
       "    <tr>\n",
       "      <th>99</th>\n",
       "      <td>Kazakstan</td>\n",
       "      <td>1</td>\n",
       "      <td>0.000170</td>\n",
       "    </tr>\n",
       "    <tr>\n",
       "      <th>100</th>\n",
       "      <td>Kuwait</td>\n",
       "      <td>1</td>\n",
       "      <td>0.000170</td>\n",
       "    </tr>\n",
       "    <tr>\n",
       "      <th>101</th>\n",
       "      <td>Lebanon</td>\n",
       "      <td>1</td>\n",
       "      <td>0.000170</td>\n",
       "    </tr>\n",
       "    <tr>\n",
       "      <th>102</th>\n",
       "      <td>Libyan Arab Jamahiriya</td>\n",
       "      <td>1</td>\n",
       "      <td>0.000170</td>\n",
       "    </tr>\n",
       "    <tr>\n",
       "      <th>103</th>\n",
       "      <td>Ã…land Islands</td>\n",
       "      <td>1</td>\n",
       "      <td>0.000170</td>\n",
       "    </tr>\n",
       "  </tbody>\n",
       "</table>\n",
       "<p>104 rows × 3 columns</p>\n",
       "</div>"
      ],
      "text/plain": [
       "    geo_country_site_visited   count  percentage\n",
       "0             United Kingdom  585591   99.283170\n",
       "1                     Jersey    1074    0.182090\n",
       "2                Isle of Man     732    0.124106\n",
       "3                   Guernsey     588    0.099692\n",
       "4              United States     208    0.035265\n",
       "..                       ...     ...         ...\n",
       "99                 Kazakstan       1    0.000170\n",
       "100                   Kuwait       1    0.000170\n",
       "101                  Lebanon       1    0.000170\n",
       "102   Libyan Arab Jamahiriya       1    0.000170\n",
       "103           Ã…land Islands       1    0.000170\n",
       "\n",
       "[104 rows x 3 columns]"
      ]
     },
     "execution_count": 33,
     "metadata": {},
     "output_type": "execute_result"
    }
   ],
   "source": [
    "# df['geo_country_site_visited'].value_counts().reset_index().sort_values(by = 'geo_country_site_visited', ascending = False)\n",
    "geo_country_site_visited_pc = df.groupby(by = 'geo_country_site_visited')['user_id'].count().reset_index()\n",
    "geo_country_site_visited_pc = geo_country_site_visited_pc.rename(columns = {'user_id': 'count'})\n",
    "geo_country_site_visited_pc['percentage'] = geo_country_site_visited_pc['count'].apply(lambda x: x*100/geo_country_site_visited_pc['count'].sum())\n",
    "geo_country_site_visited_pc = geo_country_site_visited_pc.sort_values(by = 'percentage', ascending = False)\n",
    "geo_country_site_visited_pc.reset_index(drop=True, inplace=True)\n",
    "geo_country_site_visited_pc"
   ]
  },
  {
   "cell_type": "markdown",
   "metadata": {},
   "source": [
    "Interpretation:\n",
    "- Users visited the site from 103 countries worldwide, ranging from Europe, Asia, South America, Africa and the Caribbean islands. \n",
    "- Although there were users from over 100 countries, 99.2% of the users who visited the site or app from the UK. Followed by British Islands such as Jersey, Isle of Man and Guernsey making up around 0.1% - 0.2% of the total users. \n",
    "- The rest of the top 10 countries were all Western European countries except the United States and the UAE. \n"
   ]
  },
  {
   "cell_type": "markdown",
   "metadata": {},
   "source": [
    "**Distribution of Nation**"
   ]
  },
  {
   "cell_type": "code",
   "execution_count": 34,
   "metadata": {},
   "outputs": [
    {
     "data": {
      "text/html": [
       "<div>\n",
       "<style scoped>\n",
       "    .dataframe tbody tr th:only-of-type {\n",
       "        vertical-align: middle;\n",
       "    }\n",
       "\n",
       "    .dataframe tbody tr th {\n",
       "        vertical-align: top;\n",
       "    }\n",
       "\n",
       "    .dataframe thead th {\n",
       "        text-align: right;\n",
       "    }\n",
       "</style>\n",
       "<table border=\"1\" class=\"dataframe\">\n",
       "  <thead>\n",
       "    <tr style=\"text-align: right;\">\n",
       "      <th></th>\n",
       "      <th>nation</th>\n",
       "      <th>count</th>\n",
       "      <th>percentage</th>\n",
       "    </tr>\n",
       "  </thead>\n",
       "  <tbody>\n",
       "    <tr>\n",
       "      <th>0</th>\n",
       "      <td>England</td>\n",
       "      <td>486541</td>\n",
       "      <td>82.49</td>\n",
       "    </tr>\n",
       "    <tr>\n",
       "      <th>1</th>\n",
       "      <td>Scotland</td>\n",
       "      <td>46178</td>\n",
       "      <td>7.83</td>\n",
       "    </tr>\n",
       "    <tr>\n",
       "      <th>2</th>\n",
       "      <td>NA</td>\n",
       "      <td>23179</td>\n",
       "      <td>3.93</td>\n",
       "    </tr>\n",
       "    <tr>\n",
       "      <th>3</th>\n",
       "      <td>Wales</td>\n",
       "      <td>22775</td>\n",
       "      <td>3.86</td>\n",
       "    </tr>\n",
       "    <tr>\n",
       "      <th>4</th>\n",
       "      <td>Northern Ireland</td>\n",
       "      <td>11146</td>\n",
       "      <td>1.89</td>\n",
       "    </tr>\n",
       "  </tbody>\n",
       "</table>\n",
       "</div>"
      ],
      "text/plain": [
       "             nation   count  percentage\n",
       "0           England  486541       82.49\n",
       "1          Scotland   46178        7.83\n",
       "2                NA   23179        3.93\n",
       "3             Wales   22775        3.86\n",
       "4  Northern Ireland   11146        1.89"
      ]
     },
     "execution_count": 34,
     "metadata": {},
     "output_type": "execute_result"
    }
   ],
   "source": [
    "nation_pc = df.groupby(by = 'nation')['user_id'].count().reset_index()\n",
    "nation_pc = nation_pc.rename(columns = {'user_id': 'count'})\n",
    "nation_pc['percentage'] = nation_pc['count'].apply(lambda x: x*100/nation_pc['count'].sum())\n",
    "nation_pc = nation_pc.sort_values(by = 'percentage', ascending = False)\n",
    "nation_pc.reset_index(drop=True, inplace=True)\n",
    "nation_pc = nation_pc.round(2)\n",
    "nation_pc"
   ]
  },
  {
   "cell_type": "code",
   "execution_count": null,
   "metadata": {},
   "outputs": [],
   "source": [
    "ax = sns.barplot(data = nation_pc, x = 'nation', y = 'percentage', order = nation_pc['nation'])\n",
    "for p in ax.patches:\n",
    "    ax.annotate(str(p.get_height()), (p.get_x() * 1.005, p.get_height() * 1.005))\n",
    "    \n",
    "# for container in ax.containers:\n",
    "#     ax.bar_label(container)\n",
    "plt.show()"
   ]
  },
  {
   "cell_type": "markdown",
   "metadata": {},
   "source": [
    "Interpretation:\n",
    "- Users' accounts were linked to either England, Scotland, Wales or Northern Ireland. \n",
    "- Around 4% of the user's nation were unknown. \n",
    "- Vast majority of the users were linked to England, making up around 82% of the total users. Followed by Scotland with 7.8%. NI makes up the least percentage of users with 1.9%. "
   ]
  },
  {
   "cell_type": "code",
   "execution_count": null,
   "metadata": {},
   "outputs": [],
   "source": []
  },
  {
   "cell_type": "markdown",
   "metadata": {},
   "source": [
    "**Distribution of barb_region**"
   ]
  },
  {
   "cell_type": "code",
   "execution_count": 35,
   "metadata": {},
   "outputs": [
    {
     "data": {
      "text/html": [
       "<div>\n",
       "<style scoped>\n",
       "    .dataframe tbody tr th:only-of-type {\n",
       "        vertical-align: middle;\n",
       "    }\n",
       "\n",
       "    .dataframe tbody tr th {\n",
       "        vertical-align: top;\n",
       "    }\n",
       "\n",
       "    .dataframe thead th {\n",
       "        text-align: right;\n",
       "    }\n",
       "</style>\n",
       "<table border=\"1\" class=\"dataframe\">\n",
       "  <thead>\n",
       "    <tr style=\"text-align: right;\">\n",
       "      <th></th>\n",
       "      <th>barb_region</th>\n",
       "      <th>count</th>\n",
       "      <th>percentage</th>\n",
       "    </tr>\n",
       "  </thead>\n",
       "  <tbody>\n",
       "    <tr>\n",
       "      <th>0</th>\n",
       "      <td>London</td>\n",
       "      <td>136854</td>\n",
       "      <td>23.20</td>\n",
       "    </tr>\n",
       "    <tr>\n",
       "      <th>1</th>\n",
       "      <td>South</td>\n",
       "      <td>60003</td>\n",
       "      <td>10.17</td>\n",
       "    </tr>\n",
       "    <tr>\n",
       "      <th>2</th>\n",
       "      <td>North West</td>\n",
       "      <td>50652</td>\n",
       "      <td>8.59</td>\n",
       "    </tr>\n",
       "    <tr>\n",
       "      <th>3</th>\n",
       "      <td>Midlands West</td>\n",
       "      <td>46303</td>\n",
       "      <td>7.85</td>\n",
       "    </tr>\n",
       "    <tr>\n",
       "      <th>4</th>\n",
       "      <td>Scotland</td>\n",
       "      <td>46189</td>\n",
       "      <td>7.83</td>\n",
       "    </tr>\n",
       "    <tr>\n",
       "      <th>5</th>\n",
       "      <td>East of England</td>\n",
       "      <td>42682</td>\n",
       "      <td>7.24</td>\n",
       "    </tr>\n",
       "    <tr>\n",
       "      <th>6</th>\n",
       "      <td>Yorkshire and Lincolnshire</td>\n",
       "      <td>41371</td>\n",
       "      <td>7.01</td>\n",
       "    </tr>\n",
       "    <tr>\n",
       "      <th>7</th>\n",
       "      <td>West</td>\n",
       "      <td>28731</td>\n",
       "      <td>4.87</td>\n",
       "    </tr>\n",
       "    <tr>\n",
       "      <th>8</th>\n",
       "      <td>South East</td>\n",
       "      <td>24096</td>\n",
       "      <td>4.09</td>\n",
       "    </tr>\n",
       "    <tr>\n",
       "      <th>9</th>\n",
       "      <td>NA</td>\n",
       "      <td>22982</td>\n",
       "      <td>3.90</td>\n",
       "    </tr>\n",
       "    <tr>\n",
       "      <th>10</th>\n",
       "      <td>Wales</td>\n",
       "      <td>22766</td>\n",
       "      <td>3.86</td>\n",
       "    </tr>\n",
       "    <tr>\n",
       "      <th>11</th>\n",
       "      <td>North East and Cumbria</td>\n",
       "      <td>22073</td>\n",
       "      <td>3.74</td>\n",
       "    </tr>\n",
       "    <tr>\n",
       "      <th>12</th>\n",
       "      <td>Midlands East</td>\n",
       "      <td>18906</td>\n",
       "      <td>3.21</td>\n",
       "    </tr>\n",
       "    <tr>\n",
       "      <th>13</th>\n",
       "      <td>South West</td>\n",
       "      <td>15056</td>\n",
       "      <td>2.55</td>\n",
       "    </tr>\n",
       "    <tr>\n",
       "      <th>14</th>\n",
       "      <td>Ulster</td>\n",
       "      <td>11155</td>\n",
       "      <td>1.89</td>\n",
       "    </tr>\n",
       "  </tbody>\n",
       "</table>\n",
       "</div>"
      ],
      "text/plain": [
       "                   barb_region   count  percentage\n",
       "0                       London  136854       23.20\n",
       "1                        South   60003       10.17\n",
       "2                   North West   50652        8.59\n",
       "3                Midlands West   46303        7.85\n",
       "4                     Scotland   46189        7.83\n",
       "5              East of England   42682        7.24\n",
       "6   Yorkshire and Lincolnshire   41371        7.01\n",
       "7                         West   28731        4.87\n",
       "8                   South East   24096        4.09\n",
       "9                           NA   22982        3.90\n",
       "10                       Wales   22766        3.86\n",
       "11      North East and Cumbria   22073        3.74\n",
       "12               Midlands East   18906        3.21\n",
       "13                  South West   15056        2.55\n",
       "14                      Ulster   11155        1.89"
      ]
     },
     "execution_count": 35,
     "metadata": {},
     "output_type": "execute_result"
    }
   ],
   "source": [
    "barb_region_pc = df.groupby(by = 'barb_region')['user_id'].count().reset_index()\n",
    "barb_region_pc = barb_region_pc.rename(columns = {'user_id': 'count'})\n",
    "barb_region_pc['percentage'] = barb_region_pc['count'].apply(lambda x: x*100/barb_region_pc['count'].sum())\n",
    "barb_region_pc = barb_region_pc.sort_values(by = 'percentage', ascending = False)\n",
    "barb_region_pc.reset_index(drop=True, inplace=True)\n",
    "barb_region_pc = barb_region_pc.round(2)\n",
    "barb_region_pc"
   ]
  },
  {
   "cell_type": "code",
   "execution_count": null,
   "metadata": {},
   "outputs": [],
   "source": []
  },
  {
   "cell_type": "code",
   "execution_count": null,
   "metadata": {},
   "outputs": [],
   "source": [
    "age_range_pc = df.groupby(by = 'age_range')['user_id'].count().reset_index()\n",
    "age_range_pc = age_range_pc.rename(columns = {'user_id': 'count'})\n",
    "age_range_pc['percentage'] = age_range_pc['count'].apply(lambda x: x*100/age_range_pc['count'].sum())\n",
    "age_range_pc = age_range_pc.sort_values(by = 'percentage', ascending = False)\n",
    "age_range_pc.reset_index(drop=True, inplace=True)\n",
    "age_range_pc = age_range_pc.round(2)\n",
    "age_range_pc"
   ]
  },
  {
   "cell_type": "code",
   "execution_count": null,
   "metadata": {},
   "outputs": [],
   "source": []
  },
  {
   "cell_type": "code",
   "execution_count": null,
   "metadata": {},
   "outputs": [],
   "source": []
  },
  {
   "cell_type": "code",
   "execution_count": null,
   "metadata": {},
   "outputs": [],
   "source": []
  },
  {
   "cell_type": "code",
   "execution_count": null,
   "metadata": {},
   "outputs": [],
   "source": []
  },
  {
   "cell_type": "code",
   "execution_count": null,
   "metadata": {},
   "outputs": [],
   "source": []
  },
  {
   "cell_type": "code",
   "execution_count": null,
   "metadata": {},
   "outputs": [],
   "source": []
  },
  {
   "cell_type": "markdown",
   "metadata": {},
   "source": [
    "def convert_to_pc(dataframe):\n",
    "    for c in dataframe.columns:\n",
    "        dataframe[c] = dataframe[c].apply(lambda x: x*100/dataframe[c].sum(axis = 1)) \n",
    "    return dataframe \n",
    "    \n",
    "    \n",
    "age_range_device_piv_pc = convert_to_pc(age_range_device_piv)\n",
    "age_range_device_piv_pc.plot(kind = 'bar')"
   ]
  },
  {
   "cell_type": "code",
   "execution_count": null,
   "metadata": {},
   "outputs": [],
   "source": []
  },
  {
   "cell_type": "code",
   "execution_count": null,
   "metadata": {},
   "outputs": [],
   "source": []
  },
  {
   "cell_type": "code",
   "execution_count": null,
   "metadata": {},
   "outputs": [],
   "source": []
  },
  {
   "cell_type": "code",
   "execution_count": null,
   "metadata": {},
   "outputs": [],
   "source": []
  },
  {
   "cell_type": "code",
   "execution_count": null,
   "metadata": {},
   "outputs": [],
   "source": []
  },
  {
   "cell_type": "code",
   "execution_count": null,
   "metadata": {},
   "outputs": [],
   "source": [
    "df.columns"
   ]
  },
  {
   "cell_type": "code",
   "execution_count": null,
   "metadata": {},
   "outputs": [],
   "source": [
    "df.columns"
   ]
  },
  {
   "cell_type": "markdown",
   "metadata": {},
   "source": [
    "## Access behavior of the audience\n",
    "\n",
    "What type of apps and devices are used by the audience to access the content. Figures such as the following have been recorded:\n",
    "- number_visits_to_sport\n",
    "- number_of_sport_page_views\n",
    "- number_of_sport_articles_read\n",
    "- number_sport_clips_watched\n",
    "\n",
    "We will examine the behaviors of the audience based on type of app or device used to access the site. "
   ]
  },
  {
   "cell_type": "markdown",
   "metadata": {},
   "source": [
    "**Distribution of age range by device type**"
   ]
  },
  {
   "cell_type": "code",
   "execution_count": 36,
   "metadata": {},
   "outputs": [
    {
     "data": {
      "image/png": "[encoded data removed]",
      "text/plain": [
       "<Figure size 432x288 with 1 Axes>"
      ]
     },
     "metadata": {},
     "output_type": "display_data"
    },
    {
     "data": {
      "text/html": [
       "<div>\n",
       "<style scoped>\n",
       "    .dataframe tbody tr th:only-of-type {\n",
       "        vertical-align: middle;\n",
       "    }\n",
       "\n",
       "    .dataframe tbody tr th {\n",
       "        vertical-align: top;\n",
       "    }\n",
       "\n",
       "    .dataframe thead th {\n",
       "        text-align: right;\n",
       "    }\n",
       "</style>\n",
       "<table border=\"1\" class=\"dataframe\">\n",
       "  <thead>\n",
       "    <tr style=\"text-align: right;\">\n",
       "      <th>device_type</th>\n",
       "      <th>Console</th>\n",
       "      <th>Desktop</th>\n",
       "      <th>Smart TV</th>\n",
       "      <th>Smartphone</th>\n",
       "      <th>Tablet</th>\n",
       "    </tr>\n",
       "    <tr>\n",
       "      <th>age_range</th>\n",
       "      <th></th>\n",
       "      <th></th>\n",
       "      <th></th>\n",
       "      <th></th>\n",
       "      <th></th>\n",
       "    </tr>\n",
       "  </thead>\n",
       "  <tbody>\n",
       "    <tr>\n",
       "      <th>0-5</th>\n",
       "      <td>0</td>\n",
       "      <td>83</td>\n",
       "      <td>0</td>\n",
       "      <td>78</td>\n",
       "      <td>3</td>\n",
       "    </tr>\n",
       "    <tr>\n",
       "      <th>16-19</th>\n",
       "      <td>1</td>\n",
       "      <td>1236</td>\n",
       "      <td>0</td>\n",
       "      <td>1401</td>\n",
       "      <td>87</td>\n",
       "    </tr>\n",
       "    <tr>\n",
       "      <th>20-24</th>\n",
       "      <td>1</td>\n",
       "      <td>5346</td>\n",
       "      <td>0</td>\n",
       "      <td>6946</td>\n",
       "      <td>225</td>\n",
       "    </tr>\n",
       "    <tr>\n",
       "      <th>25-29</th>\n",
       "      <td>4</td>\n",
       "      <td>11890</td>\n",
       "      <td>1</td>\n",
       "      <td>19094</td>\n",
       "      <td>271</td>\n",
       "    </tr>\n",
       "    <tr>\n",
       "      <th>30-34</th>\n",
       "      <td>5</td>\n",
       "      <td>16585</td>\n",
       "      <td>3</td>\n",
       "      <td>33743</td>\n",
       "      <td>492</td>\n",
       "    </tr>\n",
       "    <tr>\n",
       "      <th>35-39</th>\n",
       "      <td>6</td>\n",
       "      <td>15779</td>\n",
       "      <td>3</td>\n",
       "      <td>38242</td>\n",
       "      <td>770</td>\n",
       "    </tr>\n",
       "    <tr>\n",
       "      <th>40-44</th>\n",
       "      <td>8</td>\n",
       "      <td>17736</td>\n",
       "      <td>3</td>\n",
       "      <td>41075</td>\n",
       "      <td>1293</td>\n",
       "    </tr>\n",
       "    <tr>\n",
       "      <th>45-49</th>\n",
       "      <td>6</td>\n",
       "      <td>20485</td>\n",
       "      <td>7</td>\n",
       "      <td>34949</td>\n",
       "      <td>2219</td>\n",
       "    </tr>\n",
       "    <tr>\n",
       "      <th>50-54</th>\n",
       "      <td>3</td>\n",
       "      <td>23392</td>\n",
       "      <td>12</td>\n",
       "      <td>29717</td>\n",
       "      <td>3305</td>\n",
       "    </tr>\n",
       "    <tr>\n",
       "      <th>55-59</th>\n",
       "      <td>2</td>\n",
       "      <td>23135</td>\n",
       "      <td>10</td>\n",
       "      <td>24582</td>\n",
       "      <td>4215</td>\n",
       "    </tr>\n",
       "    <tr>\n",
       "      <th>60-64</th>\n",
       "      <td>3</td>\n",
       "      <td>18389</td>\n",
       "      <td>7</td>\n",
       "      <td>17338</td>\n",
       "      <td>4181</td>\n",
       "    </tr>\n",
       "    <tr>\n",
       "      <th>65-70</th>\n",
       "      <td>0</td>\n",
       "      <td>15038</td>\n",
       "      <td>9</td>\n",
       "      <td>11661</td>\n",
       "      <td>4415</td>\n",
       "    </tr>\n",
       "    <tr>\n",
       "      <th>&gt;70</th>\n",
       "      <td>1</td>\n",
       "      <td>18171</td>\n",
       "      <td>8</td>\n",
       "      <td>9632</td>\n",
       "      <td>5815</td>\n",
       "    </tr>\n",
       "  </tbody>\n",
       "</table>\n",
       "</div>"
      ],
      "text/plain": [
       "device_type  Console  Desktop  Smart TV  Smartphone  Tablet\n",
       "age_range                                                  \n",
       "0-5                0       83         0          78       3\n",
       "16-19              1     1236         0        1401      87\n",
       "20-24              1     5346         0        6946     225\n",
       "25-29              4    11890         1       19094     271\n",
       "30-34              5    16585         3       33743     492\n",
       "35-39              6    15779         3       38242     770\n",
       "40-44              8    17736         3       41075    1293\n",
       "45-49              6    20485         7       34949    2219\n",
       "50-54              3    23392        12       29717    3305\n",
       "55-59              2    23135        10       24582    4215\n",
       "60-64              3    18389         7       17338    4181\n",
       "65-70              0    15038         9       11661    4415\n",
       ">70                1    18171         8        9632    5815"
      ]
     },
     "execution_count": 36,
     "metadata": {},
     "output_type": "execute_result"
    }
   ],
   "source": [
    "age_range_device_piv = pd.pivot_table(data = df_age_range, values = 'user_id', index = 'age_range', columns = 'device_type', aggfunc = 'count').fillna(0).astype('int')\n",
    "age_range_device_piv.plot(kind = 'bar')\n",
    "\n",
    "plt.title('Distribution of device type by age range')\n",
    "plt.show()\n",
    "\n",
    "age_range_device_piv"
   ]
  },
  {
   "cell_type": "code",
   "execution_count": 37,
   "metadata": {},
   "outputs": [
    {
     "data": {
      "text/html": [
       "<div>\n",
       "<style scoped>\n",
       "    .dataframe tbody tr th:only-of-type {\n",
       "        vertical-align: middle;\n",
       "    }\n",
       "\n",
       "    .dataframe tbody tr th {\n",
       "        vertical-align: top;\n",
       "    }\n",
       "\n",
       "    .dataframe thead th {\n",
       "        text-align: right;\n",
       "    }\n",
       "</style>\n",
       "<table border=\"1\" class=\"dataframe\">\n",
       "  <thead>\n",
       "    <tr style=\"text-align: right;\">\n",
       "      <th>device_type</th>\n",
       "      <th>Console</th>\n",
       "      <th>Desktop</th>\n",
       "      <th>Smart TV</th>\n",
       "      <th>Smartphone</th>\n",
       "      <th>Tablet</th>\n",
       "    </tr>\n",
       "    <tr>\n",
       "      <th>age_range</th>\n",
       "      <th></th>\n",
       "      <th></th>\n",
       "      <th></th>\n",
       "      <th></th>\n",
       "      <th></th>\n",
       "    </tr>\n",
       "  </thead>\n",
       "  <tbody>\n",
       "    <tr>\n",
       "      <th>0-5</th>\n",
       "      <td>0.000000</td>\n",
       "      <td>0.017180</td>\n",
       "      <td>0.000000</td>\n",
       "      <td>0.016145</td>\n",
       "      <td>0.000621</td>\n",
       "    </tr>\n",
       "    <tr>\n",
       "      <th>16-19</th>\n",
       "      <td>0.000207</td>\n",
       "      <td>0.255839</td>\n",
       "      <td>0.000000</td>\n",
       "      <td>0.289992</td>\n",
       "      <td>0.018008</td>\n",
       "    </tr>\n",
       "    <tr>\n",
       "      <th>20-24</th>\n",
       "      <td>0.000207</td>\n",
       "      <td>1.106564</td>\n",
       "      <td>0.000000</td>\n",
       "      <td>1.437747</td>\n",
       "      <td>0.046573</td>\n",
       "    </tr>\n",
       "    <tr>\n",
       "      <th>25-29</th>\n",
       "      <td>0.000828</td>\n",
       "      <td>2.461102</td>\n",
       "      <td>0.000207</td>\n",
       "      <td>3.952252</td>\n",
       "      <td>0.056094</td>\n",
       "    </tr>\n",
       "    <tr>\n",
       "      <th>30-34</th>\n",
       "      <td>0.001035</td>\n",
       "      <td>3.432916</td>\n",
       "      <td>0.000621</td>\n",
       "      <td>6.984436</td>\n",
       "      <td>0.101839</td>\n",
       "    </tr>\n",
       "    <tr>\n",
       "      <th>35-39</th>\n",
       "      <td>0.001242</td>\n",
       "      <td>3.266083</td>\n",
       "      <td>0.000621</td>\n",
       "      <td>7.915681</td>\n",
       "      <td>0.159382</td>\n",
       "    </tr>\n",
       "    <tr>\n",
       "      <th>40-44</th>\n",
       "      <td>0.001656</td>\n",
       "      <td>3.671160</td>\n",
       "      <td>0.000621</td>\n",
       "      <td>8.502081</td>\n",
       "      <td>0.267637</td>\n",
       "    </tr>\n",
       "    <tr>\n",
       "      <th>45-49</th>\n",
       "      <td>0.001242</td>\n",
       "      <td>4.240174</td>\n",
       "      <td>0.001449</td>\n",
       "      <td>7.234065</td>\n",
       "      <td>0.459309</td>\n",
       "    </tr>\n",
       "    <tr>\n",
       "      <th>50-54</th>\n",
       "      <td>0.000621</td>\n",
       "      <td>4.841891</td>\n",
       "      <td>0.002484</td>\n",
       "      <td>6.151098</td>\n",
       "      <td>0.684099</td>\n",
       "    </tr>\n",
       "    <tr>\n",
       "      <th>55-59</th>\n",
       "      <td>0.000414</td>\n",
       "      <td>4.788695</td>\n",
       "      <td>0.002070</td>\n",
       "      <td>5.088208</td>\n",
       "      <td>0.872459</td>\n",
       "    </tr>\n",
       "    <tr>\n",
       "      <th>60-64</th>\n",
       "      <td>0.000621</td>\n",
       "      <td>3.806324</td>\n",
       "      <td>0.001449</td>\n",
       "      <td>3.588779</td>\n",
       "      <td>0.865422</td>\n",
       "    </tr>\n",
       "    <tr>\n",
       "      <th>65-70</th>\n",
       "      <td>0.000000</td>\n",
       "      <td>3.112704</td>\n",
       "      <td>0.001863</td>\n",
       "      <td>2.413701</td>\n",
       "      <td>0.913857</td>\n",
       "    </tr>\n",
       "    <tr>\n",
       "      <th>&gt;70</th>\n",
       "      <td>0.000207</td>\n",
       "      <td>3.761201</td>\n",
       "      <td>0.001656</td>\n",
       "      <td>1.993720</td>\n",
       "      <td>1.203642</td>\n",
       "    </tr>\n",
       "  </tbody>\n",
       "</table>\n",
       "</div>"
      ],
      "text/plain": [
       "device_type   Console   Desktop  Smart TV  Smartphone    Tablet\n",
       "age_range                                                      \n",
       "0-5          0.000000  0.017180  0.000000    0.016145  0.000621\n",
       "16-19        0.000207  0.255839  0.000000    0.289992  0.018008\n",
       "20-24        0.000207  1.106564  0.000000    1.437747  0.046573\n",
       "25-29        0.000828  2.461102  0.000207    3.952252  0.056094\n",
       "30-34        0.001035  3.432916  0.000621    6.984436  0.101839\n",
       "35-39        0.001242  3.266083  0.000621    7.915681  0.159382\n",
       "40-44        0.001656  3.671160  0.000621    8.502081  0.267637\n",
       "45-49        0.001242  4.240174  0.001449    7.234065  0.459309\n",
       "50-54        0.000621  4.841891  0.002484    6.151098  0.684099\n",
       "55-59        0.000414  4.788695  0.002070    5.088208  0.872459\n",
       "60-64        0.000621  3.806324  0.001449    3.588779  0.865422\n",
       "65-70        0.000000  3.112704  0.001863    2.413701  0.913857\n",
       ">70          0.000207  3.761201  0.001656    1.993720  1.203642"
      ]
     },
     "execution_count": 37,
     "metadata": {},
     "output_type": "execute_result"
    }
   ],
   "source": [
    "age_range_device_piv_pc = (100 * age_range_device_piv / age_range_device_piv.sum().sum())\n",
    "age_range_device_piv_pc"
   ]
  },
  {
   "cell_type": "code",
   "execution_count": 38,
   "metadata": {},
   "outputs": [
    {
     "data": {
      "image/png": "[encoded data removed]",
      "text/plain": [
       "<Figure size 432x288 with 1 Axes>"
      ]
     },
     "metadata": {},
     "output_type": "display_data"
    }
   ],
   "source": [
    "# age_range_device_piv_pc\n",
    "\n",
    "age_range_device_piv_pc.plot(kind = 'bar')\n",
    "\n",
    "plt.title('Distribution of age range by device type (percentage)')\n",
    "plt.ylabel('Percentage')\n",
    "plt.show()"
   ]
  },
  {
   "cell_type": "markdown",
   "metadata": {},
   "source": [
    "Interpretation\n",
    "- Console and Smart TV make up a negligible percentage across all age groups. \n",
    "- As we have established in the previous slide on the distribution of device types used by the audience, the main devices are smartphones, desktop and then tablet. In that order. \n",
    "- There is a clear preference for device type across different age groups. \n",
    "    - "
   ]
  },
  {
   "cell_type": "code",
   "execution_count": null,
   "metadata": {},
   "outputs": [],
   "source": [
    "df.head()"
   ]
  },
  {
   "cell_type": "code",
   "execution_count": null,
   "metadata": {},
   "outputs": [],
   "source": []
  },
  {
   "cell_type": "markdown",
   "metadata": {},
   "source": [
    "**app_type vs number_of_***"
   ]
  },
  {
   "cell_type": "code",
   "execution_count": 39,
   "metadata": {},
   "outputs": [
    {
     "data": {
      "text/html": [
       "<div>\n",
       "<style scoped>\n",
       "    .dataframe tbody tr th:only-of-type {\n",
       "        vertical-align: middle;\n",
       "    }\n",
       "\n",
       "    .dataframe tbody tr th {\n",
       "        vertical-align: top;\n",
       "    }\n",
       "\n",
       "    .dataframe thead th {\n",
       "        text-align: right;\n",
       "    }\n",
       "</style>\n",
       "<table border=\"1\" class=\"dataframe\">\n",
       "  <thead>\n",
       "    <tr style=\"text-align: right;\">\n",
       "      <th></th>\n",
       "      <th>app_type</th>\n",
       "      <th>geo_country_site_visited</th>\n",
       "      <th>user_id</th>\n",
       "    </tr>\n",
       "  </thead>\n",
       "  <tbody>\n",
       "    <tr>\n",
       "      <th>0</th>\n",
       "      <td>NA</td>\n",
       "      <td>Afghanistan</td>\n",
       "      <td>0</td>\n",
       "    </tr>\n",
       "    <tr>\n",
       "      <th>1</th>\n",
       "      <td>NA</td>\n",
       "      <td>Albania</td>\n",
       "      <td>1</td>\n",
       "    </tr>\n",
       "    <tr>\n",
       "      <th>2</th>\n",
       "      <td>NA</td>\n",
       "      <td>Andorra</td>\n",
       "      <td>0</td>\n",
       "    </tr>\n",
       "    <tr>\n",
       "      <th>3</th>\n",
       "      <td>NA</td>\n",
       "      <td>Angola</td>\n",
       "      <td>0</td>\n",
       "    </tr>\n",
       "    <tr>\n",
       "      <th>4</th>\n",
       "      <td>NA</td>\n",
       "      <td>Antigua And Barbuda</td>\n",
       "      <td>0</td>\n",
       "    </tr>\n",
       "    <tr>\n",
       "      <th>...</th>\n",
       "      <td>...</td>\n",
       "      <td>...</td>\n",
       "      <td>...</td>\n",
       "    </tr>\n",
       "    <tr>\n",
       "      <th>411</th>\n",
       "      <td>responsive</td>\n",
       "      <td>United States</td>\n",
       "      <td>68</td>\n",
       "    </tr>\n",
       "    <tr>\n",
       "      <th>412</th>\n",
       "      <td>responsive</td>\n",
       "      <td>Viet Nam</td>\n",
       "      <td>0</td>\n",
       "    </tr>\n",
       "    <tr>\n",
       "      <th>413</th>\n",
       "      <td>responsive</td>\n",
       "      <td>Zambia</td>\n",
       "      <td>0</td>\n",
       "    </tr>\n",
       "    <tr>\n",
       "      <th>414</th>\n",
       "      <td>responsive</td>\n",
       "      <td>Zimbabwe</td>\n",
       "      <td>0</td>\n",
       "    </tr>\n",
       "    <tr>\n",
       "      <th>415</th>\n",
       "      <td>responsive</td>\n",
       "      <td>Ã…land Islands</td>\n",
       "      <td>0</td>\n",
       "    </tr>\n",
       "  </tbody>\n",
       "</table>\n",
       "<p>416 rows × 3 columns</p>\n",
       "</div>"
      ],
      "text/plain": [
       "       app_type geo_country_site_visited  user_id\n",
       "0            NA              Afghanistan        0\n",
       "1            NA                  Albania        1\n",
       "2            NA                  Andorra        0\n",
       "3            NA                   Angola        0\n",
       "4            NA      Antigua And Barbuda        0\n",
       "..          ...                      ...      ...\n",
       "411  responsive            United States       68\n",
       "412  responsive                 Viet Nam        0\n",
       "413  responsive                   Zambia        0\n",
       "414  responsive                 Zimbabwe        0\n",
       "415  responsive           Ã…land Islands        0\n",
       "\n",
       "[416 rows x 3 columns]"
      ]
     },
     "execution_count": 39,
     "metadata": {},
     "output_type": "execute_result"
    }
   ],
   "source": [
    "df.groupby(by = ['app_type', 'geo_country_site_visited'])['user_id'].count().reset_index()"
   ]
  },
  {
   "cell_type": "code",
   "execution_count": 49,
   "metadata": {},
   "outputs": [
    {
     "data": {
      "text/html": [
       "<div>\n",
       "<style scoped>\n",
       "    .dataframe tbody tr th:only-of-type {\n",
       "        vertical-align: middle;\n",
       "    }\n",
       "\n",
       "    .dataframe tbody tr th {\n",
       "        vertical-align: top;\n",
       "    }\n",
       "\n",
       "    .dataframe thead th {\n",
       "        text-align: right;\n",
       "    }\n",
       "</style>\n",
       "<table border=\"1\" class=\"dataframe\">\n",
       "  <thead>\n",
       "    <tr style=\"text-align: right;\">\n",
       "      <th></th>\n",
       "      <th>number_of_visits_to_sport</th>\n",
       "      <th>number_of_sport_page_views</th>\n",
       "      <th>number_of_sport_articles_read</th>\n",
       "      <th>number_of_sport_clips_watched</th>\n",
       "    </tr>\n",
       "    <tr>\n",
       "      <th>app_type</th>\n",
       "      <th></th>\n",
       "      <th></th>\n",
       "      <th></th>\n",
       "      <th></th>\n",
       "    </tr>\n",
       "  </thead>\n",
       "  <tbody>\n",
       "    <tr>\n",
       "      <th>NA</th>\n",
       "      <td>1.01</td>\n",
       "      <td>1.02</td>\n",
       "      <td>0.92</td>\n",
       "      <td>0.00</td>\n",
       "    </tr>\n",
       "    <tr>\n",
       "      <th>amp</th>\n",
       "      <td>1.05</td>\n",
       "      <td>NaN</td>\n",
       "      <td>0.00</td>\n",
       "      <td>1.16</td>\n",
       "    </tr>\n",
       "    <tr>\n",
       "      <th>mobile-app</th>\n",
       "      <td>1.60</td>\n",
       "      <td>1.93</td>\n",
       "      <td>1.67</td>\n",
       "      <td>0.00</td>\n",
       "    </tr>\n",
       "    <tr>\n",
       "      <th>responsive</th>\n",
       "      <td>1.51</td>\n",
       "      <td>1.93</td>\n",
       "      <td>1.55</td>\n",
       "      <td>0.70</td>\n",
       "    </tr>\n",
       "  </tbody>\n",
       "</table>\n",
       "</div>"
      ],
      "text/plain": [
       "            number_of_visits_to_sport  number_of_sport_page_views  \\\n",
       "app_type                                                            \n",
       "NA                               1.01                        1.02   \n",
       "amp                              1.05                         NaN   \n",
       "mobile-app                       1.60                        1.93   \n",
       "responsive                       1.51                        1.93   \n",
       "\n",
       "            number_of_sport_articles_read  number_of_sport_clips_watched  \n",
       "app_type                                                                  \n",
       "NA                                   0.92                           0.00  \n",
       "amp                                  0.00                           1.16  \n",
       "mobile-app                           1.67                           0.00  \n",
       "responsive                           1.55                           0.70  "
      ]
     },
     "execution_count": 49,
     "metadata": {},
     "output_type": "execute_result"
    }
   ],
   "source": [
    "# Mean\n",
    "app_no_piv1 = pd.pivot_table(data = df, values = 'number_of_visits_to_sport', index = 'app_type', aggfunc = 'mean')\n",
    "app_no_piv2 = pd.pivot_table(data = df, values = 'number_of_sport_page_views', index = 'app_type', aggfunc = 'mean')\n",
    "app_no_piv3 = pd.pivot_table(data = df, values = 'number_of_sport_articles_read', index = 'app_type', aggfunc = 'mean')\n",
    "app_no_piv4 = pd.pivot_table(data = df, values = 'number_of_sport_clips_watched', index = 'app_type', aggfunc = 'mean')\n",
    "app_no_piv = pd.concat([app_no_piv1, app_no_piv2, app_no_piv3, app_no_piv4], axis=1).round(2)\n",
    "app_no_piv"
   ]
  },
  {
   "cell_type": "code",
   "execution_count": 48,
   "metadata": {},
   "outputs": [
    {
     "data": {
      "text/html": [
       "<div>\n",
       "<style scoped>\n",
       "    .dataframe tbody tr th:only-of-type {\n",
       "        vertical-align: middle;\n",
       "    }\n",
       "\n",
       "    .dataframe tbody tr th {\n",
       "        vertical-align: top;\n",
       "    }\n",
       "\n",
       "    .dataframe thead th {\n",
       "        text-align: right;\n",
       "    }\n",
       "</style>\n",
       "<table border=\"1\" class=\"dataframe\">\n",
       "  <thead>\n",
       "    <tr style=\"text-align: right;\">\n",
       "      <th></th>\n",
       "      <th>number_of_visits_to_sport</th>\n",
       "      <th>number_of_sport_page_views</th>\n",
       "      <th>number_of_sport_articles_read</th>\n",
       "      <th>number_of_sport_clips_watched</th>\n",
       "    </tr>\n",
       "    <tr>\n",
       "      <th>app_type</th>\n",
       "      <th></th>\n",
       "      <th></th>\n",
       "      <th></th>\n",
       "      <th></th>\n",
       "    </tr>\n",
       "  </thead>\n",
       "  <tbody>\n",
       "    <tr>\n",
       "      <th>amp</th>\n",
       "      <td>20</td>\n",
       "      <td>0.0</td>\n",
       "      <td>0</td>\n",
       "      <td>22</td>\n",
       "    </tr>\n",
       "    <tr>\n",
       "      <th>mobile-app</th>\n",
       "      <td>291886</td>\n",
       "      <td>352635.0</td>\n",
       "      <td>305317</td>\n",
       "      <td>17</td>\n",
       "    </tr>\n",
       "    <tr>\n",
       "      <th>responsive</th>\n",
       "      <td>610466</td>\n",
       "      <td>759705.0</td>\n",
       "      <td>624928</td>\n",
       "      <td>281070</td>\n",
       "    </tr>\n",
       "  </tbody>\n",
       "</table>\n",
       "</div>"
      ],
      "text/plain": [
       "            number_of_visits_to_sport  number_of_sport_page_views  \\\n",
       "app_type                                                            \n",
       "amp                                20                         0.0   \n",
       "mobile-app                     291886                    352635.0   \n",
       "responsive                     610466                    759705.0   \n",
       "\n",
       "            number_of_sport_articles_read  number_of_sport_clips_watched  \n",
       "app_type                                                                  \n",
       "amp                                     0                             22  \n",
       "mobile-app                         305317                             17  \n",
       "responsive                         624928                         281070  "
      ]
     },
     "execution_count": 48,
     "metadata": {},
     "output_type": "execute_result"
    }
   ],
   "source": [
    "# sum and percent sum of the total\n",
    "app_no_piv1 = pd.pivot_table(data = df_app_type, values = 'number_of_visits_to_sport', index = 'app_type', aggfunc = 'sum')\n",
    "app_no_piv2 = pd.pivot_table(data = df_app_type, values = 'number_of_sport_page_views', index = 'app_type', aggfunc = 'sum')\n",
    "app_no_piv3 = pd.pivot_table(data = df_app_type, values = 'number_of_sport_articles_read', index = 'app_type', aggfunc = 'sum')\n",
    "app_no_piv4 = pd.pivot_table(data = df_app_type, values = 'number_of_sport_clips_watched', index = 'app_type', aggfunc = 'sum')\n",
    "app_no_piv = pd.concat([app_no_piv1, app_no_piv2, app_no_piv3, app_no_piv4], axis=1).round(5)\n",
    "# app_no_piv.loc[app_no_piv['app_type'] == 'NA']\n",
    "# app_no_piv.loc[app_no_piv['app_type']]\n",
    "app_no_piv.drop('NA', inplace = True)\n",
    "# app_no_piv\n",
    "app_no_piv_pc = (100*app_no_piv/app_no_piv.sum().sum())\n",
    "app_no_piv\n",
    "# app_no_piv.sum().sum()\n",
    "\n",
    "# gender_pc = gender_pc.loc[~gender_pc['gender'].isin(exclude_na)]"
   ]
  },
  {
   "cell_type": "code",
   "execution_count": 56,
   "metadata": {},
   "outputs": [
    {
     "data": {
      "image/png": "[encoded data removed]",
      "text/plain": [
       "<Figure size 1440x720 with 1 Axes>"
      ]
     },
     "metadata": {},
     "output_type": "display_data"
    }
   ],
   "source": [
    "fig_size = (50,20)\n",
    "app_no_piv.plot(kind = 'bar', legend = True, figsize = (20,10))\n",
    "plt.title('How app types are used')\n",
    "plt.ylabel('Mean')\n",
    "plt.legend(loc=2, prop={'size': 30})\n",
    "plt.show()"
   ]
  },
  {
   "cell_type": "code",
   "execution_count": 51,
   "metadata": {},
   "outputs": [
    {
     "data": {
      "text/plain": [
       "3402"
      ]
     },
     "execution_count": 51,
     "metadata": {},
     "output_type": "execute_result"
    }
   ],
   "source": [
    "len(df[df['app_type'] == 'NA'])"
   ]
  },
  {
   "cell_type": "markdown",
   "metadata": {},
   "source": [
    "Interpretation\n",
    "- mobile-app and responsive have comparable activity regarding how they access the sport section, with mobile-app having slightly higher number of visits and number of sports articles read. \n",
    "- Articles are more popular than sport clips amongst our audience. Within the sport clips category, users with the responsive app type access the sport clips by a significant margin. Number of sport clips watched by mobile app users are extremely low. "
   ]
  },
  {
   "cell_type": "markdown",
   "metadata": {},
   "source": [
    "**device_type vs number_of_***"
   ]
  },
  {
   "cell_type": "code",
   "execution_count": 58,
   "metadata": {},
   "outputs": [
    {
     "data": {
      "text/html": [
       "<div>\n",
       "<style scoped>\n",
       "    .dataframe tbody tr th:only-of-type {\n",
       "        vertical-align: middle;\n",
       "    }\n",
       "\n",
       "    .dataframe tbody tr th {\n",
       "        vertical-align: top;\n",
       "    }\n",
       "\n",
       "    .dataframe thead th {\n",
       "        text-align: right;\n",
       "    }\n",
       "</style>\n",
       "<table border=\"1\" class=\"dataframe\">\n",
       "  <thead>\n",
       "    <tr style=\"text-align: right;\">\n",
       "      <th></th>\n",
       "      <th>number_of_visits_to_sport</th>\n",
       "      <th>number_of_sport_page_views</th>\n",
       "      <th>number_of_sport_articles_read</th>\n",
       "      <th>number_of_sport_clips_watched</th>\n",
       "    </tr>\n",
       "    <tr>\n",
       "      <th>device_type</th>\n",
       "      <th></th>\n",
       "      <th></th>\n",
       "      <th></th>\n",
       "      <th></th>\n",
       "    </tr>\n",
       "  </thead>\n",
       "  <tbody>\n",
       "    <tr>\n",
       "      <th>Console</th>\n",
       "      <td>1.43182</td>\n",
       "      <td>2.04545</td>\n",
       "      <td>1.63636</td>\n",
       "      <td>0.77273</td>\n",
       "    </tr>\n",
       "    <tr>\n",
       "      <th>Desktop</th>\n",
       "      <td>1.44486</td>\n",
       "      <td>1.82184</td>\n",
       "      <td>1.56582</td>\n",
       "      <td>0.72879</td>\n",
       "    </tr>\n",
       "    <tr>\n",
       "      <th>Smart TV</th>\n",
       "      <td>1.30000</td>\n",
       "      <td>1.64286</td>\n",
       "      <td>1.45714</td>\n",
       "      <td>0.52857</td>\n",
       "    </tr>\n",
       "    <tr>\n",
       "      <th>Smartphone</th>\n",
       "      <td>1.61191</td>\n",
       "      <td>2.01389</td>\n",
       "      <td>1.60795</td>\n",
       "      <td>0.30946</td>\n",
       "    </tr>\n",
       "    <tr>\n",
       "      <th>Tablet</th>\n",
       "      <td>1.40707</td>\n",
       "      <td>1.81786</td>\n",
       "      <td>1.44749</td>\n",
       "      <td>0.40660</td>\n",
       "    </tr>\n",
       "  </tbody>\n",
       "</table>\n",
       "</div>"
      ],
      "text/plain": [
       "             number_of_visits_to_sport  number_of_sport_page_views  \\\n",
       "device_type                                                          \n",
       "Console                        1.43182                     2.04545   \n",
       "Desktop                        1.44486                     1.82184   \n",
       "Smart TV                       1.30000                     1.64286   \n",
       "Smartphone                     1.61191                     2.01389   \n",
       "Tablet                         1.40707                     1.81786   \n",
       "\n",
       "             number_of_sport_articles_read  number_of_sport_clips_watched  \n",
       "device_type                                                                \n",
       "Console                            1.63636                        0.77273  \n",
       "Desktop                            1.56582                        0.72879  \n",
       "Smart TV                           1.45714                        0.52857  \n",
       "Smartphone                         1.60795                        0.30946  \n",
       "Tablet                             1.44749                        0.40660  "
      ]
     },
     "execution_count": 58,
     "metadata": {},
     "output_type": "execute_result"
    }
   ],
   "source": [
    "device_no_piv1 = pd.pivot_table(data = df, values = 'number_of_visits_to_sport', index = 'device_type', aggfunc = 'mean')\n",
    "device_no_piv2 = pd.pivot_table(data = df, values = 'number_of_sport_page_views', index = 'device_type', aggfunc = 'mean')\n",
    "device_no_piv3 = pd.pivot_table(data = df, values = 'number_of_sport_articles_read', index = 'device_type', aggfunc = 'mean')\n",
    "device_no_piv4 = pd.pivot_table(data = df, values = 'number_of_sport_clips_watched', index = 'device_type', aggfunc = 'mean')\n",
    "device_no_piv = pd.concat([device_no_piv1, device_no_piv2, device_no_piv3, device_no_piv4], axis=1).round(5)\n",
    "\n",
    "device_no_piv"
   ]
  },
  {
   "cell_type": "code",
   "execution_count": 72,
   "metadata": {},
   "outputs": [
    {
     "data": {
      "image/png": "[encoded data removed]",
      "text/plain": [
       "<Figure size 1440x720 with 1 Axes>"
      ]
     },
     "metadata": {},
     "output_type": "display_data"
    }
   ],
   "source": [
    "fig_size = (50,20)\n",
    "device_no_piv.plot(kind = 'bar', legend = True, figsize = (20,10))\n",
    "plt.title('How device types are used')\n",
    "plt.legend(loc=9, prop={'size': 18})\n",
    "plt.ylabel('Mean')\n",
    "plt.show()"
   ]
  },
  {
   "cell_type": "code",
   "execution_count": null,
   "metadata": {},
   "outputs": [],
   "source": []
  },
  {
   "cell_type": "code",
   "execution_count": 44,
   "metadata": {},
   "outputs": [
    {
     "data": {
      "text/plain": [
       "<AxesSubplot:xlabel='gender'>"
      ]
     },
     "execution_count": 44,
     "metadata": {},
     "output_type": "execute_result"
    },
    {
     "data": {
      "image/png": "[encoded data removed]",
      "text/plain": [
       "<Figure size 1440x720 with 1 Axes>"
      ]
     },
     "metadata": {},
     "output_type": "display_data"
    }
   ],
   "source": [
    "age_range_no_piv1 = pd.pivot_table(data = df, values = 'number_of_visits_to_sport', index = 'gender', aggfunc = 'mean')\n",
    "age_range_no_piv2 = pd.pivot_table(data = df, values = 'number_of_sport_page_views', index = 'gender', aggfunc = 'mean')\n",
    "age_range_no_piv3 = pd.pivot_table(data = df, values = 'number_of_sport_articles_read', index = 'gender', aggfunc = 'mean')\n",
    "age_range_no_piv4 = pd.pivot_table(data = df, values = 'number_of_sport_clips_watched', index = 'gender', aggfunc = 'mean')\n",
    "age_range_no_piv = pd.concat([age_range_no_piv1, age_range_no_piv2, age_range_no_piv3, age_range_no_piv4], axis=1).round(5)\n",
    "\n",
    "fig_size = (50,20)\n",
    "age_range_no_piv.plot(kind = 'bar', legend = True, figsize = (20,10))"
   ]
  },
  {
   "cell_type": "markdown",
   "metadata": {},
   "source": [
    "**device_type and app_type vs number_of_***"
   ]
  },
  {
   "cell_type": "code",
   "execution_count": 73,
   "metadata": {},
   "outputs": [
    {
     "data": {
      "text/plain": [
       "<AxesSubplot:xlabel='device_type,app_type'>"
      ]
     },
     "execution_count": 73,
     "metadata": {},
     "output_type": "execute_result"
    },
    {
     "data": {
      "image/png": "[encoded data removed]",
      "text/plain": [
       "<Figure size 432x288 with 1 Axes>"
      ]
     },
     "metadata": {},
     "output_type": "display_data"
    }
   ],
   "source": [
    "df1 = pd.pivot_table(data = df_app_type, values = 'number_of_visits_to_sport', index = ['device_type', 'app_type'], aggfunc = 'mean')\n",
    "df2 = pd.pivot_table(data = df_app_type, values = 'number_of_sport_page_views', index = ['device_type', 'app_type'], aggfunc = 'mean')\n",
    "df3 = pd.pivot_table(data = df_app_type, values = 'number_of_sport_articles_read', index = ['device_type', 'app_type'], aggfunc = 'mean')\n",
    "df4 = pd.pivot_table(data = df_app_type, values = 'number_of_sport_clips_watched', index = ['device_type', 'app_type'], aggfunc = 'mean')\n",
    "df1234 = pd.concat([df1, df2, df3, df4], axis = 1)\n",
    "df1234.plot(kind = 'bar')"
   ]
  },
  {
   "cell_type": "code",
   "execution_count": null,
   "metadata": {},
   "outputs": [],
   "source": []
  },
  {
   "cell_type": "code",
   "execution_count": null,
   "metadata": {},
   "outputs": [],
   "source": []
  },
  {
   "cell_type": "code",
   "execution_count": null,
   "metadata": {},
   "outputs": [],
   "source": [
    "# df.head()\n",
    "\n",
    "df['has_visited_homepage_10'] = df['has_visited_homepage'].apply(lambda x: 1 if x==True else 0)\n",
    "df['has_visited_news_10'] = df['has_visited_news'].apply(lambda x: 1 if x==True else 0)\n",
    "df['has_visited_iplayer_10'] = df['has_visited_iplayer'].apply(lambda x: 1 if x==True else 0)\n",
    "df['has_visited_sounds_10'] = df['has_visited_sounds'].apply(lambda x: 1 if x==True else 0)\n",
    "# x = int(x == 'true')\n",
    "\n",
    "df.head(10)"
   ]
  },
  {
   "cell_type": "markdown",
   "metadata": {},
   "source": [
    "**Percentage of homepage visitors for each age range**"
   ]
  },
  {
   "cell_type": "code",
   "execution_count": 74,
   "metadata": {},
   "outputs": [
    {
     "data": {
      "text/html": [
       "<div>\n",
       "<style scoped>\n",
       "    .dataframe tbody tr th:only-of-type {\n",
       "        vertical-align: middle;\n",
       "    }\n",
       "\n",
       "    .dataframe tbody tr th {\n",
       "        vertical-align: top;\n",
       "    }\n",
       "\n",
       "    .dataframe thead th {\n",
       "        text-align: right;\n",
       "    }\n",
       "</style>\n",
       "<table border=\"1\" class=\"dataframe\">\n",
       "  <thead>\n",
       "    <tr style=\"text-align: right;\">\n",
       "      <th></th>\n",
       "      <th></th>\n",
       "      <th>count</th>\n",
       "      <th>percent</th>\n",
       "    </tr>\n",
       "    <tr>\n",
       "      <th>age_range</th>\n",
       "      <th>has_visited_homepage</th>\n",
       "      <th></th>\n",
       "      <th></th>\n",
       "    </tr>\n",
       "  </thead>\n",
       "  <tbody>\n",
       "    <tr>\n",
       "      <th rowspan=\"2\" valign=\"top\">0-5</th>\n",
       "      <th>False</th>\n",
       "      <td>78</td>\n",
       "      <td>47.56</td>\n",
       "    </tr>\n",
       "    <tr>\n",
       "      <th>True</th>\n",
       "      <td>86</td>\n",
       "      <td>52.44</td>\n",
       "    </tr>\n",
       "    <tr>\n",
       "      <th rowspan=\"2\" valign=\"top\">16-19</th>\n",
       "      <th>False</th>\n",
       "      <td>1678</td>\n",
       "      <td>61.58</td>\n",
       "    </tr>\n",
       "    <tr>\n",
       "      <th>True</th>\n",
       "      <td>1047</td>\n",
       "      <td>38.42</td>\n",
       "    </tr>\n",
       "    <tr>\n",
       "      <th rowspan=\"2\" valign=\"top\">20-24</th>\n",
       "      <th>False</th>\n",
       "      <td>7974</td>\n",
       "      <td>63.70</td>\n",
       "    </tr>\n",
       "    <tr>\n",
       "      <th>True</th>\n",
       "      <td>4544</td>\n",
       "      <td>36.30</td>\n",
       "    </tr>\n",
       "    <tr>\n",
       "      <th rowspan=\"2\" valign=\"top\">25-29</th>\n",
       "      <th>False</th>\n",
       "      <td>17916</td>\n",
       "      <td>57.31</td>\n",
       "    </tr>\n",
       "    <tr>\n",
       "      <th>True</th>\n",
       "      <td>13344</td>\n",
       "      <td>42.69</td>\n",
       "    </tr>\n",
       "    <tr>\n",
       "      <th rowspan=\"2\" valign=\"top\">30-34</th>\n",
       "      <th>False</th>\n",
       "      <td>26883</td>\n",
       "      <td>52.89</td>\n",
       "    </tr>\n",
       "    <tr>\n",
       "      <th>True</th>\n",
       "      <td>23945</td>\n",
       "      <td>47.11</td>\n",
       "    </tr>\n",
       "    <tr>\n",
       "      <th rowspan=\"2\" valign=\"top\">35-39</th>\n",
       "      <th>False</th>\n",
       "      <td>29390</td>\n",
       "      <td>53.63</td>\n",
       "    </tr>\n",
       "    <tr>\n",
       "      <th>True</th>\n",
       "      <td>25410</td>\n",
       "      <td>46.37</td>\n",
       "    </tr>\n",
       "    <tr>\n",
       "      <th rowspan=\"2\" valign=\"top\">40-44</th>\n",
       "      <th>False</th>\n",
       "      <td>32088</td>\n",
       "      <td>53.38</td>\n",
       "    </tr>\n",
       "    <tr>\n",
       "      <th>True</th>\n",
       "      <td>28027</td>\n",
       "      <td>46.62</td>\n",
       "    </tr>\n",
       "    <tr>\n",
       "      <th rowspan=\"2\" valign=\"top\">45-49</th>\n",
       "      <th>False</th>\n",
       "      <td>31099</td>\n",
       "      <td>53.93</td>\n",
       "    </tr>\n",
       "    <tr>\n",
       "      <th>True</th>\n",
       "      <td>26567</td>\n",
       "      <td>46.07</td>\n",
       "    </tr>\n",
       "    <tr>\n",
       "      <th rowspan=\"2\" valign=\"top\">50-54</th>\n",
       "      <th>False</th>\n",
       "      <td>31668</td>\n",
       "      <td>56.12</td>\n",
       "    </tr>\n",
       "    <tr>\n",
       "      <th>True</th>\n",
       "      <td>24761</td>\n",
       "      <td>43.88</td>\n",
       "    </tr>\n",
       "    <tr>\n",
       "      <th rowspan=\"2\" valign=\"top\">55-59</th>\n",
       "      <th>False</th>\n",
       "      <td>31415</td>\n",
       "      <td>60.48</td>\n",
       "    </tr>\n",
       "    <tr>\n",
       "      <th>True</th>\n",
       "      <td>20529</td>\n",
       "      <td>39.52</td>\n",
       "    </tr>\n",
       "    <tr>\n",
       "      <th rowspan=\"2\" valign=\"top\">60-64</th>\n",
       "      <th>False</th>\n",
       "      <td>25069</td>\n",
       "      <td>62.80</td>\n",
       "    </tr>\n",
       "    <tr>\n",
       "      <th>True</th>\n",
       "      <td>14849</td>\n",
       "      <td>37.20</td>\n",
       "    </tr>\n",
       "    <tr>\n",
       "      <th rowspan=\"2\" valign=\"top\">65-70</th>\n",
       "      <th>False</th>\n",
       "      <td>20337</td>\n",
       "      <td>65.34</td>\n",
       "    </tr>\n",
       "    <tr>\n",
       "      <th>True</th>\n",
       "      <td>10786</td>\n",
       "      <td>34.66</td>\n",
       "    </tr>\n",
       "    <tr>\n",
       "      <th rowspan=\"2\" valign=\"top\">&gt;70</th>\n",
       "      <th>False</th>\n",
       "      <td>22959</td>\n",
       "      <td>68.28</td>\n",
       "    </tr>\n",
       "    <tr>\n",
       "      <th>True</th>\n",
       "      <td>10668</td>\n",
       "      <td>31.72</td>\n",
       "    </tr>\n",
       "  </tbody>\n",
       "</table>\n",
       "</div>"
      ],
      "text/plain": [
       "                                count  percent\n",
       "age_range has_visited_homepage                \n",
       "0-5       False                    78    47.56\n",
       "          True                     86    52.44\n",
       "16-19     False                  1678    61.58\n",
       "          True                   1047    38.42\n",
       "20-24     False                  7974    63.70\n",
       "          True                   4544    36.30\n",
       "25-29     False                 17916    57.31\n",
       "          True                  13344    42.69\n",
       "30-34     False                 26883    52.89\n",
       "          True                  23945    47.11\n",
       "35-39     False                 29390    53.63\n",
       "          True                  25410    46.37\n",
       "40-44     False                 32088    53.38\n",
       "          True                  28027    46.62\n",
       "45-49     False                 31099    53.93\n",
       "          True                  26567    46.07\n",
       "50-54     False                 31668    56.12\n",
       "          True                  24761    43.88\n",
       "55-59     False                 31415    60.48\n",
       "          True                  20529    39.52\n",
       "60-64     False                 25069    62.80\n",
       "          True                  14849    37.20\n",
       "65-70     False                 20337    65.34\n",
       "          True                  10786    34.66\n",
       ">70       False                 22959    68.28\n",
       "          True                  10668    31.72"
      ]
     },
     "execution_count": 74,
     "metadata": {},
     "output_type": "execute_result"
    }
   ],
   "source": [
    "age_homepage = df_age_range.groupby(by = ['age_range', 'has_visited_homepage']).agg({'user_id': 'count'})\n",
    "# age_homepage_pc = age_homepage.groupby(level = 0).apply(lambda x: 100*x / float(x.sum()))\n",
    "# age_homepage_pc.drop(exclude_age_range, inplace = True)\n",
    "# age_homepage_pc = age_homepage_pc.round(2)\n",
    "# age_homepage_pc\n",
    "\n",
    "age_homepage.rename(columns = {'user_id': 'count'}, inplace = True)\n",
    "age_homepage['percent'] = age_homepage.groupby(level = 0).apply(lambda x: 100*x / float(x.sum()))\n",
    "age_homepage.drop(exclude_age_range, inplace = True)\n",
    "age_homepage = age_homepage.round(2)\n",
    "\n",
    "age_homepage"
   ]
  },
  {
   "cell_type": "code",
   "execution_count": 75,
   "metadata": {},
   "outputs": [
    {
     "data": {
      "image/png": "[encoded data removed]",
      "text/plain": [
       "<Figure size 432x288 with 1 Axes>"
      ]
     },
     "metadata": {},
     "output_type": "display_data"
    }
   ],
   "source": [
    "age_homepage.drop(columns = 'count').unstack('has_visited_homepage').plot.bar()\n",
    "plt.title('Percentage of homepage visitors for each age range')\n",
    "plt.ylabel('Percentage')\n",
    "plt.show()"
   ]
  },
  {
   "cell_type": "markdown",
   "metadata": {},
   "source": [
    "Interpretation\n",
    "- The age groups with the highest viewership of NFL are also amongst the most active in terms of homepage viewing. "
   ]
  },
  {
   "cell_type": "markdown",
   "metadata": {},
   "source": [
    "**Percentage of news visitors for each age range**"
   ]
  },
  {
   "cell_type": "code",
   "execution_count": 76,
   "metadata": {},
   "outputs": [
    {
     "data": {
      "text/html": [
       "<div>\n",
       "<style scoped>\n",
       "    .dataframe tbody tr th:only-of-type {\n",
       "        vertical-align: middle;\n",
       "    }\n",
       "\n",
       "    .dataframe tbody tr th {\n",
       "        vertical-align: top;\n",
       "    }\n",
       "\n",
       "    .dataframe thead th {\n",
       "        text-align: right;\n",
       "    }\n",
       "</style>\n",
       "<table border=\"1\" class=\"dataframe\">\n",
       "  <thead>\n",
       "    <tr style=\"text-align: right;\">\n",
       "      <th></th>\n",
       "      <th></th>\n",
       "      <th>count</th>\n",
       "      <th>percent</th>\n",
       "    </tr>\n",
       "    <tr>\n",
       "      <th>age_range</th>\n",
       "      <th>has_visited_news</th>\n",
       "      <th></th>\n",
       "      <th></th>\n",
       "    </tr>\n",
       "  </thead>\n",
       "  <tbody>\n",
       "    <tr>\n",
       "      <th rowspan=\"2\" valign=\"top\">0-5</th>\n",
       "      <th>False</th>\n",
       "      <td>18</td>\n",
       "      <td>10.98</td>\n",
       "    </tr>\n",
       "    <tr>\n",
       "      <th>True</th>\n",
       "      <td>146</td>\n",
       "      <td>89.02</td>\n",
       "    </tr>\n",
       "    <tr>\n",
       "      <th rowspan=\"2\" valign=\"top\">16-19</th>\n",
       "      <th>False</th>\n",
       "      <td>495</td>\n",
       "      <td>18.17</td>\n",
       "    </tr>\n",
       "    <tr>\n",
       "      <th>True</th>\n",
       "      <td>2230</td>\n",
       "      <td>81.83</td>\n",
       "    </tr>\n",
       "    <tr>\n",
       "      <th rowspan=\"2\" valign=\"top\">20-24</th>\n",
       "      <th>False</th>\n",
       "      <td>2023</td>\n",
       "      <td>16.16</td>\n",
       "    </tr>\n",
       "    <tr>\n",
       "      <th>True</th>\n",
       "      <td>10495</td>\n",
       "      <td>83.84</td>\n",
       "    </tr>\n",
       "    <tr>\n",
       "      <th rowspan=\"2\" valign=\"top\">25-29</th>\n",
       "      <th>False</th>\n",
       "      <td>4721</td>\n",
       "      <td>15.10</td>\n",
       "    </tr>\n",
       "    <tr>\n",
       "      <th>True</th>\n",
       "      <td>26539</td>\n",
       "      <td>84.90</td>\n",
       "    </tr>\n",
       "    <tr>\n",
       "      <th rowspan=\"2\" valign=\"top\">30-34</th>\n",
       "      <th>False</th>\n",
       "      <td>7498</td>\n",
       "      <td>14.75</td>\n",
       "    </tr>\n",
       "    <tr>\n",
       "      <th>True</th>\n",
       "      <td>43330</td>\n",
       "      <td>85.25</td>\n",
       "    </tr>\n",
       "    <tr>\n",
       "      <th rowspan=\"2\" valign=\"top\">35-39</th>\n",
       "      <th>False</th>\n",
       "      <td>8087</td>\n",
       "      <td>14.76</td>\n",
       "    </tr>\n",
       "    <tr>\n",
       "      <th>True</th>\n",
       "      <td>46713</td>\n",
       "      <td>85.24</td>\n",
       "    </tr>\n",
       "    <tr>\n",
       "      <th rowspan=\"2\" valign=\"top\">40-44</th>\n",
       "      <th>False</th>\n",
       "      <td>8536</td>\n",
       "      <td>14.20</td>\n",
       "    </tr>\n",
       "    <tr>\n",
       "      <th>True</th>\n",
       "      <td>51579</td>\n",
       "      <td>85.80</td>\n",
       "    </tr>\n",
       "    <tr>\n",
       "      <th rowspan=\"2\" valign=\"top\">45-49</th>\n",
       "      <th>False</th>\n",
       "      <td>7505</td>\n",
       "      <td>13.01</td>\n",
       "    </tr>\n",
       "    <tr>\n",
       "      <th>True</th>\n",
       "      <td>50161</td>\n",
       "      <td>86.99</td>\n",
       "    </tr>\n",
       "    <tr>\n",
       "      <th rowspan=\"2\" valign=\"top\">50-54</th>\n",
       "      <th>False</th>\n",
       "      <td>7022</td>\n",
       "      <td>12.44</td>\n",
       "    </tr>\n",
       "    <tr>\n",
       "      <th>True</th>\n",
       "      <td>49407</td>\n",
       "      <td>87.56</td>\n",
       "    </tr>\n",
       "    <tr>\n",
       "      <th rowspan=\"2\" valign=\"top\">55-59</th>\n",
       "      <th>False</th>\n",
       "      <td>6513</td>\n",
       "      <td>12.54</td>\n",
       "    </tr>\n",
       "    <tr>\n",
       "      <th>True</th>\n",
       "      <td>45431</td>\n",
       "      <td>87.46</td>\n",
       "    </tr>\n",
       "    <tr>\n",
       "      <th rowspan=\"2\" valign=\"top\">60-64</th>\n",
       "      <th>False</th>\n",
       "      <td>4890</td>\n",
       "      <td>12.25</td>\n",
       "    </tr>\n",
       "    <tr>\n",
       "      <th>True</th>\n",
       "      <td>35028</td>\n",
       "      <td>87.75</td>\n",
       "    </tr>\n",
       "    <tr>\n",
       "      <th rowspan=\"2\" valign=\"top\">65-70</th>\n",
       "      <th>False</th>\n",
       "      <td>3739</td>\n",
       "      <td>12.01</td>\n",
       "    </tr>\n",
       "    <tr>\n",
       "      <th>True</th>\n",
       "      <td>27384</td>\n",
       "      <td>87.99</td>\n",
       "    </tr>\n",
       "    <tr>\n",
       "      <th rowspan=\"2\" valign=\"top\">&gt;70</th>\n",
       "      <th>False</th>\n",
       "      <td>4600</td>\n",
       "      <td>13.68</td>\n",
       "    </tr>\n",
       "    <tr>\n",
       "      <th>True</th>\n",
       "      <td>29027</td>\n",
       "      <td>86.32</td>\n",
       "    </tr>\n",
       "  </tbody>\n",
       "</table>\n",
       "</div>"
      ],
      "text/plain": [
       "                            count  percent\n",
       "age_range has_visited_news                \n",
       "0-5       False                18    10.98\n",
       "          True                146    89.02\n",
       "16-19     False               495    18.17\n",
       "          True               2230    81.83\n",
       "20-24     False              2023    16.16\n",
       "          True              10495    83.84\n",
       "25-29     False              4721    15.10\n",
       "          True              26539    84.90\n",
       "30-34     False              7498    14.75\n",
       "          True              43330    85.25\n",
       "35-39     False              8087    14.76\n",
       "          True              46713    85.24\n",
       "40-44     False              8536    14.20\n",
       "          True              51579    85.80\n",
       "45-49     False              7505    13.01\n",
       "          True              50161    86.99\n",
       "50-54     False              7022    12.44\n",
       "          True              49407    87.56\n",
       "55-59     False              6513    12.54\n",
       "          True              45431    87.46\n",
       "60-64     False              4890    12.25\n",
       "          True              35028    87.75\n",
       "65-70     False              3739    12.01\n",
       "          True              27384    87.99\n",
       ">70       False              4600    13.68\n",
       "          True              29027    86.32"
      ]
     },
     "execution_count": 76,
     "metadata": {},
     "output_type": "execute_result"
    }
   ],
   "source": [
    "age_news = df_age_range.groupby(by = ['age_range', 'has_visited_news']).agg({'user_id': 'count'})\n",
    "\n",
    "age_news.rename(columns = {'user_id': 'count'}, inplace = True)\n",
    "age_news['percent'] = age_news.groupby(level = 0).apply(lambda x: 100*x / float(x.sum()))\n",
    "age_news.drop(exclude_age_range, inplace = True)\n",
    "age_news = age_news.round(2)\n",
    "\n",
    "age_news"
   ]
  },
  {
   "cell_type": "code",
   "execution_count": 77,
   "metadata": {},
   "outputs": [
    {
     "data": {
      "image/png": "[encoded data removed]",
      "text/plain": [
       "<Figure size 432x288 with 1 Axes>"
      ]
     },
     "metadata": {},
     "output_type": "display_data"
    }
   ],
   "source": [
    "age_news.drop(columns = 'count').unstack('has_visited_news').plot.bar()\n",
    "plt.title('Percentage of news visitors for each age range')\n",
    "plt.ylabel('Percentage')\n",
    "\n",
    "plt.show()"
   ]
  },
  {
   "cell_type": "markdown",
   "metadata": {},
   "source": [
    "Interpretation \n",
    "- Relatively even distribution of News visitors across all age ranges, with around 80 -90% News visitors. "
   ]
  },
  {
   "cell_type": "markdown",
   "metadata": {},
   "source": [
    "**Percentage of iPlayer visitors for each age range**"
   ]
  },
  {
   "cell_type": "code",
   "execution_count": 78,
   "metadata": {},
   "outputs": [
    {
     "data": {
      "text/html": [
       "<div>\n",
       "<style scoped>\n",
       "    .dataframe tbody tr th:only-of-type {\n",
       "        vertical-align: middle;\n",
       "    }\n",
       "\n",
       "    .dataframe tbody tr th {\n",
       "        vertical-align: top;\n",
       "    }\n",
       "\n",
       "    .dataframe thead th {\n",
       "        text-align: right;\n",
       "    }\n",
       "</style>\n",
       "<table border=\"1\" class=\"dataframe\">\n",
       "  <thead>\n",
       "    <tr style=\"text-align: right;\">\n",
       "      <th></th>\n",
       "      <th></th>\n",
       "      <th>count</th>\n",
       "      <th>percent</th>\n",
       "    </tr>\n",
       "    <tr>\n",
       "      <th>age_range</th>\n",
       "      <th>has_visited_iplayer</th>\n",
       "      <th></th>\n",
       "      <th></th>\n",
       "    </tr>\n",
       "  </thead>\n",
       "  <tbody>\n",
       "    <tr>\n",
       "      <th rowspan=\"2\" valign=\"top\">0-5</th>\n",
       "      <th>False</th>\n",
       "      <td>69</td>\n",
       "      <td>42.07</td>\n",
       "    </tr>\n",
       "    <tr>\n",
       "      <th>True</th>\n",
       "      <td>95</td>\n",
       "      <td>57.93</td>\n",
       "    </tr>\n",
       "    <tr>\n",
       "      <th rowspan=\"2\" valign=\"top\">16-19</th>\n",
       "      <th>False</th>\n",
       "      <td>1570</td>\n",
       "      <td>57.61</td>\n",
       "    </tr>\n",
       "    <tr>\n",
       "      <th>True</th>\n",
       "      <td>1155</td>\n",
       "      <td>42.39</td>\n",
       "    </tr>\n",
       "    <tr>\n",
       "      <th rowspan=\"2\" valign=\"top\">20-24</th>\n",
       "      <th>False</th>\n",
       "      <td>7474</td>\n",
       "      <td>59.71</td>\n",
       "    </tr>\n",
       "    <tr>\n",
       "      <th>True</th>\n",
       "      <td>5044</td>\n",
       "      <td>40.29</td>\n",
       "    </tr>\n",
       "    <tr>\n",
       "      <th rowspan=\"2\" valign=\"top\">25-29</th>\n",
       "      <th>False</th>\n",
       "      <td>17998</td>\n",
       "      <td>57.58</td>\n",
       "    </tr>\n",
       "    <tr>\n",
       "      <th>True</th>\n",
       "      <td>13262</td>\n",
       "      <td>42.42</td>\n",
       "    </tr>\n",
       "    <tr>\n",
       "      <th rowspan=\"2\" valign=\"top\">30-34</th>\n",
       "      <th>False</th>\n",
       "      <td>27318</td>\n",
       "      <td>53.75</td>\n",
       "    </tr>\n",
       "    <tr>\n",
       "      <th>True</th>\n",
       "      <td>23510</td>\n",
       "      <td>46.25</td>\n",
       "    </tr>\n",
       "    <tr>\n",
       "      <th rowspan=\"2\" valign=\"top\">35-39</th>\n",
       "      <th>False</th>\n",
       "      <td>28213</td>\n",
       "      <td>51.48</td>\n",
       "    </tr>\n",
       "    <tr>\n",
       "      <th>True</th>\n",
       "      <td>26587</td>\n",
       "      <td>48.52</td>\n",
       "    </tr>\n",
       "    <tr>\n",
       "      <th rowspan=\"2\" valign=\"top\">40-44</th>\n",
       "      <th>False</th>\n",
       "      <td>30632</td>\n",
       "      <td>50.96</td>\n",
       "    </tr>\n",
       "    <tr>\n",
       "      <th>True</th>\n",
       "      <td>29483</td>\n",
       "      <td>49.04</td>\n",
       "    </tr>\n",
       "    <tr>\n",
       "      <th rowspan=\"2\" valign=\"top\">45-49</th>\n",
       "      <th>False</th>\n",
       "      <td>30268</td>\n",
       "      <td>52.49</td>\n",
       "    </tr>\n",
       "    <tr>\n",
       "      <th>True</th>\n",
       "      <td>27398</td>\n",
       "      <td>47.51</td>\n",
       "    </tr>\n",
       "    <tr>\n",
       "      <th rowspan=\"2\" valign=\"top\">50-54</th>\n",
       "      <th>False</th>\n",
       "      <td>30507</td>\n",
       "      <td>54.06</td>\n",
       "    </tr>\n",
       "    <tr>\n",
       "      <th>True</th>\n",
       "      <td>25922</td>\n",
       "      <td>45.94</td>\n",
       "    </tr>\n",
       "    <tr>\n",
       "      <th rowspan=\"2\" valign=\"top\">55-59</th>\n",
       "      <th>False</th>\n",
       "      <td>28706</td>\n",
       "      <td>55.26</td>\n",
       "    </tr>\n",
       "    <tr>\n",
       "      <th>True</th>\n",
       "      <td>23238</td>\n",
       "      <td>44.74</td>\n",
       "    </tr>\n",
       "    <tr>\n",
       "      <th rowspan=\"2\" valign=\"top\">60-64</th>\n",
       "      <th>False</th>\n",
       "      <td>21543</td>\n",
       "      <td>53.97</td>\n",
       "    </tr>\n",
       "    <tr>\n",
       "      <th>True</th>\n",
       "      <td>18375</td>\n",
       "      <td>46.03</td>\n",
       "    </tr>\n",
       "    <tr>\n",
       "      <th rowspan=\"2\" valign=\"top\">65-70</th>\n",
       "      <th>False</th>\n",
       "      <td>16089</td>\n",
       "      <td>51.69</td>\n",
       "    </tr>\n",
       "    <tr>\n",
       "      <th>True</th>\n",
       "      <td>15034</td>\n",
       "      <td>48.31</td>\n",
       "    </tr>\n",
       "    <tr>\n",
       "      <th rowspan=\"2\" valign=\"top\">&gt;70</th>\n",
       "      <th>False</th>\n",
       "      <td>17257</td>\n",
       "      <td>51.32</td>\n",
       "    </tr>\n",
       "    <tr>\n",
       "      <th>True</th>\n",
       "      <td>16370</td>\n",
       "      <td>48.68</td>\n",
       "    </tr>\n",
       "  </tbody>\n",
       "</table>\n",
       "</div>"
      ],
      "text/plain": [
       "                               count  percent\n",
       "age_range has_visited_iplayer                \n",
       "0-5       False                   69    42.07\n",
       "          True                    95    57.93\n",
       "16-19     False                 1570    57.61\n",
       "          True                  1155    42.39\n",
       "20-24     False                 7474    59.71\n",
       "          True                  5044    40.29\n",
       "25-29     False                17998    57.58\n",
       "          True                 13262    42.42\n",
       "30-34     False                27318    53.75\n",
       "          True                 23510    46.25\n",
       "35-39     False                28213    51.48\n",
       "          True                 26587    48.52\n",
       "40-44     False                30632    50.96\n",
       "          True                 29483    49.04\n",
       "45-49     False                30268    52.49\n",
       "          True                 27398    47.51\n",
       "50-54     False                30507    54.06\n",
       "          True                 25922    45.94\n",
       "55-59     False                28706    55.26\n",
       "          True                 23238    44.74\n",
       "60-64     False                21543    53.97\n",
       "          True                 18375    46.03\n",
       "65-70     False                16089    51.69\n",
       "          True                 15034    48.31\n",
       ">70       False                17257    51.32\n",
       "          True                 16370    48.68"
      ]
     },
     "execution_count": 78,
     "metadata": {},
     "output_type": "execute_result"
    }
   ],
   "source": [
    "age_iplayer = df_age_range.groupby(by = ['age_range', 'has_visited_iplayer']).agg({'user_id': 'count'})\n",
    "\n",
    "age_iplayer.rename(columns = {'user_id': 'count'}, inplace = True)\n",
    "age_iplayer['percent'] = age_iplayer.groupby(level = 0).apply(lambda x: 100*x / float(x.sum()))\n",
    "age_iplayer.drop(exclude_age_range, inplace = True)\n",
    "age_iplayer = age_iplayer.round(2)\n",
    "\n",
    "age_iplayer"
   ]
  },
  {
   "cell_type": "code",
   "execution_count": 79,
   "metadata": {},
   "outputs": [
    {
     "data": {
      "image/png": "[encoded data removed]",
      "text/plain": [
       "<Figure size 432x288 with 1 Axes>"
      ]
     },
     "metadata": {},
     "output_type": "display_data"
    }
   ],
   "source": [
    "age_iplayer.drop(columns = 'count').unstack('has_visited_iplayer').plot.bar()\n",
    "plt.title('Percentage of iPlayer visitors for each age range')\n",
    "plt.ylabel('Percentage')\n",
    "\n",
    "plt.show()"
   ]
  },
  {
   "cell_type": "markdown",
   "metadata": {},
   "source": [
    "**Percentage of Sounds users for each age range**"
   ]
  },
  {
   "cell_type": "code",
   "execution_count": 80,
   "metadata": {},
   "outputs": [
    {
     "data": {
      "text/html": [
       "<div>\n",
       "<style scoped>\n",
       "    .dataframe tbody tr th:only-of-type {\n",
       "        vertical-align: middle;\n",
       "    }\n",
       "\n",
       "    .dataframe tbody tr th {\n",
       "        vertical-align: top;\n",
       "    }\n",
       "\n",
       "    .dataframe thead th {\n",
       "        text-align: right;\n",
       "    }\n",
       "</style>\n",
       "<table border=\"1\" class=\"dataframe\">\n",
       "  <thead>\n",
       "    <tr style=\"text-align: right;\">\n",
       "      <th></th>\n",
       "      <th></th>\n",
       "      <th>count</th>\n",
       "      <th>percent</th>\n",
       "    </tr>\n",
       "    <tr>\n",
       "      <th>age_range</th>\n",
       "      <th>has_visited_sounds</th>\n",
       "      <th></th>\n",
       "      <th></th>\n",
       "    </tr>\n",
       "  </thead>\n",
       "  <tbody>\n",
       "    <tr>\n",
       "      <th rowspan=\"2\" valign=\"top\">0-5</th>\n",
       "      <th>False</th>\n",
       "      <td>133</td>\n",
       "      <td>81.10</td>\n",
       "    </tr>\n",
       "    <tr>\n",
       "      <th>True</th>\n",
       "      <td>31</td>\n",
       "      <td>18.90</td>\n",
       "    </tr>\n",
       "    <tr>\n",
       "      <th rowspan=\"2\" valign=\"top\">16-19</th>\n",
       "      <th>False</th>\n",
       "      <td>2151</td>\n",
       "      <td>78.94</td>\n",
       "    </tr>\n",
       "    <tr>\n",
       "      <th>True</th>\n",
       "      <td>574</td>\n",
       "      <td>21.06</td>\n",
       "    </tr>\n",
       "    <tr>\n",
       "      <th rowspan=\"2\" valign=\"top\">20-24</th>\n",
       "      <th>False</th>\n",
       "      <td>10076</td>\n",
       "      <td>80.49</td>\n",
       "    </tr>\n",
       "    <tr>\n",
       "      <th>True</th>\n",
       "      <td>2442</td>\n",
       "      <td>19.51</td>\n",
       "    </tr>\n",
       "    <tr>\n",
       "      <th rowspan=\"2\" valign=\"top\">25-29</th>\n",
       "      <th>False</th>\n",
       "      <td>24201</td>\n",
       "      <td>77.42</td>\n",
       "    </tr>\n",
       "    <tr>\n",
       "      <th>True</th>\n",
       "      <td>7059</td>\n",
       "      <td>22.58</td>\n",
       "    </tr>\n",
       "    <tr>\n",
       "      <th rowspan=\"2\" valign=\"top\">30-34</th>\n",
       "      <th>False</th>\n",
       "      <td>38511</td>\n",
       "      <td>75.77</td>\n",
       "    </tr>\n",
       "    <tr>\n",
       "      <th>True</th>\n",
       "      <td>12317</td>\n",
       "      <td>24.23</td>\n",
       "    </tr>\n",
       "    <tr>\n",
       "      <th rowspan=\"2\" valign=\"top\">35-39</th>\n",
       "      <th>False</th>\n",
       "      <td>40453</td>\n",
       "      <td>73.82</td>\n",
       "    </tr>\n",
       "    <tr>\n",
       "      <th>True</th>\n",
       "      <td>14347</td>\n",
       "      <td>26.18</td>\n",
       "    </tr>\n",
       "    <tr>\n",
       "      <th rowspan=\"2\" valign=\"top\">40-44</th>\n",
       "      <th>False</th>\n",
       "      <td>42745</td>\n",
       "      <td>71.11</td>\n",
       "    </tr>\n",
       "    <tr>\n",
       "      <th>True</th>\n",
       "      <td>17370</td>\n",
       "      <td>28.89</td>\n",
       "    </tr>\n",
       "    <tr>\n",
       "      <th rowspan=\"2\" valign=\"top\">45-49</th>\n",
       "      <th>False</th>\n",
       "      <td>40042</td>\n",
       "      <td>69.44</td>\n",
       "    </tr>\n",
       "    <tr>\n",
       "      <th>True</th>\n",
       "      <td>17624</td>\n",
       "      <td>30.56</td>\n",
       "    </tr>\n",
       "    <tr>\n",
       "      <th rowspan=\"2\" valign=\"top\">50-54</th>\n",
       "      <th>False</th>\n",
       "      <td>38514</td>\n",
       "      <td>68.25</td>\n",
       "    </tr>\n",
       "    <tr>\n",
       "      <th>True</th>\n",
       "      <td>17915</td>\n",
       "      <td>31.75</td>\n",
       "    </tr>\n",
       "    <tr>\n",
       "      <th rowspan=\"2\" valign=\"top\">55-59</th>\n",
       "      <th>False</th>\n",
       "      <td>35561</td>\n",
       "      <td>68.46</td>\n",
       "    </tr>\n",
       "    <tr>\n",
       "      <th>True</th>\n",
       "      <td>16383</td>\n",
       "      <td>31.54</td>\n",
       "    </tr>\n",
       "    <tr>\n",
       "      <th rowspan=\"2\" valign=\"top\">60-64</th>\n",
       "      <th>False</th>\n",
       "      <td>27672</td>\n",
       "      <td>69.32</td>\n",
       "    </tr>\n",
       "    <tr>\n",
       "      <th>True</th>\n",
       "      <td>12246</td>\n",
       "      <td>30.68</td>\n",
       "    </tr>\n",
       "    <tr>\n",
       "      <th rowspan=\"2\" valign=\"top\">65-70</th>\n",
       "      <th>False</th>\n",
       "      <td>22080</td>\n",
       "      <td>70.94</td>\n",
       "    </tr>\n",
       "    <tr>\n",
       "      <th>True</th>\n",
       "      <td>9043</td>\n",
       "      <td>29.06</td>\n",
       "    </tr>\n",
       "    <tr>\n",
       "      <th rowspan=\"2\" valign=\"top\">&gt;70</th>\n",
       "      <th>False</th>\n",
       "      <td>24661</td>\n",
       "      <td>73.34</td>\n",
       "    </tr>\n",
       "    <tr>\n",
       "      <th>True</th>\n",
       "      <td>8966</td>\n",
       "      <td>26.66</td>\n",
       "    </tr>\n",
       "  </tbody>\n",
       "</table>\n",
       "</div>"
      ],
      "text/plain": [
       "                              count  percent\n",
       "age_range has_visited_sounds                \n",
       "0-5       False                 133    81.10\n",
       "          True                   31    18.90\n",
       "16-19     False                2151    78.94\n",
       "          True                  574    21.06\n",
       "20-24     False               10076    80.49\n",
       "          True                 2442    19.51\n",
       "25-29     False               24201    77.42\n",
       "          True                 7059    22.58\n",
       "30-34     False               38511    75.77\n",
       "          True                12317    24.23\n",
       "35-39     False               40453    73.82\n",
       "          True                14347    26.18\n",
       "40-44     False               42745    71.11\n",
       "          True                17370    28.89\n",
       "45-49     False               40042    69.44\n",
       "          True                17624    30.56\n",
       "50-54     False               38514    68.25\n",
       "          True                17915    31.75\n",
       "55-59     False               35561    68.46\n",
       "          True                16383    31.54\n",
       "60-64     False               27672    69.32\n",
       "          True                12246    30.68\n",
       "65-70     False               22080    70.94\n",
       "          True                 9043    29.06\n",
       ">70       False               24661    73.34\n",
       "          True                 8966    26.66"
      ]
     },
     "execution_count": 80,
     "metadata": {},
     "output_type": "execute_result"
    }
   ],
   "source": [
    "age_sounds = df_age_range.groupby(by = ['age_range', 'has_visited_sounds']).agg({'user_id': 'count'})\n",
    "\n",
    "age_sounds.rename(columns = {'user_id': 'count'}, inplace = True)\n",
    "age_sounds['percent'] = age_sounds.groupby(level = 0).apply(lambda x: 100*x / float(x.sum()))\n",
    "age_sounds.drop(exclude_age_range, inplace = True)\n",
    "age_sounds = age_sounds.round(2)\n",
    "\n",
    "age_sounds"
   ]
  },
  {
   "cell_type": "code",
   "execution_count": 81,
   "metadata": {},
   "outputs": [
    {
     "data": {
      "image/png": "[encoded data removed]",
      "text/plain": [
       "<Figure size 432x288 with 1 Axes>"
      ]
     },
     "metadata": {},
     "output_type": "display_data"
    }
   ],
   "source": [
    "age_sounds.drop(columns = 'count').unstack('has_visited_sounds').plot.bar()\n",
    "plt.title('Percentage of Sounds visitors for each age range')\n",
    "plt.ylabel('Percentage')\n",
    "\n",
    "plt.show()"
   ]
  },
  {
   "cell_type": "code",
   "execution_count": 82,
   "metadata": {},
   "outputs": [
    {
     "name": "stdout",
     "output_type": "stream",
     "text": [
      "0.4174924849826811\n",
      "0.8587431059358888\n",
      "0.47328417701023534\n",
      "0.2954347011540829\n"
     ]
    }
   ],
   "source": [
    "# print(len(df[df['has_visited_homepage'] == True])/len(df))\n",
    "# print(len(df[df['has_visited_homepage'] == True])/len(df))\n",
    "# print(len(df[df['has_visited_homepage'] == True])/len(df))\n",
    "# print(len(df[df['has_visited_homepage'] == True])/len(df))\n",
    "\n",
    "other_sections = ['has_visited_homepage', 'has_visited_news', 'has_visited_iplayer', 'has_visited_sounds']\n",
    "\n",
    "for c in other_sections:\n",
    "    print(len(df[df[c] == True])/len(df))\n",
    "    "
   ]
  },
  {
   "cell_type": "markdown",
   "metadata": {},
   "source": [
    "Interpretation\n",
    "- The NFL audience most actively engages with the News page out of homepage, news, iPlayer and Sounds with around 85.9% of the audience reporting they also check BBC news.\n",
    "- BBC Sounds is the least popular amongst the NFL audience with only 29.5% of the NFL audience reporting BBC Sounds usage. \n",
    "- Under 50% of the NFL audience have visited homepage (41.7%) or iPlayer (47.3%). \n",
    "- Based on the data, it is recommended to include NFL content in the News section to reach target audience or maximize engagement. \n",
    "- The target age range are more active on the homepage and iPlayer, whereas the older age groups are more active on Sounds. \n",
    "- Comparing across age groups, the target age groups (_____) are more active on homepage and iPlayer whereas the older age groups have a higher proprtion using Sounds. "
   ]
  },
  {
   "cell_type": "markdown",
   "metadata": {},
   "source": [
    "**Correlation between number of * and iPlayer and Sounds**"
   ]
  },
  {
   "cell_type": "code",
   "execution_count": 101,
   "metadata": {},
   "outputs": [
    {
     "data": {
      "text/plain": [
       "54450"
      ]
     },
     "execution_count": 101,
     "metadata": {},
     "output_type": "execute_result"
    }
   ],
   "source": [
    "len(df[df.duplicated(subset = 'user_id', keep = 'first')].sort_values(by = 'user_id'))"
   ]
  },
  {
   "cell_type": "code",
   "execution_count": 97,
   "metadata": {},
   "outputs": [
    {
     "data": {
      "text/plain": [
       "589819"
      ]
     },
     "execution_count": 97,
     "metadata": {},
     "output_type": "execute_result"
    }
   ],
   "source": [
    "len(df)"
   ]
  },
  {
   "cell_type": "code",
   "execution_count": 103,
   "metadata": {},
   "outputs": [
    {
     "data": {
      "text/plain": [
       "535369"
      ]
     },
     "execution_count": 103,
     "metadata": {},
     "output_type": "execute_result"
    }
   ],
   "source": [
    "len(df['user_id'].unique())"
   ]
  },
  {
   "cell_type": "code",
   "execution_count": null,
   "metadata": {},
   "outputs": [],
   "source": []
  },
  {
   "cell_type": "code",
   "execution_count": null,
   "metadata": {},
   "outputs": [],
   "source": []
  },
  {
   "cell_type": "code",
   "execution_count": null,
   "metadata": {},
   "outputs": [],
   "source": []
  },
  {
   "cell_type": "code",
   "execution_count": null,
   "metadata": {},
   "outputs": [],
   "source": []
  },
  {
   "cell_type": "code",
   "execution_count": null,
   "metadata": {},
   "outputs": [],
   "source": []
  },
  {
   "cell_type": "code",
   "execution_count": null,
   "metadata": {},
   "outputs": [],
   "source": [
    "len(df)"
   ]
  },
  {
   "cell_type": "code",
   "execution_count": null,
   "metadata": {},
   "outputs": [],
   "source": [
    "len(df.drop_duplicates(subset = 'user_id', keep = 'last'))"
   ]
  },
  {
   "cell_type": "code",
   "execution_count": null,
   "metadata": {},
   "outputs": [],
   "source": []
  },
  {
   "cell_type": "code",
   "execution_count": null,
   "metadata": {},
   "outputs": [],
   "source": []
  },
  {
   "cell_type": "code",
   "execution_count": null,
   "metadata": {},
   "outputs": [],
   "source": []
  },
  {
   "cell_type": "code",
   "execution_count": null,
   "metadata": {},
   "outputs": [],
   "source": []
  },
  {
   "cell_type": "code",
   "execution_count": null,
   "metadata": {},
   "outputs": [],
   "source": []
  },
  {
   "cell_type": "code",
   "execution_count": null,
   "metadata": {},
   "outputs": [],
   "source": []
  },
  {
   "cell_type": "code",
   "execution_count": null,
   "metadata": {},
   "outputs": [],
   "source": []
  },
  {
   "cell_type": "code",
   "execution_count": null,
   "metadata": {},
   "outputs": [],
   "source": []
  },
  {
   "cell_type": "code",
   "execution_count": null,
   "metadata": {},
   "outputs": [],
   "source": []
  },
  {
   "cell_type": "code",
   "execution_count": null,
   "metadata": {},
   "outputs": [],
   "source": []
  },
  {
   "cell_type": "code",
   "execution_count": null,
   "metadata": {},
   "outputs": [],
   "source": []
  },
  {
   "cell_type": "code",
   "execution_count": null,
   "metadata": {},
   "outputs": [],
   "source": []
  },
  {
   "cell_type": "code",
   "execution_count": null,
   "metadata": {},
   "outputs": [],
   "source": []
  },
  {
   "cell_type": "code",
   "execution_count": null,
   "metadata": {},
   "outputs": [],
   "source": []
  },
  {
   "cell_type": "code",
   "execution_count": null,
   "metadata": {},
   "outputs": [],
   "source": []
  },
  {
   "cell_type": "code",
   "execution_count": null,
   "metadata": {},
   "outputs": [],
   "source": []
  },
  {
   "cell_type": "code",
   "execution_count": null,
   "metadata": {},
   "outputs": [],
   "source": []
  },
  {
   "cell_type": "code",
   "execution_count": null,
   "metadata": {},
   "outputs": [],
   "source": []
  },
  {
   "cell_type": "code",
   "execution_count": null,
   "metadata": {},
   "outputs": [],
   "source": []
  },
  {
   "cell_type": "code",
   "execution_count": null,
   "metadata": {},
   "outputs": [],
   "source": []
  },
  {
   "cell_type": "code",
   "execution_count": null,
   "metadata": {},
   "outputs": [],
   "source": [
    "sns.countplot(data = df, x = 'age_range', hue = 'gender')\n",
    "plt.xticks(rotation = 'vertical')"
   ]
  },
  {
   "cell_type": "code",
   "execution_count": null,
   "metadata": {},
   "outputs": [],
   "source": [
    "df[(df['gender'] == 'NA') & (df['age_range'] == 'NA')]"
   ]
  },
  {
   "cell_type": "code",
   "execution_count": null,
   "metadata": {},
   "outputs": [],
   "source": []
  },
  {
   "cell_type": "code",
   "execution_count": null,
   "metadata": {},
   "outputs": [],
   "source": [
    "# df[df['user_id'].duplicated(keep = False)].sort_values(by = 'user_id', ascending = True)\n",
    "df[df.duplicated(subset = 'user_id', keep = False)].sort_values(by = 'user_id')"
   ]
  },
  {
   "cell_type": "code",
   "execution_count": null,
   "metadata": {},
   "outputs": [],
   "source": [
    "df[df.duplicated(keep = False)].sort_values(by = 'user_id')"
   ]
  },
  {
   "cell_type": "code",
   "execution_count": null,
   "metadata": {},
   "outputs": [],
   "source": []
  },
  {
   "cell_type": "code",
   "execution_count": null,
   "metadata": {},
   "outputs": [],
   "source": []
  },
  {
   "cell_type": "code",
   "execution_count": null,
   "metadata": {},
   "outputs": [],
   "source": []
  },
  {
   "cell_type": "code",
   "execution_count": null,
   "metadata": {},
   "outputs": [],
   "source": []
  },
  {
   "cell_type": "code",
   "execution_count": null,
   "metadata": {},
   "outputs": [],
   "source": []
  },
  {
   "cell_type": "code",
   "execution_count": null,
   "metadata": {},
   "outputs": [],
   "source": [
    "df_new_cols = ['app_type', 'device_type', 'number_of_visits_to_sport', 'number_of_sport_page_views', 'number_of_sport_articles_read', 'number_of_sport_clips_watched']"
   ]
  },
  {
   "cell_type": "code",
   "execution_count": null,
   "metadata": {},
   "outputs": [],
   "source": [
    "df_new = df[df_new_cols]\n",
    "df_new"
   ]
  },
  {
   "cell_type": "code",
   "execution_count": null,
   "metadata": {},
   "outputs": [],
   "source": [
    "sns.pairplot(df_new)"
   ]
  },
  {
   "cell_type": "code",
   "execution_count": null,
   "metadata": {},
   "outputs": [],
   "source": []
  },
  {
   "cell_type": "code",
   "execution_count": null,
   "metadata": {},
   "outputs": [],
   "source": [
    "number_of_visits_to_sport_cp = df['number_of_visits_to_sport'].value_counts().reset_index().sort_values(by = 'index').rename(columns = {'index': 'number_of_visits_to_sport', 'number_of_visits_to_sport': 'count'})\n",
    "number_of_visits_to_sport_cp['cum_percent'] = 100*(number_of_visits_to_sport_cp['count'].cumsum() / number_of_visits_to_sport_cp['count'].sum())\n",
    "number_of_visits_to_sport_cp\n",
    "number_of_visits_to_sport_cp['cum_percent'].plot()"
   ]
  },
  {
   "cell_type": "code",
   "execution_count": null,
   "metadata": {},
   "outputs": [],
   "source": [
    "ax = sns.histplot(data = df, x = 'number_of_visits_to_sport', bins=100)\n",
    "ax\n",
    "plt.show()"
   ]
  },
  {
   "cell_type": "code",
   "execution_count": null,
   "metadata": {},
   "outputs": [],
   "source": []
  },
  {
   "cell_type": "code",
   "execution_count": null,
   "metadata": {},
   "outputs": [],
   "source": []
  },
  {
   "cell_type": "code",
   "execution_count": null,
   "metadata": {},
   "outputs": [],
   "source": [
    "penguins = sns.load_dataset('penguins')\n",
    "penguins.head()"
   ]
  },
  {
   "cell_type": "code",
   "execution_count": null,
   "metadata": {},
   "outputs": [],
   "source": [
    "sns.pairplot(penguins, hue = 'sex')"
   ]
  },
  {
   "cell_type": "code",
   "execution_count": null,
   "metadata": {},
   "outputs": [],
   "source": []
  },
  {
   "cell_type": "code",
   "execution_count": null,
   "metadata": {},
   "outputs": [],
   "source": []
  },
  {
   "cell_type": "code",
   "execution_count": null,
   "metadata": {},
   "outputs": [],
   "source": []
  },
  {
   "cell_type": "code",
   "execution_count": null,
   "metadata": {},
   "outputs": [],
   "source": []
  },
  {
   "cell_type": "code",
   "execution_count": null,
   "metadata": {},
   "outputs": [],
   "source": []
  },
  {
   "cell_type": "code",
   "execution_count": null,
   "metadata": {},
   "outputs": [],
   "source": []
  },
  {
   "cell_type": "code",
   "execution_count": null,
   "metadata": {},
   "outputs": [],
   "source": [
    "# Selecting rows based on multiple column conditions\n",
    "\n",
    "# df.loc[(df['age_range'] == '30-34') &( df['device_type'] == 'Desktop')]"
   ]
  },
  {
   "cell_type": "code",
   "execution_count": null,
   "metadata": {},
   "outputs": [],
   "source": [
    "pd.set_option('display.max_rows', 500)"
   ]
  }
 ],
 "metadata": {
  "kernelspec": {
   "display_name": "Python 3",
   "language": "python",
   "name": "python3"
  },
  "language_info": {
   "codemirror_mode": {
    "name": "ipython",
    "version": 3
   },
   "file_extension": ".py",
   "mimetype": "text/x-python",
   "name": "python",
   "nbconvert_exporter": "python",
   "pygments_lexer": "ipython3",
   "version": "3.8.5"
  }
 },
 "nbformat": 4,
 "nbformat_minor": 4
}
