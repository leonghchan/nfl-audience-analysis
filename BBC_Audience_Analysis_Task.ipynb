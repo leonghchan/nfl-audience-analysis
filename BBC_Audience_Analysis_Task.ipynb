{
 "cells": [
  {
   "cell_type": "markdown",
   "metadata": {},
   "source": [
    "# NFL Audience Analysis"
   ]
  },
  {
   "cell_type": "markdown",
   "metadata": {},
   "source": [
    "## Data assessment:\n",
    "- Duplicates\n",
    "- Unique values\n",
    "- Null values \n",
    "- Data types "
   ]
  },
  {
   "cell_type": "markdown",
   "metadata": {},
   "source": [
    "**Importing modules**"
   ]
  },
  {
   "cell_type": "code",
   "execution_count": 1,
   "metadata": {},
   "outputs": [],
   "source": [
    "import pandas as pd\n",
    "import numpy as np\n",
    "import matplotlib.pyplot as plt\n",
    "import seaborn as sns\n",
    "\n",
    "%matplotlib inline\n",
    "sns.set_style('darkgrid')"
   ]
  },
  {
   "cell_type": "markdown",
   "metadata": {},
   "source": [
    "**Load Data**"
   ]
  },
  {
   "cell_type": "code",
   "execution_count": 20,
   "metadata": {},
   "outputs": [],
   "source": [
    "# raw_csv = pd.read_csv(\"nfl_draft_summary_table.csv\")\n",
    "# df = raw_csv.copy()\n",
    "# df.head()\n",
    "\n",
    "df = pd.read_csv(\"nfl_draft_summary_table.csv\")"
   ]
  },
  {
   "cell_type": "code",
   "execution_count": 21,
   "metadata": {},
   "outputs": [
    {
     "name": "stdout",
     "output_type": "stream",
     "text": [
      "<class 'pandas.core.frame.DataFrame'>\n",
      "RangeIndex: 589819 entries, 0 to 589818\n",
      "Data columns (total 18 columns):\n",
      " #   Column                         Non-Null Count   Dtype  \n",
      "---  ------                         --------------   -----  \n",
      " 0   user_id                        589819 non-null  object \n",
      " 1   app_type                       586417 non-null  object \n",
      " 2   device_type                    589819 non-null  object \n",
      " 3   geo_country_site_visited       589819 non-null  object \n",
      " 4   gender                         460430 non-null  object \n",
      " 5   nation                         566640 non-null  object \n",
      " 6   barb_region                    566837 non-null  object \n",
      " 7   age_range                      484109 non-null  object \n",
      " 8   number_of_visits_to_sport      589819 non-null  int64  \n",
      " 9   number_of_sport_page_views     578918 non-null  float64\n",
      " 10  number_of_sport_articles_read  589819 non-null  int64  \n",
      " 11  number_of_sport_clips_watched  589819 non-null  int64  \n",
      " 12  has_visited_homepage           589819 non-null  bool   \n",
      " 13  has_visited_news               589819 non-null  bool   \n",
      " 14  has_visited_iplayer            589819 non-null  bool   \n",
      " 15  videos_watched_on_iplayer      589819 non-null  int64  \n",
      " 16  has_visited_sounds             589819 non-null  bool   \n",
      " 17  shows_listened_to_on_sounds    589819 non-null  int64  \n",
      "dtypes: bool(4), float64(1), int64(5), object(8)\n",
      "memory usage: 65.2+ MB\n"
     ]
    }
   ],
   "source": [
    "df.info()"
   ]
  },
  {
   "cell_type": "code",
   "execution_count": 22,
   "metadata": {},
   "outputs": [
    {
     "data": {
      "text/plain": [
       "user_id                           object\n",
       "app_type                          object\n",
       "device_type                       object\n",
       "geo_country_site_visited          object\n",
       "gender                            object\n",
       "nation                            object\n",
       "barb_region                       object\n",
       "age_range                         object\n",
       "number_of_visits_to_sport          int64\n",
       "number_of_sport_page_views       float64\n",
       "number_of_sport_articles_read      int64\n",
       "number_of_sport_clips_watched      int64\n",
       "has_visited_homepage                bool\n",
       "has_visited_news                    bool\n",
       "has_visited_iplayer                 bool\n",
       "videos_watched_on_iplayer          int64\n",
       "has_visited_sounds                  bool\n",
       "shows_listened_to_on_sounds        int64\n",
       "dtype: object"
      ]
     },
     "execution_count": 22,
     "metadata": {},
     "output_type": "execute_result"
    }
   ],
   "source": [
    "df.dtypes"
   ]
  },
  {
   "cell_type": "markdown",
   "metadata": {},
   "source": [
    "**Filling null values with 'NA' string and converting categorical columns to category datatype**"
   ]
  },
  {
   "cell_type": "code",
   "execution_count": 23,
   "metadata": {},
   "outputs": [
    {
     "data": {
      "text/plain": [
       "user_id                               0\n",
       "app_type                           3402\n",
       "device_type                           0\n",
       "geo_country_site_visited              0\n",
       "gender                           129389\n",
       "nation                            23179\n",
       "barb_region                       22982\n",
       "age_range                        105710\n",
       "number_of_visits_to_sport             0\n",
       "number_of_sport_page_views        10901\n",
       "number_of_sport_articles_read         0\n",
       "number_of_sport_clips_watched         0\n",
       "has_visited_homepage                  0\n",
       "has_visited_news                      0\n",
       "has_visited_iplayer                   0\n",
       "videos_watched_on_iplayer             0\n",
       "has_visited_sounds                    0\n",
       "shows_listened_to_on_sounds           0\n",
       "dtype: int64"
      ]
     },
     "execution_count": 23,
     "metadata": {},
     "output_type": "execute_result"
    }
   ],
   "source": [
    "df.isnull().sum()"
   ]
  },
  {
   "cell_type": "code",
   "execution_count": 24,
   "metadata": {},
   "outputs": [
    {
     "name": "stdout",
     "output_type": "stream",
     "text": [
      "---- user_id ---\n",
      "0\n",
      "---- app_type ---\n",
      "3402\n",
      "---- device_type ---\n",
      "0\n",
      "---- geo_country_site_visited ---\n",
      "0\n",
      "---- gender ---\n",
      "129389\n",
      "---- nation ---\n",
      "23179\n",
      "---- barb_region ---\n",
      "22982\n",
      "---- age_range ---\n",
      "105710\n",
      "---- number_of_visits_to_sport ---\n",
      "0\n",
      "---- number_of_sport_page_views ---\n",
      "10901\n",
      "---- number_of_sport_articles_read ---\n",
      "0\n",
      "---- number_of_sport_clips_watched ---\n",
      "0\n",
      "---- has_visited_homepage ---\n",
      "0\n",
      "---- has_visited_news ---\n",
      "0\n",
      "---- has_visited_iplayer ---\n",
      "0\n",
      "---- videos_watched_on_iplayer ---\n",
      "0\n",
      "---- has_visited_sounds ---\n",
      "0\n",
      "---- shows_listened_to_on_sounds ---\n",
      "0\n"
     ]
    }
   ],
   "source": [
    "for c in df.columns:\n",
    "    print(\"---- %s ---\" % c)\n",
    "    print(df[c].isnull().sum())"
   ]
  },
  {
   "cell_type": "code",
   "execution_count": 25,
   "metadata": {},
   "outputs": [
    {
     "name": "stdout",
     "output_type": "stream",
     "text": [
      "---- user_id ---\n",
      "0.0\n",
      "---- app_type ---\n",
      "0.005767871160474654\n",
      "---- device_type ---\n",
      "0.0\n",
      "---- geo_country_site_visited ---\n",
      "0.0\n",
      "---- gender ---\n",
      "0.21937068829590095\n",
      "---- nation ---\n",
      "0.03929849665744915\n",
      "---- barb_region ---\n",
      "0.03896449588772149\n",
      "---- age_range ---\n",
      "0.17922447394878768\n",
      "---- number_of_visits_to_sport ---\n",
      "0.0\n",
      "---- number_of_sport_page_views ---\n",
      "0.018481941070057087\n",
      "---- number_of_sport_articles_read ---\n",
      "0.0\n",
      "---- number_of_sport_clips_watched ---\n",
      "0.0\n",
      "---- has_visited_homepage ---\n",
      "0.0\n",
      "---- has_visited_news ---\n",
      "0.0\n",
      "---- has_visited_iplayer ---\n",
      "0.0\n",
      "---- videos_watched_on_iplayer ---\n",
      "0.0\n",
      "---- has_visited_sounds ---\n",
      "0.0\n",
      "---- shows_listened_to_on_sounds ---\n",
      "0.0\n"
     ]
    }
   ],
   "source": [
    "# % of null values in each column.\n",
    "\n",
    "for c in df.columns:\n",
    "    print(\"---- %s ---\" % c)\n",
    "    print(df[c].isnull().sum()/len(df.index))"
   ]
  },
  {
   "cell_type": "markdown",
   "metadata": {},
   "source": [
    "- There are a significant number of null values for the gender category with around 21%. Age range is the column wtih the second most null values with around 17%. "
   ]
  },
  {
   "cell_type": "code",
   "execution_count": 26,
   "metadata": {},
   "outputs": [],
   "source": [
    "df.fillna('NA', inplace = True)\n",
    "df['number_of_sport_page_views'] = pd.to_numeric(df['number_of_sport_page_views'], errors = 'coerce', downcast = 'integer')"
   ]
  },
  {
   "cell_type": "code",
   "execution_count": 27,
   "metadata": {},
   "outputs": [],
   "source": [
    "categorical_cols = ['app_type', 'device_type', 'geo_country_site_visited', 'gender', 'nation', 'barb_region', 'age_range']\n",
    "df[categorical_cols] = df[categorical_cols].astype('category')"
   ]
  },
  {
   "cell_type": "markdown",
   "metadata": {},
   "source": [
    "**Excluding null values from the dataframe for each column with null values**\n",
    "\n",
    "- app_type\n",
    "- age range\n",
    "- gender\n",
    "- nation\n",
    "- barb_region\n",
    "- number_of_sport_page_views"
   ]
  },
  {
   "cell_type": "code",
   "execution_count": 28,
   "metadata": {},
   "outputs": [],
   "source": [
    "exclude_na = ['NA']"
   ]
  },
  {
   "cell_type": "code",
   "execution_count": 106,
   "metadata": {},
   "outputs": [
    {
     "data": {
      "text/plain": [
       "0"
      ]
     },
     "execution_count": 106,
     "metadata": {},
     "output_type": "execute_result"
    }
   ],
   "source": [
    "df_app_type = df[~df['app_type'].isin(exclude_na)]\n",
    "\n",
    "len(df_app_type.loc[df['app_type'] == 'NA'])"
   ]
  },
  {
   "cell_type": "code",
   "execution_count": 45,
   "metadata": {},
   "outputs": [
    {
     "data": {
      "text/html": [
       "<div>\n",
       "<style scoped>\n",
       "    .dataframe tbody tr th:only-of-type {\n",
       "        vertical-align: middle;\n",
       "    }\n",
       "\n",
       "    .dataframe tbody tr th {\n",
       "        vertical-align: top;\n",
       "    }\n",
       "\n",
       "    .dataframe thead th {\n",
       "        text-align: right;\n",
       "    }\n",
       "</style>\n",
       "<table border=\"1\" class=\"dataframe\">\n",
       "  <thead>\n",
       "    <tr style=\"text-align: right;\">\n",
       "      <th></th>\n",
       "      <th>user_id</th>\n",
       "      <th>app_type</th>\n",
       "      <th>device_type</th>\n",
       "      <th>geo_country_site_visited</th>\n",
       "      <th>gender</th>\n",
       "      <th>nation</th>\n",
       "      <th>barb_region</th>\n",
       "      <th>age_range</th>\n",
       "      <th>number_of_visits_to_sport</th>\n",
       "      <th>number_of_sport_page_views</th>\n",
       "      <th>number_of_sport_articles_read</th>\n",
       "      <th>number_of_sport_clips_watched</th>\n",
       "      <th>has_visited_homepage</th>\n",
       "      <th>has_visited_news</th>\n",
       "      <th>has_visited_iplayer</th>\n",
       "      <th>videos_watched_on_iplayer</th>\n",
       "      <th>has_visited_sounds</th>\n",
       "      <th>shows_listened_to_on_sounds</th>\n",
       "    </tr>\n",
       "  </thead>\n",
       "  <tbody>\n",
       "  </tbody>\n",
       "</table>\n",
       "</div>"
      ],
      "text/plain": [
       "Empty DataFrame\n",
       "Columns: [user_id, app_type, device_type, geo_country_site_visited, gender, nation, barb_region, age_range, number_of_visits_to_sport, number_of_sport_page_views, number_of_sport_articles_read, number_of_sport_clips_watched, has_visited_homepage, has_visited_news, has_visited_iplayer, videos_watched_on_iplayer, has_visited_sounds, shows_listened_to_on_sounds]\n",
       "Index: []"
      ]
     },
     "execution_count": 45,
     "metadata": {},
     "output_type": "execute_result"
    }
   ],
   "source": [
    "# df_age_range is df but excluding rows with values in exclude_age_range in the age_range column. \n",
    "\n",
    "exclude_age_range = ['NA', 'Nov-15', '06-Oct']\n",
    "\n",
    "df_age_range = df[~df['age_range'].isin(exclude_age_range)]\n",
    "df_age_range.head()\n",
    "\n",
    "len(df_age_range.loc[df['age_range'] == 'NA'])\n",
    "\n",
    "df_age_range.loc[df['age_range'] == 'NA']\n",
    "\n",
    "# mask = df['age_range'].isin(exclude_age_range)\n",
    "# df_age_range = df.loc[~mask]\n",
    "\n",
    "# len(df_age_range.loc[df['age_range'] == 'NA'])"
   ]
  },
  {
   "cell_type": "code",
   "execution_count": 46,
   "metadata": {},
   "outputs": [
    {
     "data": {
      "text/html": [
       "<div>\n",
       "<style scoped>\n",
       "    .dataframe tbody tr th:only-of-type {\n",
       "        vertical-align: middle;\n",
       "    }\n",
       "\n",
       "    .dataframe tbody tr th {\n",
       "        vertical-align: top;\n",
       "    }\n",
       "\n",
       "    .dataframe thead th {\n",
       "        text-align: right;\n",
       "    }\n",
       "</style>\n",
       "<table border=\"1\" class=\"dataframe\">\n",
       "  <thead>\n",
       "    <tr style=\"text-align: right;\">\n",
       "      <th></th>\n",
       "      <th>user_id</th>\n",
       "      <th>app_type</th>\n",
       "      <th>device_type</th>\n",
       "      <th>geo_country_site_visited</th>\n",
       "      <th>gender</th>\n",
       "      <th>nation</th>\n",
       "      <th>barb_region</th>\n",
       "      <th>age_range</th>\n",
       "      <th>number_of_visits_to_sport</th>\n",
       "      <th>number_of_sport_page_views</th>\n",
       "      <th>number_of_sport_articles_read</th>\n",
       "      <th>number_of_sport_clips_watched</th>\n",
       "      <th>has_visited_homepage</th>\n",
       "      <th>has_visited_news</th>\n",
       "      <th>has_visited_iplayer</th>\n",
       "      <th>videos_watched_on_iplayer</th>\n",
       "      <th>has_visited_sounds</th>\n",
       "      <th>shows_listened_to_on_sounds</th>\n",
       "    </tr>\n",
       "  </thead>\n",
       "  <tbody>\n",
       "    <tr>\n",
       "      <th>1</th>\n",
       "      <td>fe187ee047713c51bc8ea0bf3cd3c2a2</td>\n",
       "      <td>responsive</td>\n",
       "      <td>Desktop</td>\n",
       "      <td>United Kingdom</td>\n",
       "      <td>male</td>\n",
       "      <td>Scotland</td>\n",
       "      <td>Scotland</td>\n",
       "      <td>30-34</td>\n",
       "      <td>1</td>\n",
       "      <td>1.0</td>\n",
       "      <td>1</td>\n",
       "      <td>1</td>\n",
       "      <td>True</td>\n",
       "      <td>True</td>\n",
       "      <td>False</td>\n",
       "      <td>0</td>\n",
       "      <td>False</td>\n",
       "      <td>0</td>\n",
       "    </tr>\n",
       "    <tr>\n",
       "      <th>3</th>\n",
       "      <td>e6e400671473235522e974d301397823</td>\n",
       "      <td>mobile-app</td>\n",
       "      <td>Smartphone</td>\n",
       "      <td>United Kingdom</td>\n",
       "      <td>male</td>\n",
       "      <td>England</td>\n",
       "      <td>London</td>\n",
       "      <td>30-34</td>\n",
       "      <td>2</td>\n",
       "      <td>2.0</td>\n",
       "      <td>2</td>\n",
       "      <td>0</td>\n",
       "      <td>False</td>\n",
       "      <td>True</td>\n",
       "      <td>False</td>\n",
       "      <td>0</td>\n",
       "      <td>False</td>\n",
       "      <td>0</td>\n",
       "    </tr>\n",
       "    <tr>\n",
       "      <th>5</th>\n",
       "      <td>eeb22c8259ce42bcb177009f9fe29fa7</td>\n",
       "      <td>mobile-app</td>\n",
       "      <td>Smartphone</td>\n",
       "      <td>United Kingdom</td>\n",
       "      <td>male</td>\n",
       "      <td>Scotland</td>\n",
       "      <td>Scotland</td>\n",
       "      <td>45-49</td>\n",
       "      <td>1</td>\n",
       "      <td>2.0</td>\n",
       "      <td>1</td>\n",
       "      <td>0</td>\n",
       "      <td>False</td>\n",
       "      <td>True</td>\n",
       "      <td>True</td>\n",
       "      <td>12</td>\n",
       "      <td>True</td>\n",
       "      <td>1</td>\n",
       "    </tr>\n",
       "    <tr>\n",
       "      <th>6</th>\n",
       "      <td>4a41f266d2b4fd76a507c714dc645137</td>\n",
       "      <td>mobile-app</td>\n",
       "      <td>Smartphone</td>\n",
       "      <td>United Kingdom</td>\n",
       "      <td>prefer not to say</td>\n",
       "      <td>England</td>\n",
       "      <td>Yorkshire and Lincolnshire</td>\n",
       "      <td>30-34</td>\n",
       "      <td>1</td>\n",
       "      <td>1.0</td>\n",
       "      <td>1</td>\n",
       "      <td>0</td>\n",
       "      <td>False</td>\n",
       "      <td>False</td>\n",
       "      <td>True</td>\n",
       "      <td>2</td>\n",
       "      <td>True</td>\n",
       "      <td>0</td>\n",
       "    </tr>\n",
       "    <tr>\n",
       "      <th>7</th>\n",
       "      <td>c2eba81ce89e17008bf0cfeed073de9e</td>\n",
       "      <td>responsive</td>\n",
       "      <td>Desktop</td>\n",
       "      <td>United Kingdom</td>\n",
       "      <td>female</td>\n",
       "      <td>England</td>\n",
       "      <td>South</td>\n",
       "      <td>50-54</td>\n",
       "      <td>1</td>\n",
       "      <td>2.0</td>\n",
       "      <td>2</td>\n",
       "      <td>2</td>\n",
       "      <td>False</td>\n",
       "      <td>True</td>\n",
       "      <td>True</td>\n",
       "      <td>1</td>\n",
       "      <td>False</td>\n",
       "      <td>0</td>\n",
       "    </tr>\n",
       "  </tbody>\n",
       "</table>\n",
       "</div>"
      ],
      "text/plain": [
       "                            user_id    app_type device_type  \\\n",
       "1  fe187ee047713c51bc8ea0bf3cd3c2a2  responsive     Desktop   \n",
       "3  e6e400671473235522e974d301397823  mobile-app  Smartphone   \n",
       "5  eeb22c8259ce42bcb177009f9fe29fa7  mobile-app  Smartphone   \n",
       "6  4a41f266d2b4fd76a507c714dc645137  mobile-app  Smartphone   \n",
       "7  c2eba81ce89e17008bf0cfeed073de9e  responsive     Desktop   \n",
       "\n",
       "  geo_country_site_visited             gender    nation  \\\n",
       "1           United Kingdom               male  Scotland   \n",
       "3           United Kingdom               male   England   \n",
       "5           United Kingdom               male  Scotland   \n",
       "6           United Kingdom  prefer not to say   England   \n",
       "7           United Kingdom             female   England   \n",
       "\n",
       "                  barb_region age_range  number_of_visits_to_sport  \\\n",
       "1                    Scotland     30-34                          1   \n",
       "3                      London     30-34                          2   \n",
       "5                    Scotland     45-49                          1   \n",
       "6  Yorkshire and Lincolnshire     30-34                          1   \n",
       "7                       South     50-54                          1   \n",
       "\n",
       "   number_of_sport_page_views  number_of_sport_articles_read  \\\n",
       "1                         1.0                              1   \n",
       "3                         2.0                              2   \n",
       "5                         2.0                              1   \n",
       "6                         1.0                              1   \n",
       "7                         2.0                              2   \n",
       "\n",
       "   number_of_sport_clips_watched  has_visited_homepage  has_visited_news  \\\n",
       "1                              1                  True              True   \n",
       "3                              0                 False              True   \n",
       "5                              0                 False              True   \n",
       "6                              0                 False             False   \n",
       "7                              2                 False              True   \n",
       "\n",
       "   has_visited_iplayer  videos_watched_on_iplayer  has_visited_sounds  \\\n",
       "1                False                          0               False   \n",
       "3                False                          0               False   \n",
       "5                 True                         12                True   \n",
       "6                 True                          2                True   \n",
       "7                 True                          1               False   \n",
       "\n",
       "   shows_listened_to_on_sounds  \n",
       "1                            0  \n",
       "3                            0  \n",
       "5                            1  \n",
       "6                            0  \n",
       "7                            0  "
      ]
     },
     "execution_count": 46,
     "metadata": {},
     "output_type": "execute_result"
    }
   ],
   "source": [
    "exclude_na = ['NA']\n",
    "\n",
    "df_gender = df[~df['gender'].isin(exclude_na)]\n",
    "df_gender.head()\n",
    "\n",
    "# df['gender'].unique()\n",
    "# len(df_gender.loc[df['gender'] == 'NA'])"
   ]
  },
  {
   "cell_type": "code",
   "execution_count": null,
   "metadata": {},
   "outputs": [],
   "source": [
    "df.dtypes"
   ]
  },
  {
   "cell_type": "code",
   "execution_count": null,
   "metadata": {},
   "outputs": [],
   "source": [
    "# Check for anomalies in the categorical columns. \n",
    "\n",
    "# column_val_counts = ['age', 'gender']\n",
    "\n",
    "for column in categorical_cols:\n",
    "    print(\"---- %s ---\" % column)\n",
    "    print(df[column].value_counts())"
   ]
  },
  {
   "cell_type": "markdown",
   "metadata": {},
   "source": [
    "No erroneous categories are identified. "
   ]
  },
  {
   "cell_type": "markdown",
   "metadata": {},
   "source": [
    "**Overview of the dataset**"
   ]
  },
  {
   "cell_type": "code",
   "execution_count": null,
   "metadata": {},
   "outputs": [],
   "source": [
    "df.describe()"
   ]
  },
  {
   "cell_type": "markdown",
   "metadata": {},
   "source": [
    "## General insight on the audience"
   ]
  },
  {
   "cell_type": "markdown",
   "metadata": {},
   "source": [
    "- Distribution \n",
    "    - app_type\n",
    "    - device_type\n",
    "    - geo_country_site_visited"
   ]
  },
  {
   "cell_type": "code",
   "execution_count": null,
   "metadata": {},
   "outputs": [],
   "source": [
    "df.columns"
   ]
  },
  {
   "cell_type": "markdown",
   "metadata": {},
   "source": [
    "**Distribution of age_range**"
   ]
  },
  {
   "cell_type": "code",
   "execution_count": 52,
   "metadata": {},
   "outputs": [
    {
     "data": {
      "text/html": [
       "<div>\n",
       "<style scoped>\n",
       "    .dataframe tbody tr th:only-of-type {\n",
       "        vertical-align: middle;\n",
       "    }\n",
       "\n",
       "    .dataframe tbody tr th {\n",
       "        vertical-align: top;\n",
       "    }\n",
       "\n",
       "    .dataframe thead th {\n",
       "        text-align: right;\n",
       "    }\n",
       "</style>\n",
       "<table border=\"1\" class=\"dataframe\">\n",
       "  <thead>\n",
       "    <tr style=\"text-align: right;\">\n",
       "      <th></th>\n",
       "      <th>age_range</th>\n",
       "      <th>count</th>\n",
       "      <th>percentage</th>\n",
       "    </tr>\n",
       "  </thead>\n",
       "  <tbody>\n",
       "    <tr>\n",
       "      <th>0</th>\n",
       "      <td>0-5</td>\n",
       "      <td>164</td>\n",
       "      <td>0.03</td>\n",
       "    </tr>\n",
       "    <tr>\n",
       "      <th>2</th>\n",
       "      <td>16-19</td>\n",
       "      <td>2725</td>\n",
       "      <td>0.56</td>\n",
       "    </tr>\n",
       "    <tr>\n",
       "      <th>3</th>\n",
       "      <td>20-24</td>\n",
       "      <td>12518</td>\n",
       "      <td>2.59</td>\n",
       "    </tr>\n",
       "    <tr>\n",
       "      <th>4</th>\n",
       "      <td>25-29</td>\n",
       "      <td>31260</td>\n",
       "      <td>6.47</td>\n",
       "    </tr>\n",
       "    <tr>\n",
       "      <th>5</th>\n",
       "      <td>30-34</td>\n",
       "      <td>50828</td>\n",
       "      <td>10.52</td>\n",
       "    </tr>\n",
       "    <tr>\n",
       "      <th>6</th>\n",
       "      <td>35-39</td>\n",
       "      <td>54800</td>\n",
       "      <td>11.34</td>\n",
       "    </tr>\n",
       "    <tr>\n",
       "      <th>7</th>\n",
       "      <td>40-44</td>\n",
       "      <td>60115</td>\n",
       "      <td>12.44</td>\n",
       "    </tr>\n",
       "    <tr>\n",
       "      <th>8</th>\n",
       "      <td>45-49</td>\n",
       "      <td>57666</td>\n",
       "      <td>11.94</td>\n",
       "    </tr>\n",
       "    <tr>\n",
       "      <th>9</th>\n",
       "      <td>50-54</td>\n",
       "      <td>56429</td>\n",
       "      <td>11.68</td>\n",
       "    </tr>\n",
       "    <tr>\n",
       "      <th>10</th>\n",
       "      <td>55-59</td>\n",
       "      <td>51944</td>\n",
       "      <td>10.75</td>\n",
       "    </tr>\n",
       "    <tr>\n",
       "      <th>11</th>\n",
       "      <td>60-64</td>\n",
       "      <td>39918</td>\n",
       "      <td>8.26</td>\n",
       "    </tr>\n",
       "    <tr>\n",
       "      <th>12</th>\n",
       "      <td>65-70</td>\n",
       "      <td>31123</td>\n",
       "      <td>6.44</td>\n",
       "    </tr>\n",
       "    <tr>\n",
       "      <th>13</th>\n",
       "      <td>&gt;70</td>\n",
       "      <td>33627</td>\n",
       "      <td>6.96</td>\n",
       "    </tr>\n",
       "  </tbody>\n",
       "</table>\n",
       "</div>"
      ],
      "text/plain": [
       "   age_range  count  percentage\n",
       "0        0-5    164        0.03\n",
       "2      16-19   2725        0.56\n",
       "3      20-24  12518        2.59\n",
       "4      25-29  31260        6.47\n",
       "5      30-34  50828       10.52\n",
       "6      35-39  54800       11.34\n",
       "7      40-44  60115       12.44\n",
       "8      45-49  57666       11.94\n",
       "9      50-54  56429       11.68\n",
       "10     55-59  51944       10.75\n",
       "11     60-64  39918        8.26\n",
       "12     65-70  31123        6.44\n",
       "13       >70  33627        6.96"
      ]
     },
     "execution_count": 52,
     "metadata": {},
     "output_type": "execute_result"
    }
   ],
   "source": [
    "age_range_pc = df_age_range.groupby(by = df_age_range.age_range)['user_id'].count().reset_index()\n",
    "age_range_pc = age_range_pc.rename(columns = {'user_id': 'count'})\n",
    "age_range_pc['percentage'] = age_range_pc['count'].apply(lambda x: x*100/age_range_pc['count'].sum())\n",
    "age_range_pc = age_range_pc.sort_values(by = 'age_range', ascending = True)\n",
    "age_range_pc.reset_index(drop=True, inplace=True)\n",
    "age_range_pc = age_range_pc.round(2)\n",
    "age_range_pc = age_range_pc.loc[~age_range_pc['age_range'].isin(exclude_age_range)]\n",
    "age_range_pc\n",
    "\n",
    "# df_age_range.loc[df.age_range == 'NA']\n",
    "# df_age_range['age_range'].value_counts()"
   ]
  },
  {
   "cell_type": "code",
   "execution_count": 53,
   "metadata": {},
   "outputs": [
    {
     "data": {
      "image/png": "[encoded data removed]",
      "text/plain": [
       "<Figure size 432x288 with 1 Axes>"
      ]
     },
     "metadata": {},
     "output_type": "display_data"
    }
   ],
   "source": [
    "sns.barplot(data = age_range_pc, x = 'age_range', y = 'percentage', order = age_range_pc['age_range'])\n",
    "\n",
    "plt.title('Distribution of age range (percentage)')\n",
    "plt.xticks(rotation = 'vertical')\n",
    "plt.show()"
   ]
  },
  {
   "cell_type": "markdown",
   "metadata": {},
   "source": [
    "Interpretation\n",
    "- Null values represented a significant percentage of the age range with 18% which has been excluded from the plot. \n",
    "    - Re-send forms to collect information for those users since it represents a significant portion of the total number of the audience. \n",
    "- Age range with the highest percentage of audience are in the 40 - 44 age range, followed by 45 - 49 age range with 12.44% and 11.94% respectively. \n",
    "- The 16 - 19 and 20 - 24 age range are amongst the lowest with 0.56% and 2.59% respectively. These age ranges have a lower percentage than the >70 age range by a significant margin. "
   ]
  },
  {
   "cell_type": "markdown",
   "metadata": {},
   "source": [
    "**Distribution of gender**"
   ]
  },
  {
   "cell_type": "code",
   "execution_count": 49,
   "metadata": {},
   "outputs": [
    {
     "data": {
      "text/html": [
       "<div>\n",
       "<style scoped>\n",
       "    .dataframe tbody tr th:only-of-type {\n",
       "        vertical-align: middle;\n",
       "    }\n",
       "\n",
       "    .dataframe tbody tr th {\n",
       "        vertical-align: top;\n",
       "    }\n",
       "\n",
       "    .dataframe thead th {\n",
       "        text-align: right;\n",
       "    }\n",
       "</style>\n",
       "<table border=\"1\" class=\"dataframe\">\n",
       "  <thead>\n",
       "    <tr style=\"text-align: right;\">\n",
       "      <th></th>\n",
       "      <th>gender</th>\n",
       "      <th>count</th>\n",
       "      <th>percentage</th>\n",
       "    </tr>\n",
       "  </thead>\n",
       "  <tbody>\n",
       "    <tr>\n",
       "      <th>0</th>\n",
       "      <td>male</td>\n",
       "      <td>385149</td>\n",
       "      <td>83.65</td>\n",
       "    </tr>\n",
       "    <tr>\n",
       "      <th>1</th>\n",
       "      <td>female</td>\n",
       "      <td>48156</td>\n",
       "      <td>10.46</td>\n",
       "    </tr>\n",
       "    <tr>\n",
       "      <th>2</th>\n",
       "      <td>prefer not to say</td>\n",
       "      <td>24913</td>\n",
       "      <td>5.41</td>\n",
       "    </tr>\n",
       "    <tr>\n",
       "      <th>3</th>\n",
       "      <td>other</td>\n",
       "      <td>2212</td>\n",
       "      <td>0.48</td>\n",
       "    </tr>\n",
       "  </tbody>\n",
       "</table>\n",
       "</div>"
      ],
      "text/plain": [
       "              gender   count  percentage\n",
       "0               male  385149       83.65\n",
       "1             female   48156       10.46\n",
       "2  prefer not to say   24913        5.41\n",
       "3              other    2212        0.48"
      ]
     },
     "execution_count": 49,
     "metadata": {},
     "output_type": "execute_result"
    }
   ],
   "source": [
    "gender_pc = df_gender.groupby(by = 'gender')['user_id'].count().reset_index()\n",
    "gender_pc = gender_pc.rename(columns = {'user_id': 'count'})\n",
    "gender_pc['percentage'] = gender_pc['count'].apply(lambda x: x*100/gender_pc['count'].sum())\n",
    "gender_pc = gender_pc.sort_values(by = 'percentage', ascending = False)\n",
    "gender_pc.reset_index(drop=True, inplace=True)\n",
    "gender_pc = gender_pc.round(2)\n",
    "gender_pc = gender_pc.loc[~gender_pc['gender'].isin(exclude_na)]\n",
    "gender_pc"
   ]
  },
  {
   "cell_type": "code",
   "execution_count": 51,
   "metadata": {},
   "outputs": [
    {
     "data": {
      "image/png": "[encoded data removed]",
      "text/plain": [
       "<Figure size 432x288 with 1 Axes>"
      ]
     },
     "metadata": {},
     "output_type": "display_data"
    }
   ],
   "source": [
    "sns.barplot(data = gender_pc, x = 'gender', y = 'percentage', order = gender_pc['gender'])\n",
    "\n",
    "plt.title('Distribution of gender (percentage)')\n",
    "plt.xticks(rotation = 'vertical')\n",
    "plt.show()"
   ]
  },
  {
   "cell_type": "markdown",
   "metadata": {},
   "source": [
    "Interpretation\n",
    "- Null values represented 22% of the audience and have been excluded from the plot. Vast majority of the audience wihtout age range information were also missing information on their gender. Since it represents a significant portion, it's worth acquiring this information from this group of audience. \n",
    "- Males make up a overwhelming majority of the audience with 83.65%. This is significantly greater than the female audience with 10.46%. "
   ]
  },
  {
   "cell_type": "markdown",
   "metadata": {},
   "source": [
    "**Distribution of age range by gender**"
   ]
  },
  {
   "cell_type": "code",
   "execution_count": 67,
   "metadata": {},
   "outputs": [
    {
     "data": {
      "text/html": [
       "<div>\n",
       "<style scoped>\n",
       "    .dataframe tbody tr th:only-of-type {\n",
       "        vertical-align: middle;\n",
       "    }\n",
       "\n",
       "    .dataframe tbody tr th {\n",
       "        vertical-align: top;\n",
       "    }\n",
       "\n",
       "    .dataframe thead th {\n",
       "        text-align: right;\n",
       "    }\n",
       "</style>\n",
       "<table border=\"1\" class=\"dataframe\">\n",
       "  <thead>\n",
       "    <tr style=\"text-align: right;\">\n",
       "      <th>gender</th>\n",
       "      <th>NA</th>\n",
       "      <th>female</th>\n",
       "      <th>male</th>\n",
       "      <th>other</th>\n",
       "      <th>prefer not to say</th>\n",
       "    </tr>\n",
       "    <tr>\n",
       "      <th>age_range</th>\n",
       "      <th></th>\n",
       "      <th></th>\n",
       "      <th></th>\n",
       "      <th></th>\n",
       "      <th></th>\n",
       "    </tr>\n",
       "  </thead>\n",
       "  <tbody>\n",
       "    <tr>\n",
       "      <th>0-5</th>\n",
       "      <td>0.029806</td>\n",
       "      <td>0.002277</td>\n",
       "      <td>0.001449</td>\n",
       "      <td>0.000000</td>\n",
       "      <td>0.000414</td>\n",
       "    </tr>\n",
       "    <tr>\n",
       "      <th>16-19</th>\n",
       "      <td>0.109497</td>\n",
       "      <td>0.078035</td>\n",
       "      <td>0.346500</td>\n",
       "      <td>0.003933</td>\n",
       "      <td>0.026081</td>\n",
       "    </tr>\n",
       "    <tr>\n",
       "      <th>20-24</th>\n",
       "      <td>0.249422</td>\n",
       "      <td>0.256253</td>\n",
       "      <td>1.914236</td>\n",
       "      <td>0.029392</td>\n",
       "      <td>0.141788</td>\n",
       "    </tr>\n",
       "    <tr>\n",
       "      <th>25-29</th>\n",
       "      <td>0.228102</td>\n",
       "      <td>0.540449</td>\n",
       "      <td>5.391862</td>\n",
       "      <td>0.035188</td>\n",
       "      <td>0.274882</td>\n",
       "    </tr>\n",
       "    <tr>\n",
       "      <th>30-34</th>\n",
       "      <td>0.560734</td>\n",
       "      <td>0.788422</td>\n",
       "      <td>8.528990</td>\n",
       "      <td>0.056094</td>\n",
       "      <td>0.586607</td>\n",
       "    </tr>\n",
       "    <tr>\n",
       "      <th>35-39</th>\n",
       "      <td>0.652223</td>\n",
       "      <td>0.817607</td>\n",
       "      <td>9.233995</td>\n",
       "      <td>0.045745</td>\n",
       "      <td>0.593438</td>\n",
       "    </tr>\n",
       "    <tr>\n",
       "      <th>40-44</th>\n",
       "      <td>0.768137</td>\n",
       "      <td>0.946355</td>\n",
       "      <td>9.978121</td>\n",
       "      <td>0.055059</td>\n",
       "      <td>0.695484</td>\n",
       "    </tr>\n",
       "    <tr>\n",
       "      <th>45-49</th>\n",
       "      <td>0.835408</td>\n",
       "      <td>1.009486</td>\n",
       "      <td>9.465409</td>\n",
       "      <td>0.036637</td>\n",
       "      <td>0.589298</td>\n",
       "    </tr>\n",
       "    <tr>\n",
       "      <th>50-54</th>\n",
       "      <td>0.890468</td>\n",
       "      <td>1.098699</td>\n",
       "      <td>9.008998</td>\n",
       "      <td>0.051540</td>\n",
       "      <td>0.630489</td>\n",
       "    </tr>\n",
       "    <tr>\n",
       "      <th>55-59</th>\n",
       "      <td>0.801462</td>\n",
       "      <td>1.175285</td>\n",
       "      <td>8.206708</td>\n",
       "      <td>0.032911</td>\n",
       "      <td>0.535481</td>\n",
       "    </tr>\n",
       "    <tr>\n",
       "      <th>60-64</th>\n",
       "      <td>0.635871</td>\n",
       "      <td>0.996653</td>\n",
       "      <td>6.210297</td>\n",
       "      <td>0.021527</td>\n",
       "      <td>0.398247</td>\n",
       "    </tr>\n",
       "    <tr>\n",
       "      <th>65-70</th>\n",
       "      <td>0.498637</td>\n",
       "      <td>0.945734</td>\n",
       "      <td>4.700518</td>\n",
       "      <td>0.020906</td>\n",
       "      <td>0.276331</td>\n",
       "    </tr>\n",
       "    <tr>\n",
       "      <th>&gt;70</th>\n",
       "      <td>0.472556</td>\n",
       "      <td>1.154586</td>\n",
       "      <td>4.883910</td>\n",
       "      <td>0.063339</td>\n",
       "      <td>0.386035</td>\n",
       "    </tr>\n",
       "  </tbody>\n",
       "</table>\n",
       "</div>"
      ],
      "text/plain": [
       "gender           NA    female      male     other  prefer not to say\n",
       "age_range                                                           \n",
       "0-5        0.029806  0.002277  0.001449  0.000000           0.000414\n",
       "16-19      0.109497  0.078035  0.346500  0.003933           0.026081\n",
       "20-24      0.249422  0.256253  1.914236  0.029392           0.141788\n",
       "25-29      0.228102  0.540449  5.391862  0.035188           0.274882\n",
       "30-34      0.560734  0.788422  8.528990  0.056094           0.586607\n",
       "35-39      0.652223  0.817607  9.233995  0.045745           0.593438\n",
       "40-44      0.768137  0.946355  9.978121  0.055059           0.695484\n",
       "45-49      0.835408  1.009486  9.465409  0.036637           0.589298\n",
       "50-54      0.890468  1.098699  9.008998  0.051540           0.630489\n",
       "55-59      0.801462  1.175285  8.206708  0.032911           0.535481\n",
       "60-64      0.635871  0.996653  6.210297  0.021527           0.398247\n",
       "65-70      0.498637  0.945734  4.700518  0.020906           0.276331\n",
       ">70        0.472556  1.154586  4.883910  0.063339           0.386035"
      ]
     },
     "execution_count": 67,
     "metadata": {},
     "output_type": "execute_result"
    }
   ],
   "source": [
    "gender_age_range_piv = pd.pivot_table(data = df_age_range, values = 'user_id', index = 'age_range', columns = 'gender', aggfunc = 'count').fillna(0).astype('int')\n",
    "gender_age_range_piv_pc = (100 * gender_age_range_piv/gender_age_range_piv.sum().sum())\n",
    "gender_age_range_piv_pc"
   ]
  },
  {
   "cell_type": "code",
   "execution_count": 68,
   "metadata": {},
   "outputs": [
    {
     "data": {
      "image/png": "[encoded data removed]",
      "text/plain": [
       "<Figure size 432x288 with 1 Axes>"
      ]
     },
     "metadata": {},
     "output_type": "display_data"
    }
   ],
   "source": [
    "gender_age_range_piv.plot(kind = 'bar')\n",
    "plt.title('Distribution of age range by gender')\n",
    "plt.show()"
   ]
  },
  {
   "cell_type": "code",
   "execution_count": 69,
   "metadata": {},
   "outputs": [
    {
     "data": {
      "text/plain": [
       "<AxesSubplot:xlabel='age_range'>"
      ]
     },
     "execution_count": 69,
     "metadata": {},
     "output_type": "execute_result"
    },
    {
     "data": {
      "image/png": "[encoded data removed]",
      "text/plain": [
       "<Figure size 432x288 with 1 Axes>"
      ]
     },
     "metadata": {},
     "output_type": "display_data"
    }
   ],
   "source": [
    "gender_age_range_piv_pc.plot(kind = 'bar')"
   ]
  },
  {
   "cell_type": "markdown",
   "metadata": {},
   "source": [
    "Interpretation\n",
    "- Predictably, there is a much larger male audience across every age group by a significant margin. \n",
    "- Males in the age range 40 - 44 and 45 - 49 have the highest percentage with 10% and 9.5% respectively.\n",
    "- The most popular age range amongst females is slightly older than males. Amonsgt females, the 55 - 59 and > 70 age range are the most popular with 1.18% and 1.15% respectively. "
   ]
  },
  {
   "cell_type": "markdown",
   "metadata": {},
   "source": [
    "**Distribution of app_type**"
   ]
  },
  {
   "cell_type": "code",
   "execution_count": 144,
   "metadata": {},
   "outputs": [
    {
     "data": {
      "text/html": [
       "<div>\n",
       "<style scoped>\n",
       "    .dataframe tbody tr th:only-of-type {\n",
       "        vertical-align: middle;\n",
       "    }\n",
       "\n",
       "    .dataframe tbody tr th {\n",
       "        vertical-align: top;\n",
       "    }\n",
       "\n",
       "    .dataframe thead th {\n",
       "        text-align: right;\n",
       "    }\n",
       "</style>\n",
       "<table border=\"1\" class=\"dataframe\">\n",
       "  <thead>\n",
       "    <tr style=\"text-align: right;\">\n",
       "      <th></th>\n",
       "      <th>app_type</th>\n",
       "      <th>count</th>\n",
       "      <th>percentage</th>\n",
       "    </tr>\n",
       "  </thead>\n",
       "  <tbody>\n",
       "    <tr>\n",
       "      <th>0</th>\n",
       "      <td>responsive</td>\n",
       "      <td>403576</td>\n",
       "      <td>68.423703</td>\n",
       "    </tr>\n",
       "    <tr>\n",
       "      <th>1</th>\n",
       "      <td>mobile-app</td>\n",
       "      <td>182822</td>\n",
       "      <td>30.996289</td>\n",
       "    </tr>\n",
       "    <tr>\n",
       "      <th>2</th>\n",
       "      <td>NA</td>\n",
       "      <td>3402</td>\n",
       "      <td>0.576787</td>\n",
       "    </tr>\n",
       "    <tr>\n",
       "      <th>3</th>\n",
       "      <td>amp</td>\n",
       "      <td>19</td>\n",
       "      <td>0.003221</td>\n",
       "    </tr>\n",
       "  </tbody>\n",
       "</table>\n",
       "</div>"
      ],
      "text/plain": [
       "     app_type   count  percentage\n",
       "0  responsive  403576   68.423703\n",
       "1  mobile-app  182822   30.996289\n",
       "2          NA    3402    0.576787\n",
       "3         amp      19    0.003221"
      ]
     },
     "execution_count": 144,
     "metadata": {},
     "output_type": "execute_result"
    }
   ],
   "source": [
    "app_type_pc = df.groupby(by = 'app_type')['user_id'].count().reset_index()\n",
    "app_type_pc = app_type_pc.rename(columns = {'user_id': 'count'})\n",
    "app_type_pc['percentage'] = app_type_pc['count'].apply(lambda x: x*100/app_type_pc['count'].sum())\n",
    "app_type_pc = app_type_pc.sort_values(by = 'percentage', ascending = False)\n",
    "app_type_pc.reset_index(drop=True, inplace=True)\n",
    "app_type_pc"
   ]
  },
  {
   "cell_type": "markdown",
   "metadata": {},
   "source": [
    "**Distribution of device type**"
   ]
  },
  {
   "cell_type": "code",
   "execution_count": 142,
   "metadata": {},
   "outputs": [
    {
     "data": {
      "text/html": [
       "<div>\n",
       "<style scoped>\n",
       "    .dataframe tbody tr th:only-of-type {\n",
       "        vertical-align: middle;\n",
       "    }\n",
       "\n",
       "    .dataframe tbody tr th {\n",
       "        vertical-align: top;\n",
       "    }\n",
       "\n",
       "    .dataframe thead th {\n",
       "        text-align: right;\n",
       "    }\n",
       "</style>\n",
       "<table border=\"1\" class=\"dataframe\">\n",
       "  <thead>\n",
       "    <tr style=\"text-align: right;\">\n",
       "      <th></th>\n",
       "      <th>device_type</th>\n",
       "      <th>count</th>\n",
       "      <th>percentage</th>\n",
       "    </tr>\n",
       "  </thead>\n",
       "  <tbody>\n",
       "    <tr>\n",
       "      <th>0</th>\n",
       "      <td>Smartphone</td>\n",
       "      <td>328642</td>\n",
       "      <td>55.719127</td>\n",
       "    </tr>\n",
       "    <tr>\n",
       "      <th>1</th>\n",
       "      <td>Desktop</td>\n",
       "      <td>227165</td>\n",
       "      <td>38.514358</td>\n",
       "    </tr>\n",
       "    <tr>\n",
       "      <th>2</th>\n",
       "      <td>Tablet</td>\n",
       "      <td>33898</td>\n",
       "      <td>5.747187</td>\n",
       "    </tr>\n",
       "    <tr>\n",
       "      <th>3</th>\n",
       "      <td>Smart TV</td>\n",
       "      <td>70</td>\n",
       "      <td>0.011868</td>\n",
       "    </tr>\n",
       "    <tr>\n",
       "      <th>4</th>\n",
       "      <td>Console</td>\n",
       "      <td>44</td>\n",
       "      <td>0.007460</td>\n",
       "    </tr>\n",
       "  </tbody>\n",
       "</table>\n",
       "</div>"
      ],
      "text/plain": [
       "  device_type   count  percentage\n",
       "0  Smartphone  328642   55.719127\n",
       "1     Desktop  227165   38.514358\n",
       "2      Tablet   33898    5.747187\n",
       "3    Smart TV      70    0.011868\n",
       "4     Console      44    0.007460"
      ]
     },
     "execution_count": 142,
     "metadata": {},
     "output_type": "execute_result"
    }
   ],
   "source": [
    "device_type_pc = df.groupby(by = 'device_type')['user_id'].count().reset_index()\n",
    "device_type_pc = device_type_pc.rename(columns = {'user_id': 'count'})\n",
    "device_type_pc['percentage'] = device_type_pc['count'].apply(lambda x: x*100/device_type_pc['count'].sum())\n",
    "device_type_pc = device_type_pc.sort_values(by = 'percentage', ascending = False)\n",
    "device_type_pc.reset_index(drop=True, inplace=True)\n",
    "device_type_pc"
   ]
  },
  {
   "cell_type": "code",
   "execution_count": 145,
   "metadata": {},
   "outputs": [
    {
     "data": {
      "image/png": "[encoded data removed]",
      "text/plain": [
       "<Figure size 756x252 with 2 Axes>"
      ]
     },
     "metadata": {},
     "output_type": "display_data"
    }
   ],
   "source": [
    "fig, axes = plt.subplots(1, 2, figsize = (10.5, 3.5))\n",
    "\n",
    "sns.barplot(x = 'app_type', y = 'percentage', data = app_type_pc, ax = axes[0])\n",
    "axes[0].set_title('Distribution of app type (percentage)')\n",
    "\n",
    "sns.barplot(x = 'device_type', y = 'percentage', data = device_type_pc, ax = axes[1])\n",
    "axes[1].set_title('Distribution of device type (percentage)')\n",
    "\n",
    "plt.show()"
   ]
  },
  {
   "cell_type": "markdown",
   "metadata": {},
   "source": [
    "**Relationship betweeen app type and device type**"
   ]
  },
  {
   "cell_type": "markdown",
   "metadata": {},
   "source": [
    "pd.pivot_table(data = df, values= 'user_id', index = 'app_type', columns = 'device_type', aggfunc = 'count').plot(kind = 'bar')"
   ]
  },
  {
   "cell_type": "code",
   "execution_count": null,
   "metadata": {},
   "outputs": [],
   "source": [
    "app_device_piv = pd.pivot_table(data = df, values= 'user_id', index = 'device_type', columns = df['app_type'], aggfunc = 'count').fillna(0).astype('int')\n",
    "app_device_piv"
   ]
  },
  {
   "cell_type": "code",
   "execution_count": null,
   "metadata": {},
   "outputs": [],
   "source": [
    "ax = app_device_piv.plot(kind = 'bar')\n",
    "# for p in ax.patches:\n",
    "#     ax.annotate(str(p.get_height()), (p.get_x() * 1.005, p.get_height() * 1.005))"
   ]
  },
  {
   "cell_type": "markdown",
   "metadata": {},
   "source": [
    "Interpretation:\n",
    "- In terms of app type:\n",
    "    - Negligible number of users are accessing the site using amp. A small minority have an unknown app type.\n",
    "    - An overwhelming majority aer split between responsive and mobile app, with responsive being the most popular. Just under 70% of the users are in the responsive category and around 30% are using a mobile app. \n",
    "    - Responsive is more popular for all devices. Desktop users vastly opt for the responsive app type whereas for smartphone users, responsive and mobile apps are more evenly split. \n",
    "- In terms of device type:\n",
    "    - Vast majority of the users are split between desktop and smartphone, with a small minority using tablets. \n",
    "    - Negligible number of users are accessing the web page using console and smart TVs. "
   ]
  },
  {
   "cell_type": "code",
   "execution_count": null,
   "metadata": {},
   "outputs": [],
   "source": []
  },
  {
   "cell_type": "code",
   "execution_count": null,
   "metadata": {},
   "outputs": [],
   "source": []
  },
  {
   "cell_type": "code",
   "execution_count": null,
   "metadata": {},
   "outputs": [],
   "source": []
  },
  {
   "cell_type": "markdown",
   "metadata": {},
   "source": [
    "Rough  - changing colours of the bar plot"
   ]
  },
  {
   "cell_type": "markdown",
   "metadata": {},
   "source": [
    "colors = {'Console': 'purple', 'Desktop': 'red', 'Smart TV': 'black', 'Smartphone': 'green', 'Tablet': 'blue'}\n",
    "df['color'] = df['device_type'].apply(lambda x: colors[x])\n",
    "df.head()"
   ]
  },
  {
   "cell_type": "markdown",
   "metadata": {},
   "source": [
    "sns.countplot(data = df)"
   ]
  },
  {
   "cell_type": "markdown",
   "metadata": {},
   "source": [
    "**Distribution of the countries from which the users accessed the site (geo_country_site_visited)**"
   ]
  },
  {
   "cell_type": "code",
   "execution_count": null,
   "metadata": {},
   "outputs": [],
   "source": [
    "# df['geo_country_site_visited'].value_counts().reset_index().sort_values(by = 'geo_country_site_visited', ascending = False)\n",
    "geo_country_site_visited_pc = df.groupby(by = 'geo_country_site_visited')['user_id'].count().reset_index()\n",
    "geo_country_site_visited_pc = geo_country_site_visited_pc.rename(columns = {'user_id': 'count'})\n",
    "geo_country_site_visited_pc['percentage'] = geo_country_site_visited_pc['count'].apply(lambda x: x*100/geo_country_site_visited_pc['count'].sum())\n",
    "geo_country_site_visited_pc = geo_country_site_visited_pc.sort_values(by = 'percentage', ascending = False)\n",
    "geo_country_site_visited_pc.reset_index(drop=True, inplace=True)\n",
    "geo_country_site_visited_pc"
   ]
  },
  {
   "cell_type": "markdown",
   "metadata": {},
   "source": [
    "Interpretation:\n",
    "- Users visited the site from 103 countries worldwide, ranging from Europe, Asia, South America, Africa and the Caribbean islands. \n",
    "- Although there were users from over 100 countries, 99.2% of the users who visited the site or app from the UK. Followed by British Islands such as Jersey, Isle of Man and Guernsey making up around 0.1% - 0.2% of the total users. \n",
    "- The rest of the top 10 countries were all Western European countries except the United States and the UAE. \n"
   ]
  },
  {
   "cell_type": "markdown",
   "metadata": {},
   "source": [
    "**Distribution of Nation**"
   ]
  },
  {
   "cell_type": "code",
   "execution_count": null,
   "metadata": {},
   "outputs": [],
   "source": [
    "nation_pc = df.groupby(by = 'nation')['user_id'].count().reset_index()\n",
    "nation_pc = nation_pc.rename(columns = {'user_id': 'count'})\n",
    "nation_pc['percentage'] = nation_pc['count'].apply(lambda x: x*100/nation_pc['count'].sum())\n",
    "nation_pc = nation_pc.sort_values(by = 'percentage', ascending = False)\n",
    "nation_pc.reset_index(drop=True, inplace=True)\n",
    "nation_pc = nation_pc.round(2)\n",
    "nation_pc"
   ]
  },
  {
   "cell_type": "code",
   "execution_count": null,
   "metadata": {},
   "outputs": [],
   "source": [
    "ax = sns.barplot(data = nation_pc, x = 'nation', y = 'percentage', order = nation_pc['nation'])\n",
    "for p in ax.patches:\n",
    "    ax.annotate(str(p.get_height()), (p.get_x() * 1.005, p.get_height() * 1.005))\n",
    "    \n",
    "# for container in ax.containers:\n",
    "#     ax.bar_label(container)\n",
    "plt.show()"
   ]
  },
  {
   "cell_type": "markdown",
   "metadata": {},
   "source": [
    "Interpretation:\n",
    "- Users' accounts were linked to either England, Scotland, Wales or Northern Ireland. \n",
    "- Around 4% of the user's nation were unknown. \n",
    "- Vast majority of the users were linked to England, making up around 82% of the total users. Followed by Scotland with 7.8%. NI makes up the least percentage of users with 1.9%. "
   ]
  },
  {
   "cell_type": "code",
   "execution_count": null,
   "metadata": {},
   "outputs": [],
   "source": []
  },
  {
   "cell_type": "markdown",
   "metadata": {},
   "source": [
    "**Distribution of barb_region**"
   ]
  },
  {
   "cell_type": "code",
   "execution_count": null,
   "metadata": {},
   "outputs": [],
   "source": [
    "barb_region_pc = df.groupby(by = 'barb_region')['user_id'].count().reset_index()\n",
    "barb_region_pc = barb_region_pc.rename(columns = {'user_id': 'count'})\n",
    "barb_region_pc['percentage'] = barb_region_pc['count'].apply(lambda x: x*100/barb_region_pc['count'].sum())\n",
    "barb_region_pc = barb_region_pc.sort_values(by = 'percentage', ascending = False)\n",
    "barb_region_pc.reset_index(drop=True, inplace=True)\n",
    "barb_region_pc = barb_region_pc.round(2)\n",
    "barb_region_pc"
   ]
  },
  {
   "cell_type": "code",
   "execution_count": null,
   "metadata": {},
   "outputs": [],
   "source": []
  },
  {
   "cell_type": "code",
   "execution_count": 132,
   "metadata": {},
   "outputs": [
    {
     "data": {
      "text/html": [
       "<div>\n",
       "<style scoped>\n",
       "    .dataframe tbody tr th:only-of-type {\n",
       "        vertical-align: middle;\n",
       "    }\n",
       "\n",
       "    .dataframe tbody tr th {\n",
       "        vertical-align: top;\n",
       "    }\n",
       "\n",
       "    .dataframe thead th {\n",
       "        text-align: right;\n",
       "    }\n",
       "</style>\n",
       "<table border=\"1\" class=\"dataframe\">\n",
       "  <thead>\n",
       "    <tr style=\"text-align: right;\">\n",
       "      <th></th>\n",
       "      <th>age_range</th>\n",
       "      <th>count</th>\n",
       "      <th>percentage</th>\n",
       "    </tr>\n",
       "  </thead>\n",
       "  <tbody>\n",
       "    <tr>\n",
       "      <th>0</th>\n",
       "      <td>NA</td>\n",
       "      <td>105710</td>\n",
       "      <td>17.92</td>\n",
       "    </tr>\n",
       "    <tr>\n",
       "      <th>1</th>\n",
       "      <td>40-44</td>\n",
       "      <td>60115</td>\n",
       "      <td>10.19</td>\n",
       "    </tr>\n",
       "    <tr>\n",
       "      <th>2</th>\n",
       "      <td>45-49</td>\n",
       "      <td>57666</td>\n",
       "      <td>9.78</td>\n",
       "    </tr>\n",
       "    <tr>\n",
       "      <th>3</th>\n",
       "      <td>50-54</td>\n",
       "      <td>56429</td>\n",
       "      <td>9.57</td>\n",
       "    </tr>\n",
       "    <tr>\n",
       "      <th>4</th>\n",
       "      <td>35-39</td>\n",
       "      <td>54800</td>\n",
       "      <td>9.29</td>\n",
       "    </tr>\n",
       "    <tr>\n",
       "      <th>5</th>\n",
       "      <td>55-59</td>\n",
       "      <td>51944</td>\n",
       "      <td>8.81</td>\n",
       "    </tr>\n",
       "    <tr>\n",
       "      <th>6</th>\n",
       "      <td>30-34</td>\n",
       "      <td>50828</td>\n",
       "      <td>8.62</td>\n",
       "    </tr>\n",
       "    <tr>\n",
       "      <th>7</th>\n",
       "      <td>60-64</td>\n",
       "      <td>39918</td>\n",
       "      <td>6.77</td>\n",
       "    </tr>\n",
       "    <tr>\n",
       "      <th>8</th>\n",
       "      <td>&gt;70</td>\n",
       "      <td>33627</td>\n",
       "      <td>5.70</td>\n",
       "    </tr>\n",
       "    <tr>\n",
       "      <th>9</th>\n",
       "      <td>25-29</td>\n",
       "      <td>31260</td>\n",
       "      <td>5.30</td>\n",
       "    </tr>\n",
       "    <tr>\n",
       "      <th>10</th>\n",
       "      <td>65-70</td>\n",
       "      <td>31123</td>\n",
       "      <td>5.28</td>\n",
       "    </tr>\n",
       "    <tr>\n",
       "      <th>11</th>\n",
       "      <td>20-24</td>\n",
       "      <td>12518</td>\n",
       "      <td>2.12</td>\n",
       "    </tr>\n",
       "    <tr>\n",
       "      <th>12</th>\n",
       "      <td>16-19</td>\n",
       "      <td>2725</td>\n",
       "      <td>0.46</td>\n",
       "    </tr>\n",
       "    <tr>\n",
       "      <th>13</th>\n",
       "      <td>Nov-15</td>\n",
       "      <td>802</td>\n",
       "      <td>0.14</td>\n",
       "    </tr>\n",
       "    <tr>\n",
       "      <th>14</th>\n",
       "      <td>06-Oct</td>\n",
       "      <td>190</td>\n",
       "      <td>0.03</td>\n",
       "    </tr>\n",
       "    <tr>\n",
       "      <th>15</th>\n",
       "      <td>0-5</td>\n",
       "      <td>164</td>\n",
       "      <td>0.03</td>\n",
       "    </tr>\n",
       "  </tbody>\n",
       "</table>\n",
       "</div>"
      ],
      "text/plain": [
       "   age_range   count  percentage\n",
       "0         NA  105710       17.92\n",
       "1      40-44   60115       10.19\n",
       "2      45-49   57666        9.78\n",
       "3      50-54   56429        9.57\n",
       "4      35-39   54800        9.29\n",
       "5      55-59   51944        8.81\n",
       "6      30-34   50828        8.62\n",
       "7      60-64   39918        6.77\n",
       "8        >70   33627        5.70\n",
       "9      25-29   31260        5.30\n",
       "10     65-70   31123        5.28\n",
       "11     20-24   12518        2.12\n",
       "12     16-19    2725        0.46\n",
       "13    Nov-15     802        0.14\n",
       "14    06-Oct     190        0.03\n",
       "15       0-5     164        0.03"
      ]
     },
     "execution_count": 132,
     "metadata": {},
     "output_type": "execute_result"
    }
   ],
   "source": [
    "age_range_pc = df.groupby(by = 'age_range')['user_id'].count().reset_index()\n",
    "age_range_pc = age_range_pc.rename(columns = {'user_id': 'count'})\n",
    "age_range_pc['percentage'] = age_range_pc['count'].apply(lambda x: x*100/age_range_pc['count'].sum())\n",
    "age_range_pc = age_range_pc.sort_values(by = 'percentage', ascending = False)\n",
    "age_range_pc.reset_index(drop=True, inplace=True)\n",
    "age_range_pc = age_range_pc.round(2)\n",
    "age_range_pc"
   ]
  },
  {
   "cell_type": "code",
   "execution_count": null,
   "metadata": {},
   "outputs": [],
   "source": []
  },
  {
   "cell_type": "code",
   "execution_count": null,
   "metadata": {},
   "outputs": [],
   "source": []
  },
  {
   "cell_type": "code",
   "execution_count": null,
   "metadata": {},
   "outputs": [],
   "source": []
  },
  {
   "cell_type": "code",
   "execution_count": null,
   "metadata": {},
   "outputs": [],
   "source": []
  },
  {
   "cell_type": "code",
   "execution_count": null,
   "metadata": {},
   "outputs": [],
   "source": []
  },
  {
   "cell_type": "code",
   "execution_count": null,
   "metadata": {},
   "outputs": [],
   "source": []
  },
  {
   "cell_type": "markdown",
   "metadata": {},
   "source": [
    "def convert_to_pc(dataframe):\n",
    "    for c in dataframe.columns:\n",
    "        dataframe[c] = dataframe[c].apply(lambda x: x*100/dataframe[c].sum(axis = 1)) \n",
    "    return dataframe \n",
    "    \n",
    "    \n",
    "age_range_device_piv_pc = convert_to_pc(age_range_device_piv)\n",
    "age_range_device_piv_pc.plot(kind = 'bar')"
   ]
  },
  {
   "cell_type": "code",
   "execution_count": null,
   "metadata": {},
   "outputs": [],
   "source": []
  },
  {
   "cell_type": "code",
   "execution_count": null,
   "metadata": {},
   "outputs": [],
   "source": []
  },
  {
   "cell_type": "code",
   "execution_count": null,
   "metadata": {},
   "outputs": [],
   "source": []
  },
  {
   "cell_type": "code",
   "execution_count": null,
   "metadata": {},
   "outputs": [],
   "source": []
  },
  {
   "cell_type": "code",
   "execution_count": null,
   "metadata": {},
   "outputs": [],
   "source": []
  },
  {
   "cell_type": "code",
   "execution_count": null,
   "metadata": {},
   "outputs": [],
   "source": [
    "df.columns"
   ]
  },
  {
   "cell_type": "code",
   "execution_count": 72,
   "metadata": {},
   "outputs": [
    {
     "data": {
      "text/plain": [
       "Index(['user_id', 'app_type', 'device_type', 'geo_country_site_visited',\n",
       "       'gender', 'nation', 'barb_region', 'age_range',\n",
       "       'number_of_visits_to_sport', 'number_of_sport_page_views',\n",
       "       'number_of_sport_articles_read', 'number_of_sport_clips_watched',\n",
       "       'has_visited_homepage', 'has_visited_news', 'has_visited_iplayer',\n",
       "       'videos_watched_on_iplayer', 'has_visited_sounds',\n",
       "       'shows_listened_to_on_sounds'],\n",
       "      dtype='object')"
      ]
     },
     "execution_count": 72,
     "metadata": {},
     "output_type": "execute_result"
    }
   ],
   "source": [
    "df.columns"
   ]
  },
  {
   "cell_type": "markdown",
   "metadata": {},
   "source": [
    "## Access behavior of the audience\n",
    "\n",
    "What type of apps and devices are used by the audience to access the content. Figures such as the following have been recorded:\n",
    "- number_visits_to_sport\n",
    "- number_of_sport_page_views\n",
    "- number_of_sport_articles_read\n",
    "- number_sport_clips_watched\n",
    "\n",
    "We will examine the behaviors of the audience based on type of app or device used to access the site. "
   ]
  },
  {
   "cell_type": "markdown",
   "metadata": {},
   "source": [
    "**Distribution of age range by device type**"
   ]
  },
  {
   "cell_type": "code",
   "execution_count": 138,
   "metadata": {},
   "outputs": [
    {
     "data": {
      "image/png": "[encoded data removed]",
      "text/plain": [
       "<Figure size 432x288 with 1 Axes>"
      ]
     },
     "metadata": {},
     "output_type": "display_data"
    }
   ],
   "source": [
    "age_range_device_piv = pd.pivot_table(data = df_age_range_not_null, values = 'user_id', index = 'age_range', columns = 'device_type', aggfunc = 'count').fillna(0).astype('int')\n",
    "age_range_device_piv.plot(kind = 'bar')\n",
    "\n",
    "plt.title('Distribution of device type by age range')\n",
    "plt.show()"
   ]
  },
  {
   "cell_type": "code",
   "execution_count": 140,
   "metadata": {},
   "outputs": [
    {
     "data": {
      "image/png": "[encoded data removed]",
      "text/plain": [
       "<Figure size 432x288 with 1 Axes>"
      ]
     },
     "metadata": {},
     "output_type": "display_data"
    }
   ],
   "source": [
    "age_range_device_piv_pc = (100 * age_range_device_piv / age_range_device_piv.sum().sum())\n",
    "# age_range_device_piv_pc\n",
    "\n",
    "age_range_device_piv_pc.plot(kind = 'bar')\n",
    "\n",
    "plt.title('Distribution of age range by device type (percentage)')\n",
    "plt.show()"
   ]
  },
  {
   "cell_type": "markdown",
   "metadata": {},
   "source": [
    "Interpretation\n",
    "- Console and Smart TV make up a negligible percentage across all age groups. \n",
    "- As we have established in the previous slide on the distribution of device types used by the audience, the main devices are smartphones, desktop and then tablet. In that order. \n",
    "- There is a clear preference for device type across different age groups. \n",
    "    - "
   ]
  },
  {
   "cell_type": "markdown",
   "metadata": {},
   "source": [
    "**app_type vs number_of_***"
   ]
  },
  {
   "cell_type": "code",
   "execution_count": null,
   "metadata": {},
   "outputs": [],
   "source": [
    "df.groupby(by = ['app_type', 'geo_country_site_visited'])['user_id'].count().reset_index()"
   ]
  },
  {
   "cell_type": "code",
   "execution_count": 112,
   "metadata": {},
   "outputs": [
    {
     "data": {
      "text/html": [
       "<div>\n",
       "<style scoped>\n",
       "    .dataframe tbody tr th:only-of-type {\n",
       "        vertical-align: middle;\n",
       "    }\n",
       "\n",
       "    .dataframe tbody tr th {\n",
       "        vertical-align: top;\n",
       "    }\n",
       "\n",
       "    .dataframe thead th {\n",
       "        text-align: right;\n",
       "    }\n",
       "</style>\n",
       "<table border=\"1\" class=\"dataframe\">\n",
       "  <thead>\n",
       "    <tr style=\"text-align: right;\">\n",
       "      <th></th>\n",
       "      <th>number_of_visits_to_sport</th>\n",
       "      <th>number_of_sport_page_views</th>\n",
       "      <th>number_of_sport_articles_read</th>\n",
       "      <th>number_of_sport_clips_watched</th>\n",
       "    </tr>\n",
       "    <tr>\n",
       "      <th>app_type</th>\n",
       "      <th></th>\n",
       "      <th></th>\n",
       "      <th></th>\n",
       "      <th></th>\n",
       "    </tr>\n",
       "  </thead>\n",
       "  <tbody>\n",
       "    <tr>\n",
       "      <th>NA</th>\n",
       "      <td>1.01176</td>\n",
       "      <td>1.01793</td>\n",
       "      <td>0.92152</td>\n",
       "      <td>0.00000</td>\n",
       "    </tr>\n",
       "    <tr>\n",
       "      <th>amp</th>\n",
       "      <td>1.05263</td>\n",
       "      <td>NaN</td>\n",
       "      <td>0.00000</td>\n",
       "      <td>1.15789</td>\n",
       "    </tr>\n",
       "    <tr>\n",
       "      <th>mobile-app</th>\n",
       "      <td>1.59656</td>\n",
       "      <td>1.92884</td>\n",
       "      <td>1.67002</td>\n",
       "      <td>0.00009</td>\n",
       "    </tr>\n",
       "    <tr>\n",
       "      <th>responsive</th>\n",
       "      <td>1.51264</td>\n",
       "      <td>1.93460</td>\n",
       "      <td>1.54848</td>\n",
       "      <td>0.69645</td>\n",
       "    </tr>\n",
       "  </tbody>\n",
       "</table>\n",
       "</div>"
      ],
      "text/plain": [
       "            number_of_visits_to_sport  number_of_sport_page_views  \\\n",
       "app_type                                                            \n",
       "NA                            1.01176                     1.01793   \n",
       "amp                           1.05263                         NaN   \n",
       "mobile-app                    1.59656                     1.92884   \n",
       "responsive                    1.51264                     1.93460   \n",
       "\n",
       "            number_of_sport_articles_read  number_of_sport_clips_watched  \n",
       "app_type                                                                  \n",
       "NA                                0.92152                        0.00000  \n",
       "amp                               0.00000                        1.15789  \n",
       "mobile-app                        1.67002                        0.00009  \n",
       "responsive                        1.54848                        0.69645  "
      ]
     },
     "execution_count": 112,
     "metadata": {},
     "output_type": "execute_result"
    }
   ],
   "source": [
    "app_no_piv1 = pd.pivot_table(data = df, values = 'number_of_visits_to_sport', index = 'app_type', aggfunc = 'mean')\n",
    "app_no_piv2 = pd.pivot_table(data = df, values = 'number_of_sport_page_views', index = 'app_type', aggfunc = 'mean')\n",
    "app_no_piv3 = pd.pivot_table(data = df, values = 'number_of_sport_articles_read', index = 'app_type', aggfunc = 'mean')\n",
    "app_no_piv4 = pd.pivot_table(data = df, values = 'number_of_sport_clips_watched', index = 'app_type', aggfunc = 'mean')\n",
    "app_no_piv = pd.concat([app_no_piv1, app_no_piv2, app_no_piv3, app_no_piv4], axis=1).round(5)\n",
    "app_no_piv"
   ]
  },
  {
   "cell_type": "code",
   "execution_count": 130,
   "metadata": {},
   "outputs": [
    {
     "data": {
      "text/html": [
       "<div>\n",
       "<style scoped>\n",
       "    .dataframe tbody tr th:only-of-type {\n",
       "        vertical-align: middle;\n",
       "    }\n",
       "\n",
       "    .dataframe tbody tr th {\n",
       "        vertical-align: top;\n",
       "    }\n",
       "\n",
       "    .dataframe thead th {\n",
       "        text-align: right;\n",
       "    }\n",
       "</style>\n",
       "<table border=\"1\" class=\"dataframe\">\n",
       "  <thead>\n",
       "    <tr style=\"text-align: right;\">\n",
       "      <th></th>\n",
       "      <th>number_of_visits_to_sport</th>\n",
       "      <th>number_of_sport_page_views</th>\n",
       "      <th>number_of_sport_articles_read</th>\n",
       "      <th>number_of_sport_clips_watched</th>\n",
       "    </tr>\n",
       "    <tr>\n",
       "      <th>app_type</th>\n",
       "      <th></th>\n",
       "      <th></th>\n",
       "      <th></th>\n",
       "      <th></th>\n",
       "    </tr>\n",
       "  </thead>\n",
       "  <tbody>\n",
       "    <tr>\n",
       "      <th>amp</th>\n",
       "      <td>0.000620</td>\n",
       "      <td>0.000000</td>\n",
       "      <td>0.000000</td>\n",
       "      <td>0.000682</td>\n",
       "    </tr>\n",
       "    <tr>\n",
       "      <th>mobile-app</th>\n",
       "      <td>9.047738</td>\n",
       "      <td>10.930806</td>\n",
       "      <td>9.464066</td>\n",
       "      <td>0.000527</td>\n",
       "    </tr>\n",
       "    <tr>\n",
       "      <th>responsive</th>\n",
       "      <td>18.922923</td>\n",
       "      <td>23.548960</td>\n",
       "      <td>19.371209</td>\n",
       "      <td>8.712469</td>\n",
       "    </tr>\n",
       "  </tbody>\n",
       "</table>\n",
       "</div>"
      ],
      "text/plain": [
       "            number_of_visits_to_sport  number_of_sport_page_views  \\\n",
       "app_type                                                            \n",
       "amp                          0.000620                    0.000000   \n",
       "mobile-app                   9.047738                   10.930806   \n",
       "responsive                  18.922923                   23.548960   \n",
       "\n",
       "            number_of_sport_articles_read  number_of_sport_clips_watched  \n",
       "app_type                                                                  \n",
       "amp                              0.000000                       0.000682  \n",
       "mobile-app                       9.464066                       0.000527  \n",
       "responsive                      19.371209                       8.712469  "
      ]
     },
     "execution_count": 130,
     "metadata": {},
     "output_type": "execute_result"
    }
   ],
   "source": [
    "app_no_piv1 = pd.pivot_table(data = df_app_type, values = 'number_of_visits_to_sport', index = 'app_type', aggfunc = 'sum')\n",
    "app_no_piv2 = pd.pivot_table(data = df_app_type, values = 'number_of_sport_page_views', index = 'app_type', aggfunc = 'sum')\n",
    "app_no_piv3 = pd.pivot_table(data = df_app_type, values = 'number_of_sport_articles_read', index = 'app_type', aggfunc = 'sum')\n",
    "app_no_piv4 = pd.pivot_table(data = df_app_type, values = 'number_of_sport_clips_watched', index = 'app_type', aggfunc = 'sum')\n",
    "app_no_piv = pd.concat([app_no_piv1, app_no_piv2, app_no_piv3, app_no_piv4], axis=1).round(5)\n",
    "# app_no_piv.loc[app_no_piv['app_type'] == 'NA']\n",
    "# app_no_piv.loc[app_no_piv['app_type']]\n",
    "app_no_piv.drop('NA', inplace = True)\n",
    "# app_no_piv\n",
    "app_no_piv_pc = (100*app_no_piv/app_no_piv.sum().sum())\n",
    "app_no_piv_pc\n",
    "# app_no_piv.sum().sum()\n",
    "\n",
    "# gender_pc = gender_pc.loc[~gender_pc['gender'].isin(exclude_na)]"
   ]
  },
  {
   "cell_type": "code",
   "execution_count": 137,
   "metadata": {},
   "outputs": [
    {
     "data": {
      "text/plain": [
       "<AxesSubplot:xlabel='app_type'>"
      ]
     },
     "execution_count": 137,
     "metadata": {},
     "output_type": "execute_result"
    },
    {
     "data": {
      "image/png": "[encoded data removed]",
      "text/plain": [
       "<Figure size 432x288 with 1 Axes>"
      ]
     },
     "metadata": {},
     "output_type": "display_data"
    }
   ],
   "source": [
    "app_no_piv_pc.plot(kind = 'bar')"
   ]
  },
  {
   "cell_type": "code",
   "execution_count": 105,
   "metadata": {},
   "outputs": [
    {
     "data": {
      "text/plain": [
       "3402"
      ]
     },
     "execution_count": 105,
     "metadata": {},
     "output_type": "execute_result"
    }
   ],
   "source": [
    "len(df[df['app_type'] == 'NA'])"
   ]
  },
  {
   "cell_type": "code",
   "execution_count": null,
   "metadata": {},
   "outputs": [],
   "source": [
    "sns.countplot(data = app_no_piv)"
   ]
  },
  {
   "cell_type": "markdown",
   "metadata": {},
   "source": [
    "Interpretation\n",
    "- mobile-app and responsive have comparable activity regarding how they access the sport section, with mobile-app having slightly higher number of visits and number of sports articles read. \n",
    "- Articles are more popular than sport clips amongst our audience. Within the sport clips category, users with the responsive app type access the sport clips by a significant margin. Number of sport clips watched by mobile app users are extremely low. "
   ]
  },
  {
   "cell_type": "markdown",
   "metadata": {},
   "source": [
    "**device_type vs number_of_***"
   ]
  },
  {
   "cell_type": "code",
   "execution_count": 71,
   "metadata": {},
   "outputs": [
    {
     "data": {
      "text/plain": [
       "<AxesSubplot:xlabel='device_type'>"
      ]
     },
     "execution_count": 71,
     "metadata": {},
     "output_type": "execute_result"
    },
    {
     "data": {
      "image/png": "[encoded data removed]",
      "text/plain": [
       "<Figure size 1440x720 with 1 Axes>"
      ]
     },
     "metadata": {},
     "output_type": "display_data"
    }
   ],
   "source": [
    "device_no_piv1 = pd.pivot_table(data = df, values = 'number_of_visits_to_sport', index = 'device_type', aggfunc = 'mean')\n",
    "device_no_piv2 = pd.pivot_table(data = df, values = 'number_of_sport_page_views', index = 'device_type', aggfunc = 'mean')\n",
    "device_no_piv3 = pd.pivot_table(data = df, values = 'number_of_sport_articles_read', index = 'device_type', aggfunc = 'mean')\n",
    "device_no_piv4 = pd.pivot_table(data = df, values = 'number_of_sport_clips_watched', index = 'device_type', aggfunc = 'mean')\n",
    "device_no_piv = pd.concat([device_no_piv1, device_no_piv2, device_no_piv3, device_no_piv4], axis=1).round(5)\n",
    "\n",
    "fig_size = (50,20)\n",
    "device_no_piv.plot(kind = 'bar', legend = True, figsize = (20,10))"
   ]
  },
  {
   "cell_type": "markdown",
   "metadata": {},
   "source": [
    "**device_type and app_type vs number_of_***"
   ]
  },
  {
   "cell_type": "code",
   "execution_count": 107,
   "metadata": {},
   "outputs": [
    {
     "data": {
      "text/plain": [
       "<AxesSubplot:xlabel='device_type,app_type'>"
      ]
     },
     "execution_count": 107,
     "metadata": {},
     "output_type": "execute_result"
    },
    {
     "data": {
      "image/png": "[encoded data removed]",
      "text/plain": [
       "<Figure size 432x288 with 1 Axes>"
      ]
     },
     "metadata": {},
     "output_type": "display_data"
    }
   ],
   "source": [
    "df1 = pd.pivot_table(data = df_app_type, values = 'number_of_visits_to_sport', index = ['device_type', 'app_type'], aggfunc = 'mean')\n",
    "df2 = pd.pivot_table(data = df_app_type, values = 'number_of_sport_page_views', index = ['device_type', 'app_type'], aggfunc = 'mean')\n",
    "df3 = pd.pivot_table(data = df_app_type, values = 'number_of_sport_articles_read', index = ['device_type', 'app_type'], aggfunc = 'mean')\n",
    "df4 = pd.pivot_table(data = df_app_type, values = 'number_of_sport_clips_watched', index = ['device_type', 'app_type'], aggfunc = 'mean')\n",
    "df1234 = pd.concat([df1, df2, df3, df4], axis = 1)\n",
    "df1234.plot(kind = 'bar')"
   ]
  },
  {
   "cell_type": "code",
   "execution_count": null,
   "metadata": {},
   "outputs": [],
   "source": []
  },
  {
   "cell_type": "code",
   "execution_count": null,
   "metadata": {},
   "outputs": [],
   "source": []
  },
  {
   "cell_type": "code",
   "execution_count": null,
   "metadata": {},
   "outputs": [],
   "source": [
    "sns.countplot(data = df, x = 'age_range', hue = 'gender')\n",
    "plt.xticks(rotation = 'vertical')"
   ]
  },
  {
   "cell_type": "code",
   "execution_count": null,
   "metadata": {},
   "outputs": [],
   "source": [
    "df[(df['gender'] == 'NA') & (df['age_range'] == 'NA')]"
   ]
  },
  {
   "cell_type": "code",
   "execution_count": null,
   "metadata": {},
   "outputs": [],
   "source": []
  },
  {
   "cell_type": "code",
   "execution_count": null,
   "metadata": {},
   "outputs": [],
   "source": [
    "# df[df['user_id'].duplicated(keep = False)].sort_values(by = 'user_id', ascending = True)\n",
    "df[df.duplicated(subset = 'user_id', keep = False)].sort_values(by = 'user_id')"
   ]
  },
  {
   "cell_type": "code",
   "execution_count": null,
   "metadata": {},
   "outputs": [],
   "source": [
    "df[df.duplicated(keep = False)].sort_values(by = 'user_id')"
   ]
  },
  {
   "cell_type": "code",
   "execution_count": null,
   "metadata": {},
   "outputs": [],
   "source": []
  },
  {
   "cell_type": "code",
   "execution_count": null,
   "metadata": {},
   "outputs": [],
   "source": []
  },
  {
   "cell_type": "code",
   "execution_count": null,
   "metadata": {},
   "outputs": [],
   "source": []
  },
  {
   "cell_type": "code",
   "execution_count": null,
   "metadata": {},
   "outputs": [],
   "source": []
  },
  {
   "cell_type": "code",
   "execution_count": null,
   "metadata": {},
   "outputs": [],
   "source": []
  },
  {
   "cell_type": "code",
   "execution_count": null,
   "metadata": {},
   "outputs": [],
   "source": [
    "df_new_cols = ['app_type', 'device_type', 'number_of_visits_to_sport', 'number_of_sport_page_views', 'number_of_sport_articles_read', 'number_of_sport_clips_watched']"
   ]
  },
  {
   "cell_type": "code",
   "execution_count": null,
   "metadata": {},
   "outputs": [],
   "source": [
    "df_new = df[df_new_cols]\n",
    "df_new"
   ]
  },
  {
   "cell_type": "code",
   "execution_count": null,
   "metadata": {},
   "outputs": [],
   "source": [
    "sns.pairplot(df_new)"
   ]
  },
  {
   "cell_type": "code",
   "execution_count": null,
   "metadata": {},
   "outputs": [],
   "source": []
  },
  {
   "cell_type": "code",
   "execution_count": null,
   "metadata": {},
   "outputs": [],
   "source": [
    "number_of_visits_to_sport_cp = df['number_of_visits_to_sport'].value_counts().reset_index().sort_values(by = 'index').rename(columns = {'index': 'number_of_visits_to_sport', 'number_of_visits_to_sport': 'count'})\n",
    "number_of_visits_to_sport_cp['cum_percent'] = 100*(number_of_visits_to_sport_cp['count'].cumsum() / number_of_visits_to_sport_cp['count'].sum())\n",
    "number_of_visits_to_sport_cp\n",
    "number_of_visits_to_sport_cp['cum_percent'].plot()"
   ]
  },
  {
   "cell_type": "code",
   "execution_count": null,
   "metadata": {},
   "outputs": [],
   "source": [
    "ax = sns.histplot(data = df, x = 'number_of_visits_to_sport', bins=100)\n",
    "ax\n",
    "plt.show()"
   ]
  },
  {
   "cell_type": "code",
   "execution_count": null,
   "metadata": {},
   "outputs": [],
   "source": []
  },
  {
   "cell_type": "code",
   "execution_count": null,
   "metadata": {},
   "outputs": [],
   "source": []
  },
  {
   "cell_type": "code",
   "execution_count": null,
   "metadata": {},
   "outputs": [],
   "source": [
    "penguins = sns.load_dataset('penguins')\n",
    "penguins.head()"
   ]
  },
  {
   "cell_type": "code",
   "execution_count": null,
   "metadata": {},
   "outputs": [],
   "source": [
    "sns.pairplot(penguins, hue = 'sex')"
   ]
  },
  {
   "cell_type": "code",
   "execution_count": null,
   "metadata": {},
   "outputs": [],
   "source": []
  },
  {
   "cell_type": "code",
   "execution_count": null,
   "metadata": {},
   "outputs": [],
   "source": []
  },
  {
   "cell_type": "code",
   "execution_count": null,
   "metadata": {},
   "outputs": [],
   "source": []
  },
  {
   "cell_type": "code",
   "execution_count": null,
   "metadata": {},
   "outputs": [],
   "source": []
  },
  {
   "cell_type": "code",
   "execution_count": null,
   "metadata": {},
   "outputs": [],
   "source": []
  },
  {
   "cell_type": "code",
   "execution_count": null,
   "metadata": {},
   "outputs": [],
   "source": []
  },
  {
   "cell_type": "code",
   "execution_count": null,
   "metadata": {},
   "outputs": [],
   "source": [
    "# Selecting rows based on multiple column conditions\n",
    "\n",
    "# df.loc[(df['age_range'] == '30-34') &( df['device_type'] == 'Desktop')]"
   ]
  },
  {
   "cell_type": "code",
   "execution_count": null,
   "metadata": {},
   "outputs": [],
   "source": [
    "pd.set_option('display.max_rows', 500)"
   ]
  }
 ],
 "metadata": {
  "kernelspec": {
   "display_name": "Python 3",
   "language": "python",
   "name": "python3"
  },
  "language_info": {
   "codemirror_mode": {
    "name": "ipython",
    "version": 3
   },
   "file_extension": ".py",
   "mimetype": "text/x-python",
   "name": "python",
   "nbconvert_exporter": "python",
   "pygments_lexer": "ipython3",
   "version": "3.8.5"
  }
 },
 "nbformat": 4,
 "nbformat_minor": 4
}
